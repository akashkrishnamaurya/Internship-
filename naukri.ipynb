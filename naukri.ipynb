{
 "cells": [
  {
   "cell_type": "code",
   "execution_count": 20,
   "id": "6de13066",
   "metadata": {},
   "outputs": [
    {
     "name": "stdout",
     "output_type": "stream",
     "text": [
      "Requirement already satisfied: selenium in c:\\programdata\\anaconda3\\lib\\site-packages (4.2.0)\n",
      "Requirement already satisfied: trio~=0.17 in c:\\programdata\\anaconda3\\lib\\site-packages (from selenium) (0.21.0)\n",
      "Requirement already satisfied: urllib3[secure,socks]~=1.26 in c:\\programdata\\anaconda3\\lib\\site-packages (from selenium) (1.26.7)\n",
      "Requirement already satisfied: trio-websocket~=0.9 in c:\\programdata\\anaconda3\\lib\\site-packages (from selenium) (0.9.2)\n",
      "Requirement already satisfied: cffi>=1.14 in c:\\programdata\\anaconda3\\lib\\site-packages (from trio~=0.17->selenium) (1.14.6)\n",
      "Requirement already satisfied: outcome in c:\\programdata\\anaconda3\\lib\\site-packages (from trio~=0.17->selenium) (1.2.0)\n",
      "Requirement already satisfied: idna in c:\\programdata\\anaconda3\\lib\\site-packages (from trio~=0.17->selenium) (3.2)\n",
      "Requirement already satisfied: async-generator>=1.9 in c:\\programdata\\anaconda3\\lib\\site-packages (from trio~=0.17->selenium) (1.10)\n",
      "Requirement already satisfied: sniffio in c:\\programdata\\anaconda3\\lib\\site-packages (from trio~=0.17->selenium) (1.2.0)\n",
      "Requirement already satisfied: sortedcontainers in c:\\programdata\\anaconda3\\lib\\site-packages (from trio~=0.17->selenium) (2.4.0)\n",
      "Requirement already satisfied: attrs>=19.2.0 in c:\\programdata\\anaconda3\\lib\\site-packages (from trio~=0.17->selenium) (21.2.0)\n",
      "Requirement already satisfied: pycparser in c:\\programdata\\anaconda3\\lib\\site-packages (from cffi>=1.14->trio~=0.17->selenium) (2.20)\n",
      "Requirement already satisfied: wsproto>=0.14 in c:\\programdata\\anaconda3\\lib\\site-packages (from trio-websocket~=0.9->selenium) (1.1.0)\n",
      "Requirement already satisfied: PySocks!=1.5.7,<2.0,>=1.5.6 in c:\\programdata\\anaconda3\\lib\\site-packages (from urllib3[secure,socks]~=1.26->selenium) (1.7.1)\n",
      "Requirement already satisfied: pyOpenSSL>=0.14 in c:\\programdata\\anaconda3\\lib\\site-packages (from urllib3[secure,socks]~=1.26->selenium) (21.0.0)\n",
      "Requirement already satisfied: cryptography>=1.3.4 in c:\\programdata\\anaconda3\\lib\\site-packages (from urllib3[secure,socks]~=1.26->selenium) (3.4.8)\n",
      "Requirement already satisfied: certifi in c:\\programdata\\anaconda3\\lib\\site-packages (from urllib3[secure,socks]~=1.26->selenium) (2021.10.8)\n",
      "Requirement already satisfied: six>=1.5.2 in c:\\programdata\\anaconda3\\lib\\site-packages (from pyOpenSSL>=0.14->urllib3[secure,socks]~=1.26->selenium) (1.16.0)\n",
      "Requirement already satisfied: h11<1,>=0.9.0 in c:\\programdata\\anaconda3\\lib\\site-packages (from wsproto>=0.14->trio-websocket~=0.9->selenium) (0.13.0)\n"
     ]
    }
   ],
   "source": [
    "! pip install selenium"
   ]
  },
  {
   "cell_type": "code",
   "execution_count": 21,
   "id": "4e511953",
   "metadata": {},
   "outputs": [],
   "source": [
    "import selenium\n",
    "import pandas as pd\n",
    "from selenium import webdriver\n",
    "import warnings\n",
    "warnings.filterwarnings(\"ignore\")\n",
    "import time"
   ]
  },
  {
   "cell_type": "code",
   "execution_count": 22,
   "id": "c2aa43fc",
   "metadata": {},
   "outputs": [],
   "source": [
    "driver = webdriver.Chrome(r\"C:\\web driver\\chromedriver.exe\")"
   ]
  },
  {
   "cell_type": "code",
   "execution_count": 23,
   "id": "356a06ef",
   "metadata": {},
   "outputs": [],
   "source": [
    "driver=webdriver.Chrome(\"chromedriver.exe\")\n",
    "time.sleep(2)"
   ]
  },
  {
   "cell_type": "code",
   "execution_count": 24,
   "id": "3795a592",
   "metadata": {},
   "outputs": [],
   "source": [
    "driver.get(\"https://www.naukri.com/\")"
   ]
  },
  {
   "cell_type": "code",
   "execution_count": 25,
   "id": "7704e6c4",
   "metadata": {},
   "outputs": [],
   "source": [
    "search_field_designation=driver.find_element_by_class_name(\"suggestor-input \")\n",
    "search_field_designation.send_keys(\"Data Analyst\")"
   ]
  },
  {
   "cell_type": "code",
   "execution_count": 7,
   "id": "25a9b2c8",
   "metadata": {},
   "outputs": [],
   "source": [
    "search_field_loc=driver.find_element_by_class_name(\"suggestor-input \")\n",
    "search_field_loc.send_keys(\"Banglore\")"
   ]
  },
  {
   "cell_type": "code",
   "execution_count": 26,
   "id": "929cdc43",
   "metadata": {},
   "outputs": [],
   "source": [
    "search_field_location=driver.find_element_by_xpath(\"/html/body/div/div[2]/div[3]/div/div/div[5]/div/div/div/input\")\n",
    "search_field_location.send_keys(\"Banglore\")"
   ]
  },
  {
   "cell_type": "code",
   "execution_count": 27,
   "id": "70310bf9",
   "metadata": {},
   "outputs": [],
   "source": [
    "search_button=driver.find_element_by_xpath(\"/html/body/div/div[2]/div[3]/div/div/div[6]\")\n",
    "search_button.click()"
   ]
  },
  {
   "cell_type": "code",
   "execution_count": 58,
   "id": "0b3ca0e0",
   "metadata": {},
   "outputs": [],
   "source": [
    "job_titles = []\n",
    "company_names = []\n",
    "location_list = []\n",
    "experience_list = []\n"
   ]
  },
  {
   "cell_type": "code",
   "execution_count": 59,
   "id": "1309eba1",
   "metadata": {},
   "outputs": [
    {
     "data": {
      "text/plain": [
       "[<selenium.webdriver.remote.webelement.WebElement (session=\"f90856f3d3dd71afeb9e566a57ee3a3d\", element=\"8e8e7c0a-cc97-454d-9ec4-be17acdbadff\")>,\n",
       " <selenium.webdriver.remote.webelement.WebElement (session=\"f90856f3d3dd71afeb9e566a57ee3a3d\", element=\"fb875b00-cb1f-4d20-872d-8d14da043a09\")>,\n",
       " <selenium.webdriver.remote.webelement.WebElement (session=\"f90856f3d3dd71afeb9e566a57ee3a3d\", element=\"e6b2b74b-6782-434d-832e-b834d880dcda\")>,\n",
       " <selenium.webdriver.remote.webelement.WebElement (session=\"f90856f3d3dd71afeb9e566a57ee3a3d\", element=\"ec963466-93ef-4c81-8416-1caa5f8ed565\")>,\n",
       " <selenium.webdriver.remote.webelement.WebElement (session=\"f90856f3d3dd71afeb9e566a57ee3a3d\", element=\"c46868ef-6dfb-4198-b58e-07e1319e9b24\")>,\n",
       " <selenium.webdriver.remote.webelement.WebElement (session=\"f90856f3d3dd71afeb9e566a57ee3a3d\", element=\"dc0b27b8-1764-40ec-9574-8c08aac46433\")>,\n",
       " <selenium.webdriver.remote.webelement.WebElement (session=\"f90856f3d3dd71afeb9e566a57ee3a3d\", element=\"c02cd515-839f-456d-a760-db0fe40a7ac4\")>,\n",
       " <selenium.webdriver.remote.webelement.WebElement (session=\"f90856f3d3dd71afeb9e566a57ee3a3d\", element=\"d203cd4b-ff5f-467a-b63b-2ca9e02ff03f\")>,\n",
       " <selenium.webdriver.remote.webelement.WebElement (session=\"f90856f3d3dd71afeb9e566a57ee3a3d\", element=\"dec77af3-2c2a-4b95-be9a-7b4cfddbd3bd\")>,\n",
       " <selenium.webdriver.remote.webelement.WebElement (session=\"f90856f3d3dd71afeb9e566a57ee3a3d\", element=\"8764af9c-223d-4b23-b756-c03f7c984fec\")>]"
      ]
     },
     "execution_count": 59,
     "metadata": {},
     "output_type": "execute_result"
    }
   ],
   "source": [
    "titles_tags=driver.find_elements_by_xpath(\"//a[@class='title fw500 ellipsis']\")\n",
    "titles_tags[0:10]"
   ]
  },
  {
   "cell_type": "code",
   "execution_count": 60,
   "id": "b2d655d5",
   "metadata": {},
   "outputs": [
    {
     "data": {
      "text/plain": [
       "['Business Data Analyst',\n",
       " 'EY GDS Data Analyst-Finland based project',\n",
       " 'Business & Data Analyst - Alteryx (London)',\n",
       " 'Data Analyst - Data and Analytics',\n",
       " 'Senior Data Analyst',\n",
       " 'Senior Data Analyst',\n",
       " 'Data Analyst (CSD)',\n",
       " 'Data Analyst - Data Science, 3 To 5 Years',\n",
       " 'Data Analyst / Business Analyst',\n",
       " 'SAS/SQL - Healthcare Data Analyst - Bangalore']"
      ]
     },
     "execution_count": 60,
     "metadata": {},
     "output_type": "execute_result"
    }
   ],
   "source": [
    "for i in titles_tags:\n",
    "    title=i.text\n",
    "    job_titles.append(title)\n",
    "job_titles[0:10]"
   ]
  },
  {
   "cell_type": "code",
   "execution_count": 61,
   "id": "4dc59628",
   "metadata": {},
   "outputs": [
    {
     "data": {
      "text/plain": [
       "[<selenium.webdriver.remote.webelement.WebElement (session=\"f90856f3d3dd71afeb9e566a57ee3a3d\", element=\"2834db41-010d-4164-8eb7-dbab7cabf197\")>,\n",
       " <selenium.webdriver.remote.webelement.WebElement (session=\"f90856f3d3dd71afeb9e566a57ee3a3d\", element=\"ee33d2e2-8d4d-4ccd-b268-cd0a7104e1ca\")>,\n",
       " <selenium.webdriver.remote.webelement.WebElement (session=\"f90856f3d3dd71afeb9e566a57ee3a3d\", element=\"a0562ad9-b9df-41e4-a9cf-6031308bfd88\")>,\n",
       " <selenium.webdriver.remote.webelement.WebElement (session=\"f90856f3d3dd71afeb9e566a57ee3a3d\", element=\"270d278f-fcac-461b-9084-46aef97bfb67\")>,\n",
       " <selenium.webdriver.remote.webelement.WebElement (session=\"f90856f3d3dd71afeb9e566a57ee3a3d\", element=\"1248896f-5593-4d5f-860a-8d7cf6d8fadc\")>,\n",
       " <selenium.webdriver.remote.webelement.WebElement (session=\"f90856f3d3dd71afeb9e566a57ee3a3d\", element=\"8bda5f62-0518-4d01-aac4-a948034daab9\")>,\n",
       " <selenium.webdriver.remote.webelement.WebElement (session=\"f90856f3d3dd71afeb9e566a57ee3a3d\", element=\"6617e3ca-ccc7-4c67-b473-51071529094a\")>,\n",
       " <selenium.webdriver.remote.webelement.WebElement (session=\"f90856f3d3dd71afeb9e566a57ee3a3d\", element=\"fcacfbca-1281-43f7-87fe-71ed2e538ba5\")>,\n",
       " <selenium.webdriver.remote.webelement.WebElement (session=\"f90856f3d3dd71afeb9e566a57ee3a3d\", element=\"11e018dd-bbaf-48a8-bed0-af484828db58\")>,\n",
       " <selenium.webdriver.remote.webelement.WebElement (session=\"f90856f3d3dd71afeb9e566a57ee3a3d\", element=\"64f38822-fcd1-43a6-b684-e2df73c95914\")>]"
      ]
     },
     "execution_count": 61,
     "metadata": {},
     "output_type": "execute_result"
    }
   ],
   "source": [
    "companies_tags=driver.find_elements_by_xpath(\"//a[@class='subTitle ellipsis fleft']\")\n",
    "companies_tags[0:10]"
   ]
  },
  {
   "cell_type": "code",
   "execution_count": 62,
   "id": "da955d15",
   "metadata": {},
   "outputs": [
    {
     "data": {
      "text/plain": [
       "['NXP Semiconductors',\n",
       " 'EY',\n",
       " 'Imaginative Brains LLP',\n",
       " 'Intel',\n",
       " 'Flipkart',\n",
       " 'Walmart',\n",
       " 'Siemens',\n",
       " 'Rise Finconnect Private Limited',\n",
       " 'METRO Cash & Carry',\n",
       " 'Genpact']"
      ]
     },
     "execution_count": 62,
     "metadata": {},
     "output_type": "execute_result"
    }
   ],
   "source": [
    "for i in companies_tags:\n",
    "    company_name=i.text\n",
    "    company_names.append(company_name)\n",
    "company_names[0:10]"
   ]
  },
  {
   "cell_type": "code",
   "execution_count": 63,
   "id": "d43b644a",
   "metadata": {},
   "outputs": [
    {
     "data": {
      "text/plain": [
       "[<selenium.webdriver.remote.webelement.WebElement (session=\"f90856f3d3dd71afeb9e566a57ee3a3d\", element=\"c1dff99b-c82c-46e4-b8d8-53c5a2e97684\")>,\n",
       " <selenium.webdriver.remote.webelement.WebElement (session=\"f90856f3d3dd71afeb9e566a57ee3a3d\", element=\"29185c0c-037c-4cd7-bde3-cd1fc7e7496e\")>,\n",
       " <selenium.webdriver.remote.webelement.WebElement (session=\"f90856f3d3dd71afeb9e566a57ee3a3d\", element=\"88a1c896-aed5-4c12-b112-5bacf8301d5c\")>,\n",
       " <selenium.webdriver.remote.webelement.WebElement (session=\"f90856f3d3dd71afeb9e566a57ee3a3d\", element=\"963ccd0c-f6ca-4216-a8fe-f4e92b99bfc3\")>,\n",
       " <selenium.webdriver.remote.webelement.WebElement (session=\"f90856f3d3dd71afeb9e566a57ee3a3d\", element=\"ff32f148-332b-4e27-99b4-f84d2d3953a7\")>,\n",
       " <selenium.webdriver.remote.webelement.WebElement (session=\"f90856f3d3dd71afeb9e566a57ee3a3d\", element=\"56ab5ea5-ddf3-4f2c-898e-1c88a7ff90c0\")>,\n",
       " <selenium.webdriver.remote.webelement.WebElement (session=\"f90856f3d3dd71afeb9e566a57ee3a3d\", element=\"8e45b651-c2d3-4e7a-84e2-a115c9a86ad3\")>,\n",
       " <selenium.webdriver.remote.webelement.WebElement (session=\"f90856f3d3dd71afeb9e566a57ee3a3d\", element=\"034c8707-e1c3-4fdf-8743-b3d0d166e76e\")>,\n",
       " <selenium.webdriver.remote.webelement.WebElement (session=\"f90856f3d3dd71afeb9e566a57ee3a3d\", element=\"57f52b46-77ab-4f26-b31d-b4a62da51aca\")>,\n",
       " <selenium.webdriver.remote.webelement.WebElement (session=\"f90856f3d3dd71afeb9e566a57ee3a3d\", element=\"57e3c18e-8cf4-4ad9-b893-b7efc911b406\")>]"
      ]
     },
     "execution_count": 63,
     "metadata": {},
     "output_type": "execute_result"
    }
   ],
   "source": [
    "experience_tags=driver.find_elements_by_xpath(\"//li[@class='fleft grey-text br2 placeHolderLi experience']\")\n",
    "experience_tags[0:10]"
   ]
  },
  {
   "cell_type": "code",
   "execution_count": 64,
   "id": "b228ae15",
   "metadata": {},
   "outputs": [
    {
     "data": {
      "text/plain": [
       "['2-5 Yrs',\n",
       " '0-1 Yrs',\n",
       " '5-10 Yrs',\n",
       " '3-6 Yrs',\n",
       " '3-7 Yrs',\n",
       " '4-7 Yrs',\n",
       " '2-6 Yrs',\n",
       " '2-6 Yrs',\n",
       " '3-8 Yrs',\n",
       " '7-10 Yrs']"
      ]
     },
     "execution_count": 64,
     "metadata": {},
     "output_type": "execute_result"
    }
   ],
   "source": [
    "for i in experience_tags:\n",
    "    experience=i.text\n",
    "    experience_list.append(experience)\n",
    "experience_list[0:10]"
   ]
  },
  {
   "cell_type": "code",
   "execution_count": 65,
   "id": "340cbe70",
   "metadata": {},
   "outputs": [
    {
     "data": {
      "text/plain": [
       "[<selenium.webdriver.remote.webelement.WebElement (session=\"f90856f3d3dd71afeb9e566a57ee3a3d\", element=\"44beac00-4afd-4159-9520-2d4056ca0138\")>,\n",
       " <selenium.webdriver.remote.webelement.WebElement (session=\"f90856f3d3dd71afeb9e566a57ee3a3d\", element=\"cae0ce7a-8a95-4d3c-a127-c10e19e7e787\")>,\n",
       " <selenium.webdriver.remote.webelement.WebElement (session=\"f90856f3d3dd71afeb9e566a57ee3a3d\", element=\"834596fe-e842-4cb8-8733-d359c57fee7a\")>,\n",
       " <selenium.webdriver.remote.webelement.WebElement (session=\"f90856f3d3dd71afeb9e566a57ee3a3d\", element=\"1095d847-02bd-42be-88f7-bd4598f74bd2\")>,\n",
       " <selenium.webdriver.remote.webelement.WebElement (session=\"f90856f3d3dd71afeb9e566a57ee3a3d\", element=\"786f20f6-3506-428d-ad2c-b04d8ef0285a\")>,\n",
       " <selenium.webdriver.remote.webelement.WebElement (session=\"f90856f3d3dd71afeb9e566a57ee3a3d\", element=\"eeaca392-9bca-4a93-a068-6c95ac0861bf\")>,\n",
       " <selenium.webdriver.remote.webelement.WebElement (session=\"f90856f3d3dd71afeb9e566a57ee3a3d\", element=\"0c18c570-4dd3-4cbf-8440-41f465b1b37c\")>,\n",
       " <selenium.webdriver.remote.webelement.WebElement (session=\"f90856f3d3dd71afeb9e566a57ee3a3d\", element=\"6ea2e638-7ddd-494d-a9e8-38cc2a4df685\")>,\n",
       " <selenium.webdriver.remote.webelement.WebElement (session=\"f90856f3d3dd71afeb9e566a57ee3a3d\", element=\"b321cc9f-9837-4f0c-888f-2b5c29d10737\")>,\n",
       " <selenium.webdriver.remote.webelement.WebElement (session=\"f90856f3d3dd71afeb9e566a57ee3a3d\", element=\"33e01d1b-485c-4841-91d1-40cd26fda8ea\")>]"
      ]
     },
     "execution_count": 65,
     "metadata": {},
     "output_type": "execute_result"
    }
   ],
   "source": [
    "location_tags=driver.find_elements_by_xpath(\"//li[@class='fleft grey-text br2 placeHolderLi location']\")\n",
    "location_tags[0:10]"
   ]
  },
  {
   "cell_type": "code",
   "execution_count": 69,
   "id": "dd85deca",
   "metadata": {},
   "outputs": [
    {
     "data": {
      "text/plain": [
       "['Bangalore/Bengaluru',\n",
       " 'Bangalore/Bengaluru',\n",
       " 'Bangalore/Bengaluru, Delhi / NCR, Mumbai (All Areas)',\n",
       " 'Bangalore/Bengaluru',\n",
       " 'Bangalore/Bengaluru',\n",
       " 'Bangalore/Bengaluru',\n",
       " 'Bangalore/Bengaluru',\n",
       " 'Bangalore/Bengaluru',\n",
       " 'Bangalore/Bengaluru',\n",
       " 'Bangalore/Bengaluru']"
      ]
     },
     "execution_count": 69,
     "metadata": {},
     "output_type": "execute_result"
    }
   ],
   "source": [
    "for i in location_tags:\n",
    "    location=i.text\n",
    "    location_list.append(location)\n",
    "location_list[0:10]"
   ]
  },
  {
   "cell_type": "code",
   "execution_count": 74,
   "id": "851fd0b3",
   "metadata": {},
   "outputs": [],
   "source": [
    "jobs=pd.DataFrame({})\n",
    "jobs['title']=job_titles\n",
    "jobs['company']=company_names\n",
    "jobs['experience_required']=experience_list\n",
    "jobs['location']=location_list"
   ]
  },
  {
   "cell_type": "code",
   "execution_count": 78,
   "id": "f80efebf",
   "metadata": {},
   "outputs": [
    {
     "data": {
      "text/html": [
       "<div>\n",
       "<style scoped>\n",
       "    .dataframe tbody tr th:only-of-type {\n",
       "        vertical-align: middle;\n",
       "    }\n",
       "\n",
       "    .dataframe tbody tr th {\n",
       "        vertical-align: top;\n",
       "    }\n",
       "\n",
       "    .dataframe thead th {\n",
       "        text-align: right;\n",
       "    }\n",
       "</style>\n",
       "<table border=\"1\" class=\"dataframe\">\n",
       "  <thead>\n",
       "    <tr style=\"text-align: right;\">\n",
       "      <th></th>\n",
       "      <th>title</th>\n",
       "      <th>company</th>\n",
       "      <th>experience_required</th>\n",
       "      <th>location</th>\n",
       "    </tr>\n",
       "  </thead>\n",
       "  <tbody>\n",
       "    <tr>\n",
       "      <th>0</th>\n",
       "      <td>Business Data Analyst</td>\n",
       "      <td>NXP Semiconductors</td>\n",
       "      <td>2-5 Yrs</td>\n",
       "      <td>Bangalore/Bengaluru</td>\n",
       "    </tr>\n",
       "    <tr>\n",
       "      <th>1</th>\n",
       "      <td>EY GDS Data Analyst-Finland based project</td>\n",
       "      <td>EY</td>\n",
       "      <td>0-1 Yrs</td>\n",
       "      <td>Bangalore/Bengaluru</td>\n",
       "    </tr>\n",
       "    <tr>\n",
       "      <th>2</th>\n",
       "      <td>Business &amp; Data Analyst - Alteryx (London)</td>\n",
       "      <td>Imaginative Brains LLP</td>\n",
       "      <td>5-10 Yrs</td>\n",
       "      <td>Bangalore/Bengaluru, Delhi / NCR, Mumbai (All ...</td>\n",
       "    </tr>\n",
       "    <tr>\n",
       "      <th>3</th>\n",
       "      <td>Data Analyst - Data and Analytics</td>\n",
       "      <td>Intel</td>\n",
       "      <td>3-6 Yrs</td>\n",
       "      <td>Bangalore/Bengaluru</td>\n",
       "    </tr>\n",
       "    <tr>\n",
       "      <th>4</th>\n",
       "      <td>Senior Data Analyst</td>\n",
       "      <td>Flipkart</td>\n",
       "      <td>3-7 Yrs</td>\n",
       "      <td>Bangalore/Bengaluru</td>\n",
       "    </tr>\n",
       "    <tr>\n",
       "      <th>5</th>\n",
       "      <td>Senior Data Analyst</td>\n",
       "      <td>Walmart</td>\n",
       "      <td>4-7 Yrs</td>\n",
       "      <td>Bangalore/Bengaluru</td>\n",
       "    </tr>\n",
       "    <tr>\n",
       "      <th>6</th>\n",
       "      <td>Data Analyst (CSD)</td>\n",
       "      <td>Siemens</td>\n",
       "      <td>2-6 Yrs</td>\n",
       "      <td>Bangalore/Bengaluru</td>\n",
       "    </tr>\n",
       "    <tr>\n",
       "      <th>7</th>\n",
       "      <td>Data Analyst - Data Science, 3 To 5 Years</td>\n",
       "      <td>Rise Finconnect Private Limited</td>\n",
       "      <td>2-6 Yrs</td>\n",
       "      <td>Bangalore/Bengaluru</td>\n",
       "    </tr>\n",
       "    <tr>\n",
       "      <th>8</th>\n",
       "      <td>Data Analyst / Business Analyst</td>\n",
       "      <td>METRO Cash &amp; Carry</td>\n",
       "      <td>3-8 Yrs</td>\n",
       "      <td>Bangalore/Bengaluru</td>\n",
       "    </tr>\n",
       "    <tr>\n",
       "      <th>9</th>\n",
       "      <td>SAS/SQL - Healthcare Data Analyst - Bangalore</td>\n",
       "      <td>Genpact</td>\n",
       "      <td>7-10 Yrs</td>\n",
       "      <td>Bangalore/Bengaluru</td>\n",
       "    </tr>\n",
       "  </tbody>\n",
       "</table>\n",
       "</div>"
      ],
      "text/plain": [
       "                                           title  \\\n",
       "0                          Business Data Analyst   \n",
       "1      EY GDS Data Analyst-Finland based project   \n",
       "2     Business & Data Analyst - Alteryx (London)   \n",
       "3              Data Analyst - Data and Analytics   \n",
       "4                            Senior Data Analyst   \n",
       "5                            Senior Data Analyst   \n",
       "6                             Data Analyst (CSD)   \n",
       "7      Data Analyst - Data Science, 3 To 5 Years   \n",
       "8                Data Analyst / Business Analyst   \n",
       "9  SAS/SQL - Healthcare Data Analyst - Bangalore   \n",
       "\n",
       "                           company experience_required  \\\n",
       "0               NXP Semiconductors             2-5 Yrs   \n",
       "1                               EY             0-1 Yrs   \n",
       "2           Imaginative Brains LLP            5-10 Yrs   \n",
       "3                            Intel             3-6 Yrs   \n",
       "4                         Flipkart             3-7 Yrs   \n",
       "5                          Walmart             4-7 Yrs   \n",
       "6                          Siemens             2-6 Yrs   \n",
       "7  Rise Finconnect Private Limited             2-6 Yrs   \n",
       "8               METRO Cash & Carry             3-8 Yrs   \n",
       "9                          Genpact            7-10 Yrs   \n",
       "\n",
       "                                            location  \n",
       "0                                Bangalore/Bengaluru  \n",
       "1                                Bangalore/Bengaluru  \n",
       "2  Bangalore/Bengaluru, Delhi / NCR, Mumbai (All ...  \n",
       "3                                Bangalore/Bengaluru  \n",
       "4                                Bangalore/Bengaluru  \n",
       "5                                Bangalore/Bengaluru  \n",
       "6                                Bangalore/Bengaluru  \n",
       "7                                Bangalore/Bengaluru  \n",
       "8                                Bangalore/Bengaluru  \n",
       "9                                Bangalore/Bengaluru  "
      ]
     },
     "execution_count": 78,
     "metadata": {},
     "output_type": "execute_result"
    }
   ],
   "source": [
    "jobs[0:10]"
   ]
  },
  {
   "cell_type": "code",
   "execution_count": null,
   "id": "8b737300",
   "metadata": {},
   "outputs": [],
   "source": []
  },
  {
   "cell_type": "markdown",
   "id": "1239a1a6",
   "metadata": {},
   "source": [
    "# scrap data (data scientist for banglore location):"
   ]
  },
  {
   "cell_type": "code",
   "execution_count": 79,
   "id": "a07d5b73",
   "metadata": {},
   "outputs": [
    {
     "name": "stdout",
     "output_type": "stream",
     "text": [
      "Requirement already satisfied: selenium in c:\\programdata\\anaconda3\\lib\\site-packages (4.2.0)\n",
      "Requirement already satisfied: urllib3[secure,socks]~=1.26 in c:\\programdata\\anaconda3\\lib\\site-packages (from selenium) (1.26.7)\n",
      "Requirement already satisfied: trio~=0.17 in c:\\programdata\\anaconda3\\lib\\site-packages (from selenium) (0.21.0)\n",
      "Requirement already satisfied: trio-websocket~=0.9 in c:\\programdata\\anaconda3\\lib\\site-packages (from selenium) (0.9.2)\n",
      "Requirement already satisfied: async-generator>=1.9 in c:\\programdata\\anaconda3\\lib\\site-packages (from trio~=0.17->selenium) (1.10)\n",
      "Requirement already satisfied: attrs>=19.2.0 in c:\\programdata\\anaconda3\\lib\\site-packages (from trio~=0.17->selenium) (21.2.0)\n",
      "Requirement already satisfied: sniffio in c:\\programdata\\anaconda3\\lib\\site-packages (from trio~=0.17->selenium) (1.2.0)\n",
      "Requirement already satisfied: cffi>=1.14 in c:\\programdata\\anaconda3\\lib\\site-packages (from trio~=0.17->selenium) (1.14.6)\n",
      "Requirement already satisfied: idna in c:\\programdata\\anaconda3\\lib\\site-packages (from trio~=0.17->selenium) (3.2)\n",
      "Requirement already satisfied: sortedcontainers in c:\\programdata\\anaconda3\\lib\\site-packages (from trio~=0.17->selenium) (2.4.0)\n",
      "Requirement already satisfied: outcome in c:\\programdata\\anaconda3\\lib\\site-packages (from trio~=0.17->selenium) (1.2.0)\n",
      "Requirement already satisfied: pycparser in c:\\programdata\\anaconda3\\lib\\site-packages (from cffi>=1.14->trio~=0.17->selenium) (2.20)\n",
      "Requirement already satisfied: wsproto>=0.14 in c:\\programdata\\anaconda3\\lib\\site-packages (from trio-websocket~=0.9->selenium) (1.1.0)\n",
      "Requirement already satisfied: PySocks!=1.5.7,<2.0,>=1.5.6 in c:\\programdata\\anaconda3\\lib\\site-packages (from urllib3[secure,socks]~=1.26->selenium) (1.7.1)\n",
      "Requirement already satisfied: pyOpenSSL>=0.14 in c:\\programdata\\anaconda3\\lib\\site-packages (from urllib3[secure,socks]~=1.26->selenium) (21.0.0)\n",
      "Requirement already satisfied: cryptography>=1.3.4 in c:\\programdata\\anaconda3\\lib\\site-packages (from urllib3[secure,socks]~=1.26->selenium) (3.4.8)\n",
      "Requirement already satisfied: certifi in c:\\programdata\\anaconda3\\lib\\site-packages (from urllib3[secure,socks]~=1.26->selenium) (2021.10.8)\n",
      "Requirement already satisfied: six>=1.5.2 in c:\\programdata\\anaconda3\\lib\\site-packages (from pyOpenSSL>=0.14->urllib3[secure,socks]~=1.26->selenium) (1.16.0)\n",
      "Requirement already satisfied: h11<1,>=0.9.0 in c:\\programdata\\anaconda3\\lib\\site-packages (from wsproto>=0.14->trio-websocket~=0.9->selenium) (0.13.0)\n"
     ]
    }
   ],
   "source": [
    "! pip install selenium"
   ]
  },
  {
   "cell_type": "code",
   "execution_count": 80,
   "id": "af306a7f",
   "metadata": {},
   "outputs": [],
   "source": [
    "import selenium\n",
    "import pandas as pd\n",
    "from selenium import webdriver\n",
    "import warnings\n",
    "warnings.filterwarnings(\"ignore\")\n",
    "import time"
   ]
  },
  {
   "cell_type": "code",
   "execution_count": 81,
   "id": "6659f90f",
   "metadata": {},
   "outputs": [],
   "source": [
    "driver = webdriver.Chrome(r\"C:\\web driver\\chromedriver.exe\")"
   ]
  },
  {
   "cell_type": "code",
   "execution_count": 82,
   "id": "225c64dd",
   "metadata": {},
   "outputs": [],
   "source": [
    "driver=webdriver.Chrome(\"chromedriver.exe\")\n",
    "time.sleep(2)"
   ]
  },
  {
   "cell_type": "code",
   "execution_count": 83,
   "id": "7b6cfffe",
   "metadata": {},
   "outputs": [],
   "source": [
    "driver.get(\"https://www.naukri.com/\")"
   ]
  },
  {
   "cell_type": "code",
   "execution_count": 84,
   "id": "94824dc8",
   "metadata": {},
   "outputs": [],
   "source": [
    "search_field_designation=driver.find_element_by_class_name(\"suggestor-input \")\n",
    "search_field_designation.send_keys(\"Data Scientist\")"
   ]
  },
  {
   "cell_type": "code",
   "execution_count": 85,
   "id": "4bec21b6",
   "metadata": {},
   "outputs": [],
   "source": [
    "search_field_location=driver.find_element_by_xpath(\"/html/body/div/div[2]/div[3]/div/div/div[5]/div/div/div/input\")\n",
    "search_field_location.send_keys(\"Banglore\")"
   ]
  },
  {
   "cell_type": "code",
   "execution_count": 86,
   "id": "ada77cd6",
   "metadata": {},
   "outputs": [],
   "source": [
    "search_button=driver.find_element_by_xpath(\"/html/body/div/div[2]/div[3]/div/div/div[6]\")\n",
    "search_button.click()"
   ]
  },
  {
   "cell_type": "code",
   "execution_count": 87,
   "id": "e7a7b761",
   "metadata": {},
   "outputs": [],
   "source": [
    "job_titles = []\n",
    "company_names = []\n",
    "location_list = []\n"
   ]
  },
  {
   "cell_type": "code",
   "execution_count": 88,
   "id": "4897d6da",
   "metadata": {},
   "outputs": [
    {
     "data": {
      "text/plain": [
       "[<selenium.webdriver.remote.webelement.WebElement (session=\"3cc8388ebaca8d77ffbc378961c4afba\", element=\"06e2f899-9fd0-4147-8736-e5bb866a8d94\")>,\n",
       " <selenium.webdriver.remote.webelement.WebElement (session=\"3cc8388ebaca8d77ffbc378961c4afba\", element=\"97252c3f-f4a0-4083-b685-536eb77dfe47\")>,\n",
       " <selenium.webdriver.remote.webelement.WebElement (session=\"3cc8388ebaca8d77ffbc378961c4afba\", element=\"e197074c-0623-4849-8481-8a7de2c33323\")>,\n",
       " <selenium.webdriver.remote.webelement.WebElement (session=\"3cc8388ebaca8d77ffbc378961c4afba\", element=\"a18106ec-4eb0-4d3e-b315-58bcc5003823\")>,\n",
       " <selenium.webdriver.remote.webelement.WebElement (session=\"3cc8388ebaca8d77ffbc378961c4afba\", element=\"fa9cde90-72fa-4928-9acd-f844094000f6\")>,\n",
       " <selenium.webdriver.remote.webelement.WebElement (session=\"3cc8388ebaca8d77ffbc378961c4afba\", element=\"6749a865-4412-46e5-b864-f5948f66ef5c\")>,\n",
       " <selenium.webdriver.remote.webelement.WebElement (session=\"3cc8388ebaca8d77ffbc378961c4afba\", element=\"3df1d872-b139-4b38-a636-4f89dfecc34f\")>,\n",
       " <selenium.webdriver.remote.webelement.WebElement (session=\"3cc8388ebaca8d77ffbc378961c4afba\", element=\"9d01c3bf-c414-432e-9137-0f00ac555359\")>,\n",
       " <selenium.webdriver.remote.webelement.WebElement (session=\"3cc8388ebaca8d77ffbc378961c4afba\", element=\"e6e06159-1c0e-4c56-ae4f-cfc63d936c73\")>,\n",
       " <selenium.webdriver.remote.webelement.WebElement (session=\"3cc8388ebaca8d77ffbc378961c4afba\", element=\"515c6e51-e7da-474d-8d67-fcaf5ab4a2cd\")>]"
      ]
     },
     "execution_count": 88,
     "metadata": {},
     "output_type": "execute_result"
    }
   ],
   "source": [
    "titles_tags=driver.find_elements_by_xpath(\"//a[@class='title fw500 ellipsis']\")\n",
    "titles_tags[0:10]"
   ]
  },
  {
   "cell_type": "code",
   "execution_count": 89,
   "id": "d9433372",
   "metadata": {},
   "outputs": [
    {
     "data": {
      "text/plain": [
       "['Data Science - Engineering Manager',\n",
       " 'AI Technologist Vacancy',\n",
       " 'Job Opening with Wipro For Data Scientist position',\n",
       " 'DATA Scientist with Fraud Analytics Experience',\n",
       " 'Data Scientist',\n",
       " 'Data Scientist',\n",
       " 'Specialist - Data Scientist',\n",
       " 'Looking For Data Scientist ( Exp in R OR R Shiny)',\n",
       " 'Data Scientist',\n",
       " 'Senior Data Scientist']"
      ]
     },
     "execution_count": 89,
     "metadata": {},
     "output_type": "execute_result"
    }
   ],
   "source": [
    "for i in titles_tags:\n",
    "    title=i.text\n",
    "    job_titles.append(title)\n",
    "job_titles[0:10]"
   ]
  },
  {
   "cell_type": "code",
   "execution_count": 90,
   "id": "4757770c",
   "metadata": {},
   "outputs": [
    {
     "data": {
      "text/plain": [
       "[<selenium.webdriver.remote.webelement.WebElement (session=\"3cc8388ebaca8d77ffbc378961c4afba\", element=\"172b2335-c726-43d4-adbc-50b692e52111\")>,\n",
       " <selenium.webdriver.remote.webelement.WebElement (session=\"3cc8388ebaca8d77ffbc378961c4afba\", element=\"a87a1a8b-6803-4799-aa4f-63f411217a45\")>,\n",
       " <selenium.webdriver.remote.webelement.WebElement (session=\"3cc8388ebaca8d77ffbc378961c4afba\", element=\"27dd415f-067d-49b2-9ddc-91afc440f3e0\")>,\n",
       " <selenium.webdriver.remote.webelement.WebElement (session=\"3cc8388ebaca8d77ffbc378961c4afba\", element=\"76b10906-738a-446b-a371-448cbc2dc74f\")>,\n",
       " <selenium.webdriver.remote.webelement.WebElement (session=\"3cc8388ebaca8d77ffbc378961c4afba\", element=\"8693127b-5826-49d4-994e-5d08273e3af8\")>,\n",
       " <selenium.webdriver.remote.webelement.WebElement (session=\"3cc8388ebaca8d77ffbc378961c4afba\", element=\"9ac6e6ac-2564-4018-ae9f-c381cd5b1920\")>,\n",
       " <selenium.webdriver.remote.webelement.WebElement (session=\"3cc8388ebaca8d77ffbc378961c4afba\", element=\"28c6c0ee-6212-4485-85ec-13c2d15f977d\")>,\n",
       " <selenium.webdriver.remote.webelement.WebElement (session=\"3cc8388ebaca8d77ffbc378961c4afba\", element=\"71754231-77f5-4600-8596-a7a5e7e0ef46\")>,\n",
       " <selenium.webdriver.remote.webelement.WebElement (session=\"3cc8388ebaca8d77ffbc378961c4afba\", element=\"660f92ad-5d5f-41e3-a83e-865140a0663e\")>,\n",
       " <selenium.webdriver.remote.webelement.WebElement (session=\"3cc8388ebaca8d77ffbc378961c4afba\", element=\"0baad7bd-b795-4eac-8867-e74003da40f5\")>]"
      ]
     },
     "execution_count": 90,
     "metadata": {},
     "output_type": "execute_result"
    }
   ],
   "source": [
    "companies_tags=driver.find_elements_by_xpath(\"//a[@class='subTitle ellipsis fleft']\")\n",
    "companies_tags[0:10]"
   ]
  },
  {
   "cell_type": "code",
   "execution_count": 91,
   "id": "89eb864e",
   "metadata": {},
   "outputs": [
    {
     "data": {
      "text/plain": [
       "['Paytm',\n",
       " 'Wipro',\n",
       " 'Wipro',\n",
       " 'Concentrix Daksh Services',\n",
       " 'Applied Materials',\n",
       " 'Applied Materials',\n",
       " 'AT and T Global Business Services India P. Ltd.',\n",
       " 'Evalueserve',\n",
       " 'Genpact',\n",
       " 'Walmart']"
      ]
     },
     "execution_count": 91,
     "metadata": {},
     "output_type": "execute_result"
    }
   ],
   "source": [
    "for i in companies_tags:\n",
    "    company_name=i.text\n",
    "    company_names.append(company_name)\n",
    "company_names[0:10]"
   ]
  },
  {
   "cell_type": "code",
   "execution_count": 92,
   "id": "6ed04e4b",
   "metadata": {},
   "outputs": [
    {
     "data": {
      "text/plain": [
       "[<selenium.webdriver.remote.webelement.WebElement (session=\"3cc8388ebaca8d77ffbc378961c4afba\", element=\"c6a2cd39-64b9-403a-8b15-49a2d8d94db8\")>,\n",
       " <selenium.webdriver.remote.webelement.WebElement (session=\"3cc8388ebaca8d77ffbc378961c4afba\", element=\"075986f9-0736-4043-96ab-43f5e8c18d46\")>,\n",
       " <selenium.webdriver.remote.webelement.WebElement (session=\"3cc8388ebaca8d77ffbc378961c4afba\", element=\"ccfd1d40-b1ef-4c1b-a0aa-2336a50dea13\")>,\n",
       " <selenium.webdriver.remote.webelement.WebElement (session=\"3cc8388ebaca8d77ffbc378961c4afba\", element=\"867f2f05-ec50-42ee-9e50-63d5899f4bae\")>,\n",
       " <selenium.webdriver.remote.webelement.WebElement (session=\"3cc8388ebaca8d77ffbc378961c4afba\", element=\"20cbd109-99c7-4965-8454-270412f54a17\")>,\n",
       " <selenium.webdriver.remote.webelement.WebElement (session=\"3cc8388ebaca8d77ffbc378961c4afba\", element=\"e29bd034-3e7d-4a93-b906-f86af080842f\")>,\n",
       " <selenium.webdriver.remote.webelement.WebElement (session=\"3cc8388ebaca8d77ffbc378961c4afba\", element=\"7c2752b5-1cf9-46cc-bdc8-258f5e4e6686\")>,\n",
       " <selenium.webdriver.remote.webelement.WebElement (session=\"3cc8388ebaca8d77ffbc378961c4afba\", element=\"c261e4ea-ae2f-4f12-bec4-81fc53d57780\")>,\n",
       " <selenium.webdriver.remote.webelement.WebElement (session=\"3cc8388ebaca8d77ffbc378961c4afba\", element=\"305094b2-b40a-4b7c-8d1f-8ea0057bef7d\")>,\n",
       " <selenium.webdriver.remote.webelement.WebElement (session=\"3cc8388ebaca8d77ffbc378961c4afba\", element=\"c9cc849f-99ef-4d3c-890c-44c9cdffdbfc\")>]"
      ]
     },
     "execution_count": 92,
     "metadata": {},
     "output_type": "execute_result"
    }
   ],
   "source": [
    "location_tags=driver.find_elements_by_xpath(\"//li[@class='fleft grey-text br2 placeHolderLi location']\")\n",
    "location_tags[0:10]"
   ]
  },
  {
   "cell_type": "code",
   "execution_count": 93,
   "id": "d5c7773d",
   "metadata": {},
   "outputs": [
    {
     "data": {
      "text/plain": [
       "['Noida, Mumbai, Bangalore/Bengaluru',\n",
       " 'Kolkata, Hyderabad/Secunderabad, Pune, Ahmedabad, Chennai, Bangalore/Bengaluru, Delhi / NCR, Mumbai (All Areas)',\n",
       " 'Kolkata, Hyderabad/Secunderabad, Chennai, Bangalore/Bengaluru, Delhi / NCR, Mumbai (All Areas)',\n",
       " 'Bangalore/Bengaluru',\n",
       " 'Bangalore/Bengaluru',\n",
       " 'Bangalore/Bengaluru',\n",
       " 'Bangalore/Bengaluru',\n",
       " 'Bangalore/Bengaluru',\n",
       " 'Bangalore/Bengaluru',\n",
       " 'Bangalore/Bengaluru']"
      ]
     },
     "execution_count": 93,
     "metadata": {},
     "output_type": "execute_result"
    }
   ],
   "source": [
    "for i in location_tags:\n",
    "    location=i.text\n",
    "    location_list.append(location)\n",
    "location_list[0:10]"
   ]
  },
  {
   "cell_type": "code",
   "execution_count": 94,
   "id": "26887365",
   "metadata": {},
   "outputs": [],
   "source": [
    "jobs=pd.DataFrame({})\n",
    "jobs['title']=job_titles\n",
    "jobs['company']=company_names\n",
    "jobs['location']=location_list"
   ]
  },
  {
   "cell_type": "code",
   "execution_count": 95,
   "id": "796c6416",
   "metadata": {},
   "outputs": [
    {
     "data": {
      "text/html": [
       "<div>\n",
       "<style scoped>\n",
       "    .dataframe tbody tr th:only-of-type {\n",
       "        vertical-align: middle;\n",
       "    }\n",
       "\n",
       "    .dataframe tbody tr th {\n",
       "        vertical-align: top;\n",
       "    }\n",
       "\n",
       "    .dataframe thead th {\n",
       "        text-align: right;\n",
       "    }\n",
       "</style>\n",
       "<table border=\"1\" class=\"dataframe\">\n",
       "  <thead>\n",
       "    <tr style=\"text-align: right;\">\n",
       "      <th></th>\n",
       "      <th>title</th>\n",
       "      <th>company</th>\n",
       "      <th>location</th>\n",
       "    </tr>\n",
       "  </thead>\n",
       "  <tbody>\n",
       "    <tr>\n",
       "      <th>0</th>\n",
       "      <td>Data Science - Engineering Manager</td>\n",
       "      <td>Paytm</td>\n",
       "      <td>Noida, Mumbai, Bangalore/Bengaluru</td>\n",
       "    </tr>\n",
       "    <tr>\n",
       "      <th>1</th>\n",
       "      <td>AI Technologist Vacancy</td>\n",
       "      <td>Wipro</td>\n",
       "      <td>Kolkata, Hyderabad/Secunderabad, Pune, Ahmedab...</td>\n",
       "    </tr>\n",
       "    <tr>\n",
       "      <th>2</th>\n",
       "      <td>Job Opening with Wipro For Data Scientist posi...</td>\n",
       "      <td>Wipro</td>\n",
       "      <td>Kolkata, Hyderabad/Secunderabad, Chennai, Bang...</td>\n",
       "    </tr>\n",
       "    <tr>\n",
       "      <th>3</th>\n",
       "      <td>DATA Scientist with Fraud Analytics Experience</td>\n",
       "      <td>Concentrix Daksh Services</td>\n",
       "      <td>Bangalore/Bengaluru</td>\n",
       "    </tr>\n",
       "    <tr>\n",
       "      <th>4</th>\n",
       "      <td>Data Scientist</td>\n",
       "      <td>Applied Materials</td>\n",
       "      <td>Bangalore/Bengaluru</td>\n",
       "    </tr>\n",
       "    <tr>\n",
       "      <th>5</th>\n",
       "      <td>Data Scientist</td>\n",
       "      <td>Applied Materials</td>\n",
       "      <td>Bangalore/Bengaluru</td>\n",
       "    </tr>\n",
       "    <tr>\n",
       "      <th>6</th>\n",
       "      <td>Specialist - Data Scientist</td>\n",
       "      <td>AT and T Global Business Services India P. Ltd.</td>\n",
       "      <td>Bangalore/Bengaluru</td>\n",
       "    </tr>\n",
       "    <tr>\n",
       "      <th>7</th>\n",
       "      <td>Looking For Data Scientist ( Exp in R OR R Shiny)</td>\n",
       "      <td>Evalueserve</td>\n",
       "      <td>Bangalore/Bengaluru</td>\n",
       "    </tr>\n",
       "    <tr>\n",
       "      <th>8</th>\n",
       "      <td>Data Scientist</td>\n",
       "      <td>Genpact</td>\n",
       "      <td>Bangalore/Bengaluru</td>\n",
       "    </tr>\n",
       "    <tr>\n",
       "      <th>9</th>\n",
       "      <td>Senior Data Scientist</td>\n",
       "      <td>Walmart</td>\n",
       "      <td>Bangalore/Bengaluru</td>\n",
       "    </tr>\n",
       "  </tbody>\n",
       "</table>\n",
       "</div>"
      ],
      "text/plain": [
       "                                               title  \\\n",
       "0                 Data Science - Engineering Manager   \n",
       "1                            AI Technologist Vacancy   \n",
       "2  Job Opening with Wipro For Data Scientist posi...   \n",
       "3     DATA Scientist with Fraud Analytics Experience   \n",
       "4                                     Data Scientist   \n",
       "5                                     Data Scientist   \n",
       "6                        Specialist - Data Scientist   \n",
       "7  Looking For Data Scientist ( Exp in R OR R Shiny)   \n",
       "8                                     Data Scientist   \n",
       "9                              Senior Data Scientist   \n",
       "\n",
       "                                           company  \\\n",
       "0                                            Paytm   \n",
       "1                                            Wipro   \n",
       "2                                            Wipro   \n",
       "3                        Concentrix Daksh Services   \n",
       "4                                Applied Materials   \n",
       "5                                Applied Materials   \n",
       "6  AT and T Global Business Services India P. Ltd.   \n",
       "7                                      Evalueserve   \n",
       "8                                          Genpact   \n",
       "9                                          Walmart   \n",
       "\n",
       "                                            location  \n",
       "0                 Noida, Mumbai, Bangalore/Bengaluru  \n",
       "1  Kolkata, Hyderabad/Secunderabad, Pune, Ahmedab...  \n",
       "2  Kolkata, Hyderabad/Secunderabad, Chennai, Bang...  \n",
       "3                                Bangalore/Bengaluru  \n",
       "4                                Bangalore/Bengaluru  \n",
       "5                                Bangalore/Bengaluru  \n",
       "6                                Bangalore/Bengaluru  \n",
       "7                                Bangalore/Bengaluru  \n",
       "8                                Bangalore/Bengaluru  \n",
       "9                                Bangalore/Bengaluru  "
      ]
     },
     "execution_count": 95,
     "metadata": {},
     "output_type": "execute_result"
    }
   ],
   "source": [
    "jobs[0:10]"
   ]
  },
  {
   "cell_type": "code",
   "execution_count": null,
   "id": "b4a3a544",
   "metadata": {},
   "outputs": [],
   "source": []
  },
  {
   "cell_type": "markdown",
   "id": "2a15bf97",
   "metadata": {},
   "source": [
    "# 3) scrap data"
   ]
  },
  {
   "cell_type": "code",
   "execution_count": 23,
   "id": "e5432077",
   "metadata": {},
   "outputs": [
    {
     "name": "stdout",
     "output_type": "stream",
     "text": [
      "Requirement already satisfied: selenium in c:\\programdata\\anaconda3\\lib\\site-packages (4.2.0)\n",
      "Requirement already satisfied: trio-websocket~=0.9 in c:\\programdata\\anaconda3\\lib\\site-packages (from selenium) (0.9.2)\n",
      "Requirement already satisfied: trio~=0.17 in c:\\programdata\\anaconda3\\lib\\site-packages (from selenium) (0.21.0)\n",
      "Requirement already satisfied: urllib3[secure,socks]~=1.26 in c:\\programdata\\anaconda3\\lib\\site-packages (from selenium) (1.26.7)\n",
      "Requirement already satisfied: sniffio in c:\\programdata\\anaconda3\\lib\\site-packages (from trio~=0.17->selenium) (1.2.0)\n",
      "Requirement already satisfied: outcome in c:\\programdata\\anaconda3\\lib\\site-packages (from trio~=0.17->selenium) (1.2.0)\n",
      "Requirement already satisfied: sortedcontainers in c:\\programdata\\anaconda3\\lib\\site-packages (from trio~=0.17->selenium) (2.4.0)\n",
      "Requirement already satisfied: attrs>=19.2.0 in c:\\programdata\\anaconda3\\lib\\site-packages (from trio~=0.17->selenium) (21.2.0)\n",
      "Requirement already satisfied: async-generator>=1.9 in c:\\programdata\\anaconda3\\lib\\site-packages (from trio~=0.17->selenium) (1.10)\n",
      "Requirement already satisfied: cffi>=1.14 in c:\\programdata\\anaconda3\\lib\\site-packages (from trio~=0.17->selenium) (1.14.6)\n",
      "Requirement already satisfied: idna in c:\\programdata\\anaconda3\\lib\\site-packages (from trio~=0.17->selenium) (3.2)\n",
      "Requirement already satisfied: pycparser in c:\\programdata\\anaconda3\\lib\\site-packages (from cffi>=1.14->trio~=0.17->selenium) (2.20)\n",
      "Requirement already satisfied: wsproto>=0.14 in c:\\programdata\\anaconda3\\lib\\site-packages (from trio-websocket~=0.9->selenium) (1.1.0)\n",
      "Requirement already satisfied: pyOpenSSL>=0.14 in c:\\programdata\\anaconda3\\lib\\site-packages (from urllib3[secure,socks]~=1.26->selenium) (21.0.0)\n",
      "Requirement already satisfied: cryptography>=1.3.4 in c:\\programdata\\anaconda3\\lib\\site-packages (from urllib3[secure,socks]~=1.26->selenium) (3.4.8)\n",
      "Requirement already satisfied: certifi in c:\\programdata\\anaconda3\\lib\\site-packages (from urllib3[secure,socks]~=1.26->selenium) (2021.10.8)\n",
      "Requirement already satisfied: PySocks!=1.5.7,<2.0,>=1.5.6 in c:\\programdata\\anaconda3\\lib\\site-packages (from urllib3[secure,socks]~=1.26->selenium) (1.7.1)\n",
      "Requirement already satisfied: six>=1.5.2 in c:\\programdata\\anaconda3\\lib\\site-packages (from pyOpenSSL>=0.14->urllib3[secure,socks]~=1.26->selenium) (1.16.0)\n",
      "Requirement already satisfied: h11<1,>=0.9.0 in c:\\programdata\\anaconda3\\lib\\site-packages (from wsproto>=0.14->trio-websocket~=0.9->selenium) (0.13.0)\n"
     ]
    }
   ],
   "source": [
    "! pip install selenium"
   ]
  },
  {
   "cell_type": "code",
   "execution_count": 24,
   "id": "1855c16a",
   "metadata": {},
   "outputs": [],
   "source": [
    "import selenium\n",
    "import pandas as pd\n",
    "from selenium import webdriver\n",
    "import warnings\n",
    "warnings.filterwarnings(\"ignore\")\n",
    "import time"
   ]
  },
  {
   "cell_type": "code",
   "execution_count": 25,
   "id": "641a7025",
   "metadata": {},
   "outputs": [],
   "source": [
    "driver = webdriver.Chrome(r\"C:\\web driver\\chromedriver.exe\")"
   ]
  },
  {
   "cell_type": "code",
   "execution_count": 26,
   "id": "6565349e",
   "metadata": {},
   "outputs": [],
   "source": [
    "driver=webdriver.Chrome(\"chromedriver.exe\")\n",
    "time.sleep(2)"
   ]
  },
  {
   "cell_type": "code",
   "execution_count": 27,
   "id": "96134e78",
   "metadata": {},
   "outputs": [],
   "source": [
    "driver.get(\"https://www.naukri.com/\")"
   ]
  },
  {
   "cell_type": "code",
   "execution_count": 28,
   "id": "957250f5",
   "metadata": {},
   "outputs": [],
   "source": [
    "search_field_designation=driver.find_element_by_class_name(\"suggestor-input \")\n",
    "search_field_designation.send_keys(\"Data Scientist\")"
   ]
  },
  {
   "cell_type": "code",
   "execution_count": 29,
   "id": "902519d7",
   "metadata": {},
   "outputs": [],
   "source": [
    "search_button=driver.find_element_by_xpath(\"/html/body/div/div[2]/div[3]/div/div/div[6]\")\n",
    "search_button.click()"
   ]
  },
  {
   "cell_type": "code",
   "execution_count": 32,
   "id": "c0c302dc",
   "metadata": {},
   "outputs": [],
   "source": [
    "filter_button=driver.find_element_by_xpath(\"/html/body/div[1]/div[3]/div[2]/section[1]/div[2]/div[5]/div[2]/div[3]/label/i\")\n",
    "filter_button.click()"
   ]
  },
  {
   "cell_type": "code",
   "execution_count": 33,
   "id": "29e44d96",
   "metadata": {},
   "outputs": [],
   "source": [
    "filter_button=driver.find_element_by_xpath(\"/html/body/div[1]/div[3]/div[2]/section[1]/div[2]/div[6]/div[2]/div[2]/label/i\")\n",
    "filter_button.click()"
   ]
  },
  {
   "cell_type": "code",
   "execution_count": 34,
   "id": "2b71dc93",
   "metadata": {},
   "outputs": [],
   "source": [
    "job_titles = []\n",
    "company_names = []\n",
    "location_list = []\n",
    "experience_list = []"
   ]
  },
  {
   "cell_type": "code",
   "execution_count": 35,
   "id": "a265026e",
   "metadata": {},
   "outputs": [
    {
     "data": {
      "text/plain": [
       "[<selenium.webdriver.remote.webelement.WebElement (session=\"cfd419a3c99d2eede232deaba273fb5d\", element=\"cf4b6073-fee1-40c9-82d9-53d8afd87d43\")>,\n",
       " <selenium.webdriver.remote.webelement.WebElement (session=\"cfd419a3c99d2eede232deaba273fb5d\", element=\"2210c23b-a3f8-4ee9-a603-ca05457485f4\")>,\n",
       " <selenium.webdriver.remote.webelement.WebElement (session=\"cfd419a3c99d2eede232deaba273fb5d\", element=\"9412adc8-95ea-46ce-9d1f-ce33cc394cd0\")>,\n",
       " <selenium.webdriver.remote.webelement.WebElement (session=\"cfd419a3c99d2eede232deaba273fb5d\", element=\"6337bf6e-b188-4248-b4c6-b9d7e012e73a\")>,\n",
       " <selenium.webdriver.remote.webelement.WebElement (session=\"cfd419a3c99d2eede232deaba273fb5d\", element=\"31385a06-7b00-4f54-80e0-6b3337a7d298\")>,\n",
       " <selenium.webdriver.remote.webelement.WebElement (session=\"cfd419a3c99d2eede232deaba273fb5d\", element=\"d348cf91-ca66-40f5-a204-603f94fd61b4\")>,\n",
       " <selenium.webdriver.remote.webelement.WebElement (session=\"cfd419a3c99d2eede232deaba273fb5d\", element=\"03db30a8-dbc2-4172-a2b7-e61899fd3ab0\")>,\n",
       " <selenium.webdriver.remote.webelement.WebElement (session=\"cfd419a3c99d2eede232deaba273fb5d\", element=\"10547e41-4958-43d5-ac25-83589b8b3a60\")>,\n",
       " <selenium.webdriver.remote.webelement.WebElement (session=\"cfd419a3c99d2eede232deaba273fb5d\", element=\"1b01464c-d79b-4932-a4e8-2485c187ed4f\")>,\n",
       " <selenium.webdriver.remote.webelement.WebElement (session=\"cfd419a3c99d2eede232deaba273fb5d\", element=\"f759f1f4-4786-4b8e-878f-41345fbed7e9\")>]"
      ]
     },
     "execution_count": 35,
     "metadata": {},
     "output_type": "execute_result"
    }
   ],
   "source": [
    "titles_tags=driver.find_elements_by_xpath(\"//a[@class='title fw500 ellipsis']\")\n",
    "titles_tags[0:10]"
   ]
  },
  {
   "cell_type": "code",
   "execution_count": 36,
   "id": "d589b60d",
   "metadata": {},
   "outputs": [
    {
     "data": {
      "text/plain": [
       "['Job Opening with Wipro For Data Scientist position',\n",
       " 'Data Scientist - Machine learning AI',\n",
       " 'Data Scientist -Machine Learning with Python',\n",
       " 'Data Scientist',\n",
       " 'Data Scientist - MIND Infotech',\n",
       " 'Data Scientist - MIND Infotech',\n",
       " 'Data Scientist - Predictive Analytics',\n",
       " 'Data Scientist - Internet Jobs - II',\n",
       " 'Machine Learning Engineer | Data Engineer | Data Scientist',\n",
       " 'Dot Net Developer']"
      ]
     },
     "execution_count": 36,
     "metadata": {},
     "output_type": "execute_result"
    }
   ],
   "source": [
    "for i in titles_tags:\n",
    "    title=i.text\n",
    "    job_titles.append(title)\n",
    "job_titles[0:10]"
   ]
  },
  {
   "cell_type": "code",
   "execution_count": 37,
   "id": "9ed6acb8",
   "metadata": {},
   "outputs": [
    {
     "data": {
      "text/plain": [
       "[<selenium.webdriver.remote.webelement.WebElement (session=\"cfd419a3c99d2eede232deaba273fb5d\", element=\"48d6d25d-4e1c-468e-a856-5ca77fd22a6c\")>,\n",
       " <selenium.webdriver.remote.webelement.WebElement (session=\"cfd419a3c99d2eede232deaba273fb5d\", element=\"b3b8330a-a3df-4998-b91a-3116be4555ba\")>,\n",
       " <selenium.webdriver.remote.webelement.WebElement (session=\"cfd419a3c99d2eede232deaba273fb5d\", element=\"265a22c8-18a0-4bc1-8267-8dce6fabccad\")>,\n",
       " <selenium.webdriver.remote.webelement.WebElement (session=\"cfd419a3c99d2eede232deaba273fb5d\", element=\"8ca88900-30a1-4664-b25f-3ecd88c2735e\")>,\n",
       " <selenium.webdriver.remote.webelement.WebElement (session=\"cfd419a3c99d2eede232deaba273fb5d\", element=\"0e2795d7-6ab4-4af7-a785-d042522b94a6\")>,\n",
       " <selenium.webdriver.remote.webelement.WebElement (session=\"cfd419a3c99d2eede232deaba273fb5d\", element=\"a64c6187-235e-4728-b416-9db9a3e6ed92\")>,\n",
       " <selenium.webdriver.remote.webelement.WebElement (session=\"cfd419a3c99d2eede232deaba273fb5d\", element=\"d6172fd8-415c-48fa-8204-f9e45aeea08d\")>,\n",
       " <selenium.webdriver.remote.webelement.WebElement (session=\"cfd419a3c99d2eede232deaba273fb5d\", element=\"fbee7597-cc65-41a4-889c-1f8f7d8a1faa\")>,\n",
       " <selenium.webdriver.remote.webelement.WebElement (session=\"cfd419a3c99d2eede232deaba273fb5d\", element=\"af17bdaf-26c6-4b5b-b317-5d0c4b4b259d\")>,\n",
       " <selenium.webdriver.remote.webelement.WebElement (session=\"cfd419a3c99d2eede232deaba273fb5d\", element=\"4e2eec21-2dd0-4062-b0c7-1bcfff943cd2\")>]"
      ]
     },
     "execution_count": 37,
     "metadata": {},
     "output_type": "execute_result"
    }
   ],
   "source": [
    "companies_tags=driver.find_elements_by_xpath(\"//a[@class='subTitle ellipsis fleft']\")\n",
    "companies_tags[0:10]"
   ]
  },
  {
   "cell_type": "code",
   "execution_count": 38,
   "id": "aa890242",
   "metadata": {},
   "outputs": [
    {
     "data": {
      "text/plain": [
       "['Wipro',\n",
       " 'Teq Analytics',\n",
       " 'Genpact',\n",
       " 'SS Supply Chain Solutions Pvt. Ltd. (3SC)',\n",
       " 'MOTHERSONSUMI INFOTECH & DESIGNS LIMITED',\n",
       " 'MOTHERSONSUMI INFOTECH & DESIGNS LIMITED',\n",
       " 'Confidential',\n",
       " 'Jobs Territory',\n",
       " 'Tidyquant (OPC) Private Limited',\n",
       " 'Nibha Infotech Private Limited']"
      ]
     },
     "execution_count": 38,
     "metadata": {},
     "output_type": "execute_result"
    }
   ],
   "source": [
    "for i in companies_tags:\n",
    "    company_name=i.text\n",
    "    company_names.append(company_name)\n",
    "company_names[0:10]"
   ]
  },
  {
   "cell_type": "code",
   "execution_count": 39,
   "id": "00889f6a",
   "metadata": {},
   "outputs": [
    {
     "data": {
      "text/plain": [
       "[<selenium.webdriver.remote.webelement.WebElement (session=\"cfd419a3c99d2eede232deaba273fb5d\", element=\"ed2e511c-616f-4b7d-b375-0d3cc0366d9d\")>,\n",
       " <selenium.webdriver.remote.webelement.WebElement (session=\"cfd419a3c99d2eede232deaba273fb5d\", element=\"8e8218ea-3c7e-416d-9ad5-5faabbc7bb48\")>,\n",
       " <selenium.webdriver.remote.webelement.WebElement (session=\"cfd419a3c99d2eede232deaba273fb5d\", element=\"5151cbf2-3294-4506-b285-14d8d9693087\")>,\n",
       " <selenium.webdriver.remote.webelement.WebElement (session=\"cfd419a3c99d2eede232deaba273fb5d\", element=\"cf36314d-7592-4b55-bc95-cf9ca667a25c\")>,\n",
       " <selenium.webdriver.remote.webelement.WebElement (session=\"cfd419a3c99d2eede232deaba273fb5d\", element=\"7f3dd7f2-a4a0-45fb-b87a-1053eaf866f3\")>,\n",
       " <selenium.webdriver.remote.webelement.WebElement (session=\"cfd419a3c99d2eede232deaba273fb5d\", element=\"241c1421-e226-456c-ba90-bce2e734ef5d\")>,\n",
       " <selenium.webdriver.remote.webelement.WebElement (session=\"cfd419a3c99d2eede232deaba273fb5d\", element=\"4ee6d7d7-73b6-48f8-9362-5ad4f6c3c6ca\")>,\n",
       " <selenium.webdriver.remote.webelement.WebElement (session=\"cfd419a3c99d2eede232deaba273fb5d\", element=\"af6c22d6-af9d-4c14-aa73-187bf1405baf\")>,\n",
       " <selenium.webdriver.remote.webelement.WebElement (session=\"cfd419a3c99d2eede232deaba273fb5d\", element=\"d3fe61e6-ac59-4f0a-b164-eb6e5d97f46c\")>,\n",
       " <selenium.webdriver.remote.webelement.WebElement (session=\"cfd419a3c99d2eede232deaba273fb5d\", element=\"77b80dcf-cafe-4fa9-ae0b-dfda16454657\")>]"
      ]
     },
     "execution_count": 39,
     "metadata": {},
     "output_type": "execute_result"
    }
   ],
   "source": [
    "location_tags=driver.find_elements_by_xpath(\"//li[@class='fleft grey-text br2 placeHolderLi location']\")\n",
    "location_tags[0:10]"
   ]
  },
  {
   "cell_type": "code",
   "execution_count": 40,
   "id": "873bc15a",
   "metadata": {},
   "outputs": [
    {
     "data": {
      "text/plain": [
       "['Kolkata, Hyderabad/Secunderabad, Chennai, Bangalore/Bengaluru, Delhi / NCR, Mumbai (All Areas)',\n",
       " 'Bangalore/Bengaluru, Delhi / NCR, Mumbai (All Areas)\\n(WFH during Covid)',\n",
       " 'Noida, New Delhi, Gurgaon/Gurugram, Delhi / NCR\\n(WFH during Covid)',\n",
       " 'Pune, Gurgaon/Gurugram, Bangalore/Bengaluru',\n",
       " 'Noida',\n",
       " 'Noida',\n",
       " 'Noida, Mumbai, Chandigarh, Hyderabad/Secunderabad, Pune, Chennai, Gurgaon/Gurugram, Coimbatore, Bangalore/Bengaluru',\n",
       " 'Bangalore/Bengaluru, Delhi / NCR, Mumbai (All Areas)',\n",
       " 'Chennai, Bangalore/Bengaluru, Delhi / NCR(Sector-8 Noida)\\n(WFH during Covid)',\n",
       " 'Gurgaon/Gurugram, Delhi / NCR']"
      ]
     },
     "execution_count": 40,
     "metadata": {},
     "output_type": "execute_result"
    }
   ],
   "source": [
    "for i in location_tags:\n",
    "    location=i.text\n",
    "    location_list.append(location)\n",
    "location_list[0:10]"
   ]
  },
  {
   "cell_type": "code",
   "execution_count": 41,
   "id": "1d424945",
   "metadata": {},
   "outputs": [
    {
     "data": {
      "text/plain": [
       "[<selenium.webdriver.remote.webelement.WebElement (session=\"cfd419a3c99d2eede232deaba273fb5d\", element=\"b174122f-7bc5-4aec-896c-cde83929f45e\")>,\n",
       " <selenium.webdriver.remote.webelement.WebElement (session=\"cfd419a3c99d2eede232deaba273fb5d\", element=\"e454192a-2f4f-4ad5-b15f-ddbff4655976\")>,\n",
       " <selenium.webdriver.remote.webelement.WebElement (session=\"cfd419a3c99d2eede232deaba273fb5d\", element=\"b9ca7ad1-2000-406f-9252-d6791763fbb5\")>,\n",
       " <selenium.webdriver.remote.webelement.WebElement (session=\"cfd419a3c99d2eede232deaba273fb5d\", element=\"3286aa8c-4a13-48ab-8a4f-16259ce1b0d2\")>,\n",
       " <selenium.webdriver.remote.webelement.WebElement (session=\"cfd419a3c99d2eede232deaba273fb5d\", element=\"b732b3ba-c390-4d46-842c-f70337d35242\")>,\n",
       " <selenium.webdriver.remote.webelement.WebElement (session=\"cfd419a3c99d2eede232deaba273fb5d\", element=\"1d3d18df-f866-474b-9efc-a195436115ac\")>,\n",
       " <selenium.webdriver.remote.webelement.WebElement (session=\"cfd419a3c99d2eede232deaba273fb5d\", element=\"4c5bcf44-ee9e-4834-ba71-bbca753cc5d5\")>,\n",
       " <selenium.webdriver.remote.webelement.WebElement (session=\"cfd419a3c99d2eede232deaba273fb5d\", element=\"b3f5122e-4ecb-4548-b166-29c0e556f742\")>,\n",
       " <selenium.webdriver.remote.webelement.WebElement (session=\"cfd419a3c99d2eede232deaba273fb5d\", element=\"1b63bd3c-b634-42d9-965b-539dc9061a0e\")>,\n",
       " <selenium.webdriver.remote.webelement.WebElement (session=\"cfd419a3c99d2eede232deaba273fb5d\", element=\"e6cddbf0-ab76-4f89-9d4e-e4b3387b716a\")>]"
      ]
     },
     "execution_count": 41,
     "metadata": {},
     "output_type": "execute_result"
    }
   ],
   "source": [
    "experience_tags=driver.find_elements_by_xpath(\"//li[@class='fleft grey-text br2 placeHolderLi experience']\")\n",
    "experience_tags[0:10]"
   ]
  },
  {
   "cell_type": "code",
   "execution_count": 42,
   "id": "25972a70",
   "metadata": {},
   "outputs": [
    {
     "data": {
      "text/plain": [
       "['2-7 Yrs',\n",
       " '3-8 Yrs',\n",
       " '1-4 Yrs',\n",
       " '2-5 Yrs',\n",
       " '4-8 Yrs',\n",
       " '4-8 Yrs',\n",
       " '1-6 Yrs',\n",
       " '3-6 Yrs',\n",
       " '1-3 Yrs',\n",
       " '3-8 Yrs']"
      ]
     },
     "execution_count": 42,
     "metadata": {},
     "output_type": "execute_result"
    }
   ],
   "source": [
    "for i in experience_tags:\n",
    "    experience=i.text\n",
    "    experience_list.append(experience)\n",
    "experience_list[0:10]"
   ]
  },
  {
   "cell_type": "code",
   "execution_count": 43,
   "id": "d9802e77",
   "metadata": {},
   "outputs": [],
   "source": [
    "jobs=pd.DataFrame({})\n",
    "jobs['title']=job_titles\n",
    "jobs['company']=company_names\n",
    "jobs['location']=location_list\n",
    "jobs['experience_required']=experience_list\n"
   ]
  },
  {
   "cell_type": "code",
   "execution_count": 44,
   "id": "33133aec",
   "metadata": {},
   "outputs": [
    {
     "data": {
      "text/html": [
       "<div>\n",
       "<style scoped>\n",
       "    .dataframe tbody tr th:only-of-type {\n",
       "        vertical-align: middle;\n",
       "    }\n",
       "\n",
       "    .dataframe tbody tr th {\n",
       "        vertical-align: top;\n",
       "    }\n",
       "\n",
       "    .dataframe thead th {\n",
       "        text-align: right;\n",
       "    }\n",
       "</style>\n",
       "<table border=\"1\" class=\"dataframe\">\n",
       "  <thead>\n",
       "    <tr style=\"text-align: right;\">\n",
       "      <th></th>\n",
       "      <th>title</th>\n",
       "      <th>company</th>\n",
       "      <th>location</th>\n",
       "      <th>experience_required</th>\n",
       "    </tr>\n",
       "  </thead>\n",
       "  <tbody>\n",
       "    <tr>\n",
       "      <th>0</th>\n",
       "      <td>Job Opening with Wipro For Data Scientist posi...</td>\n",
       "      <td>Wipro</td>\n",
       "      <td>Kolkata, Hyderabad/Secunderabad, Chennai, Bang...</td>\n",
       "      <td>2-7 Yrs</td>\n",
       "    </tr>\n",
       "    <tr>\n",
       "      <th>1</th>\n",
       "      <td>Data Scientist - Machine learning AI</td>\n",
       "      <td>Teq Analytics</td>\n",
       "      <td>Bangalore/Bengaluru, Delhi / NCR, Mumbai (All ...</td>\n",
       "      <td>3-8 Yrs</td>\n",
       "    </tr>\n",
       "    <tr>\n",
       "      <th>2</th>\n",
       "      <td>Data Scientist -Machine Learning with Python</td>\n",
       "      <td>Genpact</td>\n",
       "      <td>Noida, New Delhi, Gurgaon/Gurugram, Delhi / NC...</td>\n",
       "      <td>1-4 Yrs</td>\n",
       "    </tr>\n",
       "    <tr>\n",
       "      <th>3</th>\n",
       "      <td>Data Scientist</td>\n",
       "      <td>SS Supply Chain Solutions Pvt. Ltd. (3SC)</td>\n",
       "      <td>Pune, Gurgaon/Gurugram, Bangalore/Bengaluru</td>\n",
       "      <td>2-5 Yrs</td>\n",
       "    </tr>\n",
       "    <tr>\n",
       "      <th>4</th>\n",
       "      <td>Data Scientist - MIND Infotech</td>\n",
       "      <td>MOTHERSONSUMI INFOTECH &amp; DESIGNS LIMITED</td>\n",
       "      <td>Noida</td>\n",
       "      <td>4-8 Yrs</td>\n",
       "    </tr>\n",
       "    <tr>\n",
       "      <th>5</th>\n",
       "      <td>Data Scientist - MIND Infotech</td>\n",
       "      <td>MOTHERSONSUMI INFOTECH &amp; DESIGNS LIMITED</td>\n",
       "      <td>Noida</td>\n",
       "      <td>4-8 Yrs</td>\n",
       "    </tr>\n",
       "    <tr>\n",
       "      <th>6</th>\n",
       "      <td>Data Scientist - Predictive Analytics</td>\n",
       "      <td>Confidential</td>\n",
       "      <td>Noida, Mumbai, Chandigarh, Hyderabad/Secundera...</td>\n",
       "      <td>1-6 Yrs</td>\n",
       "    </tr>\n",
       "    <tr>\n",
       "      <th>7</th>\n",
       "      <td>Data Scientist - Internet Jobs - II</td>\n",
       "      <td>Jobs Territory</td>\n",
       "      <td>Bangalore/Bengaluru, Delhi / NCR, Mumbai (All ...</td>\n",
       "      <td>3-6 Yrs</td>\n",
       "    </tr>\n",
       "    <tr>\n",
       "      <th>8</th>\n",
       "      <td>Machine Learning Engineer | Data Engineer | Da...</td>\n",
       "      <td>Tidyquant (OPC) Private Limited</td>\n",
       "      <td>Chennai, Bangalore/Bengaluru, Delhi / NCR(Sect...</td>\n",
       "      <td>1-3 Yrs</td>\n",
       "    </tr>\n",
       "    <tr>\n",
       "      <th>9</th>\n",
       "      <td>Dot Net Developer</td>\n",
       "      <td>Nibha Infotech Private Limited</td>\n",
       "      <td>Gurgaon/Gurugram, Delhi / NCR</td>\n",
       "      <td>3-8 Yrs</td>\n",
       "    </tr>\n",
       "  </tbody>\n",
       "</table>\n",
       "</div>"
      ],
      "text/plain": [
       "                                               title  \\\n",
       "0  Job Opening with Wipro For Data Scientist posi...   \n",
       "1               Data Scientist - Machine learning AI   \n",
       "2       Data Scientist -Machine Learning with Python   \n",
       "3                                     Data Scientist   \n",
       "4                     Data Scientist - MIND Infotech   \n",
       "5                     Data Scientist - MIND Infotech   \n",
       "6              Data Scientist - Predictive Analytics   \n",
       "7                Data Scientist - Internet Jobs - II   \n",
       "8  Machine Learning Engineer | Data Engineer | Da...   \n",
       "9                                  Dot Net Developer   \n",
       "\n",
       "                                     company  \\\n",
       "0                                      Wipro   \n",
       "1                              Teq Analytics   \n",
       "2                                    Genpact   \n",
       "3  SS Supply Chain Solutions Pvt. Ltd. (3SC)   \n",
       "4   MOTHERSONSUMI INFOTECH & DESIGNS LIMITED   \n",
       "5   MOTHERSONSUMI INFOTECH & DESIGNS LIMITED   \n",
       "6                               Confidential   \n",
       "7                             Jobs Territory   \n",
       "8            Tidyquant (OPC) Private Limited   \n",
       "9             Nibha Infotech Private Limited   \n",
       "\n",
       "                                            location experience_required  \n",
       "0  Kolkata, Hyderabad/Secunderabad, Chennai, Bang...             2-7 Yrs  \n",
       "1  Bangalore/Bengaluru, Delhi / NCR, Mumbai (All ...             3-8 Yrs  \n",
       "2  Noida, New Delhi, Gurgaon/Gurugram, Delhi / NC...             1-4 Yrs  \n",
       "3        Pune, Gurgaon/Gurugram, Bangalore/Bengaluru             2-5 Yrs  \n",
       "4                                              Noida             4-8 Yrs  \n",
       "5                                              Noida             4-8 Yrs  \n",
       "6  Noida, Mumbai, Chandigarh, Hyderabad/Secundera...             1-6 Yrs  \n",
       "7  Bangalore/Bengaluru, Delhi / NCR, Mumbai (All ...             3-6 Yrs  \n",
       "8  Chennai, Bangalore/Bengaluru, Delhi / NCR(Sect...             1-3 Yrs  \n",
       "9                      Gurgaon/Gurugram, Delhi / NCR             3-8 Yrs  "
      ]
     },
     "execution_count": 44,
     "metadata": {},
     "output_type": "execute_result"
    }
   ],
   "source": [
    "jobs[0:10]"
   ]
  },
  {
   "cell_type": "code",
   "execution_count": null,
   "id": "f1848a23",
   "metadata": {},
   "outputs": [],
   "source": []
  },
  {
   "cell_type": "code",
   "execution_count": null,
   "id": "7a33eb12",
   "metadata": {},
   "outputs": [],
   "source": []
  }
 ],
 "metadata": {
  "kernelspec": {
   "display_name": "Python 3 (ipykernel)",
   "language": "python",
   "name": "python3"
  },
  "language_info": {
   "codemirror_mode": {
    "name": "ipython",
    "version": 3
   },
   "file_extension": ".py",
   "mimetype": "text/x-python",
   "name": "python",
   "nbconvert_exporter": "python",
   "pygments_lexer": "ipython3",
   "version": "3.9.7"
  }
 },
 "nbformat": 4,
 "nbformat_minor": 5
}

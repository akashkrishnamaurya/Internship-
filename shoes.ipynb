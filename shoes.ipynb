{
 "cells": [
  {
   "cell_type": "code",
   "execution_count": 1,
   "id": "f7822a74",
   "metadata": {},
   "outputs": [
    {
     "name": "stdout",
     "output_type": "stream",
     "text": [
      "Requirement already satisfied: selenium in c:\\programdata\\anaconda3\\lib\\site-packages (4.2.0)\n",
      "Requirement already satisfied: trio-websocket~=0.9 in c:\\programdata\\anaconda3\\lib\\site-packages (from selenium) (0.9.2)\n",
      "Requirement already satisfied: trio~=0.17 in c:\\programdata\\anaconda3\\lib\\site-packages (from selenium) (0.21.0)\n",
      "Requirement already satisfied: urllib3[secure,socks]~=1.26 in c:\\programdata\\anaconda3\\lib\\site-packages (from selenium) (1.26.7)\n",
      "Requirement already satisfied: outcome in c:\\programdata\\anaconda3\\lib\\site-packages (from trio~=0.17->selenium) (1.2.0)\n",
      "Requirement already satisfied: sniffio in c:\\programdata\\anaconda3\\lib\\site-packages (from trio~=0.17->selenium) (1.2.0)\n",
      "Requirement already satisfied: sortedcontainers in c:\\programdata\\anaconda3\\lib\\site-packages (from trio~=0.17->selenium) (2.4.0)\n",
      "Requirement already satisfied: cffi>=1.14 in c:\\programdata\\anaconda3\\lib\\site-packages (from trio~=0.17->selenium) (1.14.6)\n",
      "Requirement already satisfied: attrs>=19.2.0 in c:\\programdata\\anaconda3\\lib\\site-packages (from trio~=0.17->selenium) (21.2.0)\n",
      "Requirement already satisfied: idna in c:\\programdata\\anaconda3\\lib\\site-packages (from trio~=0.17->selenium) (3.2)\n",
      "Requirement already satisfied: async-generator>=1.9 in c:\\programdata\\anaconda3\\lib\\site-packages (from trio~=0.17->selenium) (1.10)\n",
      "Requirement already satisfied: pycparser in c:\\programdata\\anaconda3\\lib\\site-packages (from cffi>=1.14->trio~=0.17->selenium) (2.20)\n",
      "Requirement already satisfied: wsproto>=0.14 in c:\\programdata\\anaconda3\\lib\\site-packages (from trio-websocket~=0.9->selenium) (1.1.0)\n",
      "Requirement already satisfied: pyOpenSSL>=0.14 in c:\\programdata\\anaconda3\\lib\\site-packages (from urllib3[secure,socks]~=1.26->selenium) (21.0.0)\n",
      "Requirement already satisfied: cryptography>=1.3.4 in c:\\programdata\\anaconda3\\lib\\site-packages (from urllib3[secure,socks]~=1.26->selenium) (3.4.8)\n",
      "Requirement already satisfied: certifi in c:\\programdata\\anaconda3\\lib\\site-packages (from urllib3[secure,socks]~=1.26->selenium) (2021.10.8)\n",
      "Requirement already satisfied: PySocks!=1.5.7,<2.0,>=1.5.6 in c:\\programdata\\anaconda3\\lib\\site-packages (from urllib3[secure,socks]~=1.26->selenium) (1.7.1)\n",
      "Requirement already satisfied: six>=1.5.2 in c:\\programdata\\anaconda3\\lib\\site-packages (from pyOpenSSL>=0.14->urllib3[secure,socks]~=1.26->selenium) (1.16.0)\n",
      "Requirement already satisfied: h11<1,>=0.9.0 in c:\\programdata\\anaconda3\\lib\\site-packages (from wsproto>=0.14->trio-websocket~=0.9->selenium) (0.13.0)\n"
     ]
    }
   ],
   "source": [
    "! pip install selenium"
   ]
  },
  {
   "cell_type": "code",
   "execution_count": 2,
   "id": "22e7c6fc",
   "metadata": {},
   "outputs": [],
   "source": [
    "import selenium\n",
    "import pandas as pd\n",
    "from selenium import webdriver\n",
    "import warnings\n",
    "warnings.filterwarnings(\"ignore\")\n",
    "import time"
   ]
  },
  {
   "cell_type": "code",
   "execution_count": 3,
   "id": "e466d700",
   "metadata": {},
   "outputs": [],
   "source": [
    "driver = webdriver.Chrome(r\"C:\\web driver\\chromedriver.exe\")"
   ]
  },
  {
   "cell_type": "code",
   "execution_count": 4,
   "id": "4c1379b2",
   "metadata": {},
   "outputs": [],
   "source": [
    "driver=webdriver.Chrome(\"chromedriver.exe\")\n",
    "time.sleep(2)"
   ]
  },
  {
   "cell_type": "code",
   "execution_count": 5,
   "id": "c68d777a",
   "metadata": {},
   "outputs": [],
   "source": [
    "driver.get('https://www.flipkart.com/')"
   ]
  },
  {
   "cell_type": "code",
   "execution_count": 6,
   "id": "db62a7fa",
   "metadata": {},
   "outputs": [],
   "source": [
    "search_for_products=driver.find_element_by_class_name(\"_3704LK\")\n",
    "search_for_products.send_keys(\"sneakers\")"
   ]
  },
  {
   "cell_type": "code",
   "execution_count": 7,
   "id": "e4b3946d",
   "metadata": {},
   "outputs": [],
   "source": [
    "search_button=driver.find_element_by_xpath(\"/html/body/div[1]/div/div[1]/div[1]/div[2]/div[2]/form/div/button\")\n",
    "search_button.click()"
   ]
  },
  {
   "cell_type": "code",
   "execution_count": 8,
   "id": "4045f608",
   "metadata": {},
   "outputs": [],
   "source": [
    "brand_titles = []\n",
    "description_products = []\n",
    "price_list = []\n",
    "discount_list = []"
   ]
  },
  {
   "cell_type": "code",
   "execution_count": 9,
   "id": "bb40ac51",
   "metadata": {},
   "outputs": [
    {
     "data": {
      "text/plain": [
       "[<selenium.webdriver.remote.webelement.WebElement (session=\"c82a6898cd542fcebad3dfcec6ff352b\", element=\"1cfb02bb-71a2-4aa1-8b67-d240c9475161\")>,\n",
       " <selenium.webdriver.remote.webelement.WebElement (session=\"c82a6898cd542fcebad3dfcec6ff352b\", element=\"d86f6013-ace4-4750-add7-4c869e6820d7\")>,\n",
       " <selenium.webdriver.remote.webelement.WebElement (session=\"c82a6898cd542fcebad3dfcec6ff352b\", element=\"8236a646-69da-456e-b95e-c989175b4860\")>,\n",
       " <selenium.webdriver.remote.webelement.WebElement (session=\"c82a6898cd542fcebad3dfcec6ff352b\", element=\"2cc4abd6-cf1e-4193-bce9-a60e5d3a8af1\")>,\n",
       " <selenium.webdriver.remote.webelement.WebElement (session=\"c82a6898cd542fcebad3dfcec6ff352b\", element=\"0ae8253c-bb9e-4364-9332-c590f646204c\")>,\n",
       " <selenium.webdriver.remote.webelement.WebElement (session=\"c82a6898cd542fcebad3dfcec6ff352b\", element=\"916924c8-a703-481f-a535-94ec1d52bfd4\")>,\n",
       " <selenium.webdriver.remote.webelement.WebElement (session=\"c82a6898cd542fcebad3dfcec6ff352b\", element=\"d770d11b-3b73-4c8f-84cb-251dcccf5e63\")>,\n",
       " <selenium.webdriver.remote.webelement.WebElement (session=\"c82a6898cd542fcebad3dfcec6ff352b\", element=\"816e9527-6f38-4477-bbd2-53565ad5e9a3\")>,\n",
       " <selenium.webdriver.remote.webelement.WebElement (session=\"c82a6898cd542fcebad3dfcec6ff352b\", element=\"8cb6ac27-33de-498f-9aed-43326df544d5\")>,\n",
       " <selenium.webdriver.remote.webelement.WebElement (session=\"c82a6898cd542fcebad3dfcec6ff352b\", element=\"9efee74d-0d70-4155-b609-3d87d8cf0ea1\")>,\n",
       " <selenium.webdriver.remote.webelement.WebElement (session=\"c82a6898cd542fcebad3dfcec6ff352b\", element=\"2eebece1-6c06-404a-aed0-fb89566d6125\")>,\n",
       " <selenium.webdriver.remote.webelement.WebElement (session=\"c82a6898cd542fcebad3dfcec6ff352b\", element=\"c6fa31da-44bf-4f16-af34-0202115d8945\")>,\n",
       " <selenium.webdriver.remote.webelement.WebElement (session=\"c82a6898cd542fcebad3dfcec6ff352b\", element=\"317e1620-e7d9-4e35-a108-519a8f8b00f4\")>,\n",
       " <selenium.webdriver.remote.webelement.WebElement (session=\"c82a6898cd542fcebad3dfcec6ff352b\", element=\"5ce836fe-a3b5-4155-ab36-a793c88fbe9c\")>,\n",
       " <selenium.webdriver.remote.webelement.WebElement (session=\"c82a6898cd542fcebad3dfcec6ff352b\", element=\"b9225978-7631-420c-b731-3697a809ece9\")>,\n",
       " <selenium.webdriver.remote.webelement.WebElement (session=\"c82a6898cd542fcebad3dfcec6ff352b\", element=\"c1b2620a-dbc8-4642-9739-e9804edccd4c\")>,\n",
       " <selenium.webdriver.remote.webelement.WebElement (session=\"c82a6898cd542fcebad3dfcec6ff352b\", element=\"be1b1764-4ced-4d38-ab53-e6397d624b13\")>,\n",
       " <selenium.webdriver.remote.webelement.WebElement (session=\"c82a6898cd542fcebad3dfcec6ff352b\", element=\"49fbe5eb-4036-44c5-ac47-ba11498691c0\")>,\n",
       " <selenium.webdriver.remote.webelement.WebElement (session=\"c82a6898cd542fcebad3dfcec6ff352b\", element=\"35e30003-60f9-4247-ba4b-cf40663dfd83\")>,\n",
       " <selenium.webdriver.remote.webelement.WebElement (session=\"c82a6898cd542fcebad3dfcec6ff352b\", element=\"af978a2c-2840-4f7b-94f9-15032b1103be\")>,\n",
       " <selenium.webdriver.remote.webelement.WebElement (session=\"c82a6898cd542fcebad3dfcec6ff352b\", element=\"dce348e3-f36f-4437-a439-87533b12e2a9\")>,\n",
       " <selenium.webdriver.remote.webelement.WebElement (session=\"c82a6898cd542fcebad3dfcec6ff352b\", element=\"a335d4d6-db1d-477d-a749-60740fbf470d\")>,\n",
       " <selenium.webdriver.remote.webelement.WebElement (session=\"c82a6898cd542fcebad3dfcec6ff352b\", element=\"2f5e72a7-5e32-44ad-93f6-327abb515ccf\")>,\n",
       " <selenium.webdriver.remote.webelement.WebElement (session=\"c82a6898cd542fcebad3dfcec6ff352b\", element=\"ba254d78-2df3-4edf-913b-d44458f85962\")>,\n",
       " <selenium.webdriver.remote.webelement.WebElement (session=\"c82a6898cd542fcebad3dfcec6ff352b\", element=\"70c14e04-0fb8-41b9-b128-10be46d41af3\")>,\n",
       " <selenium.webdriver.remote.webelement.WebElement (session=\"c82a6898cd542fcebad3dfcec6ff352b\", element=\"bc74fad4-1c59-474b-a801-433a856d610b\")>,\n",
       " <selenium.webdriver.remote.webelement.WebElement (session=\"c82a6898cd542fcebad3dfcec6ff352b\", element=\"4903201d-e7f8-4418-982e-b0f737d09f29\")>,\n",
       " <selenium.webdriver.remote.webelement.WebElement (session=\"c82a6898cd542fcebad3dfcec6ff352b\", element=\"cf30a362-3a67-4935-84e2-37d243779228\")>,\n",
       " <selenium.webdriver.remote.webelement.WebElement (session=\"c82a6898cd542fcebad3dfcec6ff352b\", element=\"27d7f39b-4bd9-4f5e-a460-dbdfe88b6756\")>,\n",
       " <selenium.webdriver.remote.webelement.WebElement (session=\"c82a6898cd542fcebad3dfcec6ff352b\", element=\"15009091-8f9f-48a3-b4bd-5d426676440e\")>,\n",
       " <selenium.webdriver.remote.webelement.WebElement (session=\"c82a6898cd542fcebad3dfcec6ff352b\", element=\"4a6c5010-a9a2-44df-92f5-d4a2144a428a\")>,\n",
       " <selenium.webdriver.remote.webelement.WebElement (session=\"c82a6898cd542fcebad3dfcec6ff352b\", element=\"845cfb8b-2ad5-4228-a154-8a0e41325ee3\")>,\n",
       " <selenium.webdriver.remote.webelement.WebElement (session=\"c82a6898cd542fcebad3dfcec6ff352b\", element=\"74195d71-1e52-45fe-8017-16ddefbf33aa\")>,\n",
       " <selenium.webdriver.remote.webelement.WebElement (session=\"c82a6898cd542fcebad3dfcec6ff352b\", element=\"a952a850-7e5b-43fc-abeb-d60ccc87b60a\")>,\n",
       " <selenium.webdriver.remote.webelement.WebElement (session=\"c82a6898cd542fcebad3dfcec6ff352b\", element=\"93d90563-ccf8-4984-9b26-2cc397846c78\")>,\n",
       " <selenium.webdriver.remote.webelement.WebElement (session=\"c82a6898cd542fcebad3dfcec6ff352b\", element=\"19e74ca8-4102-4e70-b7fc-0e1e747110d0\")>,\n",
       " <selenium.webdriver.remote.webelement.WebElement (session=\"c82a6898cd542fcebad3dfcec6ff352b\", element=\"3d82a4fd-203b-48ec-80a0-afaeee91dd22\")>,\n",
       " <selenium.webdriver.remote.webelement.WebElement (session=\"c82a6898cd542fcebad3dfcec6ff352b\", element=\"7a5fc065-2e20-4c4a-a3a6-fd181d47a48f\")>,\n",
       " <selenium.webdriver.remote.webelement.WebElement (session=\"c82a6898cd542fcebad3dfcec6ff352b\", element=\"d9532595-a587-418e-849e-c554025ba7ce\")>,\n",
       " <selenium.webdriver.remote.webelement.WebElement (session=\"c82a6898cd542fcebad3dfcec6ff352b\", element=\"db930194-b487-45d4-8acb-e20476075594\")>]"
      ]
     },
     "execution_count": 9,
     "metadata": {},
     "output_type": "execute_result"
    }
   ],
   "source": [
    "titles_tags=driver.find_elements_by_xpath(\"//div[@class='_2WkVRV']\")\n",
    "titles_tags"
   ]
  },
  {
   "cell_type": "code",
   "execution_count": 10,
   "id": "91b53001",
   "metadata": {},
   "outputs": [
    {
     "data": {
      "text/plain": [
       "['ZF - ALFIYA',\n",
       " 'Chevit',\n",
       " 'BRUTON',\n",
       " 'BIRDE',\n",
       " 'Robbie jones',\n",
       " 'BRUTON',\n",
       " 'URBANBOX',\n",
       " 'MOHLIYE',\n",
       " 'Labbin',\n",
       " 'BRUTON',\n",
       " 'Layasa',\n",
       " 'Cresswell',\n",
       " 'Robbie jones',\n",
       " 'aadi',\n",
       " 'D-SNEAKERZ',\n",
       " 'RapidBox',\n",
       " 'Robbie jones',\n",
       " 'CAMPUS',\n",
       " 'Dicy',\n",
       " 'Bacan',\n",
       " 'bluemaker',\n",
       " 'Robbie jones',\n",
       " 'Kraasa',\n",
       " 'Numenzo',\n",
       " 'ASTEROID',\n",
       " 'PUMA',\n",
       " 'aadi',\n",
       " 'BRUTON',\n",
       " 'KWIK FIT',\n",
       " 'Robbie jones',\n",
       " 'HOTSTYLE',\n",
       " 'Kirjak',\n",
       " 'Kraasa',\n",
       " 'Kraasa',\n",
       " 'CLYMB',\n",
       " 'Kraasa',\n",
       " 'BIRDE',\n",
       " 'ADIDAS',\n",
       " 'Robbie jones',\n",
       " 'Nilatin']"
      ]
     },
     "execution_count": 10,
     "metadata": {},
     "output_type": "execute_result"
    }
   ],
   "source": [
    "for i in titles_tags:\n",
    "    title=i.text\n",
    "    brand_titles.append(title)\n",
    "brand_titles"
   ]
  },
  {
   "cell_type": "code",
   "execution_count": 11,
   "id": "9c9d07c9",
   "metadata": {},
   "outputs": [
    {
     "data": {
      "text/plain": [
       "[<selenium.webdriver.remote.webelement.WebElement (session=\"c82a6898cd542fcebad3dfcec6ff352b\", element=\"8cc972d2-529a-46fd-aba0-c47693b0457d\")>,\n",
       " <selenium.webdriver.remote.webelement.WebElement (session=\"c82a6898cd542fcebad3dfcec6ff352b\", element=\"69fb6279-22a9-4a8d-9155-feb6699e093d\")>,\n",
       " <selenium.webdriver.remote.webelement.WebElement (session=\"c82a6898cd542fcebad3dfcec6ff352b\", element=\"cd776b22-f67b-4919-b5e0-8f52f2fea7e2\")>,\n",
       " <selenium.webdriver.remote.webelement.WebElement (session=\"c82a6898cd542fcebad3dfcec6ff352b\", element=\"fea34da5-1f18-41ea-a76e-86153e6a1a8c\")>,\n",
       " <selenium.webdriver.remote.webelement.WebElement (session=\"c82a6898cd542fcebad3dfcec6ff352b\", element=\"deac3886-939d-4f2c-b2b0-403917d8e43e\")>,\n",
       " <selenium.webdriver.remote.webelement.WebElement (session=\"c82a6898cd542fcebad3dfcec6ff352b\", element=\"538b7f5e-5dfa-4202-83b7-dfbe31bd0ccc\")>,\n",
       " <selenium.webdriver.remote.webelement.WebElement (session=\"c82a6898cd542fcebad3dfcec6ff352b\", element=\"6516b5b1-f3a0-4540-9c9b-041d2d173d9f\")>,\n",
       " <selenium.webdriver.remote.webelement.WebElement (session=\"c82a6898cd542fcebad3dfcec6ff352b\", element=\"7ad83bcf-2fc2-4fc1-bf23-b9b9fda5be1b\")>,\n",
       " <selenium.webdriver.remote.webelement.WebElement (session=\"c82a6898cd542fcebad3dfcec6ff352b\", element=\"cfaa9d3c-f98a-41d1-9129-cd516c33de71\")>,\n",
       " <selenium.webdriver.remote.webelement.WebElement (session=\"c82a6898cd542fcebad3dfcec6ff352b\", element=\"b9fa021c-efde-4fa1-8379-fdcd4b2fe601\")>,\n",
       " <selenium.webdriver.remote.webelement.WebElement (session=\"c82a6898cd542fcebad3dfcec6ff352b\", element=\"da589529-654a-41a0-98ef-6e87c29e2c1a\")>,\n",
       " <selenium.webdriver.remote.webelement.WebElement (session=\"c82a6898cd542fcebad3dfcec6ff352b\", element=\"9333bb44-a912-4345-8967-1dc86718672a\")>,\n",
       " <selenium.webdriver.remote.webelement.WebElement (session=\"c82a6898cd542fcebad3dfcec6ff352b\", element=\"d4fff3ba-7167-430f-bf0e-093f9c867e02\")>,\n",
       " <selenium.webdriver.remote.webelement.WebElement (session=\"c82a6898cd542fcebad3dfcec6ff352b\", element=\"040849c7-3764-4b1e-b377-da03e9cbe3c5\")>,\n",
       " <selenium.webdriver.remote.webelement.WebElement (session=\"c82a6898cd542fcebad3dfcec6ff352b\", element=\"7d30fac3-d7b3-48c7-bd34-6d9667b6c27c\")>,\n",
       " <selenium.webdriver.remote.webelement.WebElement (session=\"c82a6898cd542fcebad3dfcec6ff352b\", element=\"805e7672-373a-4be1-a5ab-47db8d84761c\")>,\n",
       " <selenium.webdriver.remote.webelement.WebElement (session=\"c82a6898cd542fcebad3dfcec6ff352b\", element=\"6c7b79e1-9504-417b-9aea-304c9d17b403\")>,\n",
       " <selenium.webdriver.remote.webelement.WebElement (session=\"c82a6898cd542fcebad3dfcec6ff352b\", element=\"11d82b87-a786-4be3-9898-df99308e9d88\")>,\n",
       " <selenium.webdriver.remote.webelement.WebElement (session=\"c82a6898cd542fcebad3dfcec6ff352b\", element=\"15f78513-eb20-49c2-997b-9bc2ea3c0404\")>,\n",
       " <selenium.webdriver.remote.webelement.WebElement (session=\"c82a6898cd542fcebad3dfcec6ff352b\", element=\"6a3bc9b9-7919-4a4f-b920-316751c61fd3\")>,\n",
       " <selenium.webdriver.remote.webelement.WebElement (session=\"c82a6898cd542fcebad3dfcec6ff352b\", element=\"85159d56-b0b0-48b4-97bc-f0f47eec18dd\")>,\n",
       " <selenium.webdriver.remote.webelement.WebElement (session=\"c82a6898cd542fcebad3dfcec6ff352b\", element=\"8cfbb185-5f23-4adf-8fdd-71d981009799\")>,\n",
       " <selenium.webdriver.remote.webelement.WebElement (session=\"c82a6898cd542fcebad3dfcec6ff352b\", element=\"57090695-7b33-407d-bb97-a2d2a6d20aa9\")>,\n",
       " <selenium.webdriver.remote.webelement.WebElement (session=\"c82a6898cd542fcebad3dfcec6ff352b\", element=\"533ff914-5a87-4e59-bb89-8bb5df61efbf\")>,\n",
       " <selenium.webdriver.remote.webelement.WebElement (session=\"c82a6898cd542fcebad3dfcec6ff352b\", element=\"a2752d70-c888-45fc-b6d9-7ae63385b93c\")>,\n",
       " <selenium.webdriver.remote.webelement.WebElement (session=\"c82a6898cd542fcebad3dfcec6ff352b\", element=\"3183261d-72a5-44ea-9533-ec33e75f7d26\")>,\n",
       " <selenium.webdriver.remote.webelement.WebElement (session=\"c82a6898cd542fcebad3dfcec6ff352b\", element=\"3589941d-db3d-4b3d-a4bf-7e7137e1c5aa\")>,\n",
       " <selenium.webdriver.remote.webelement.WebElement (session=\"c82a6898cd542fcebad3dfcec6ff352b\", element=\"58c4ac49-22a2-483c-97fe-70c6371e6d7e\")>,\n",
       " <selenium.webdriver.remote.webelement.WebElement (session=\"c82a6898cd542fcebad3dfcec6ff352b\", element=\"ec234a1e-a94c-40ac-ac5c-2a0d8cd5ea0c\")>,\n",
       " <selenium.webdriver.remote.webelement.WebElement (session=\"c82a6898cd542fcebad3dfcec6ff352b\", element=\"ab51e301-3dda-48b0-9427-c47a44786534\")>,\n",
       " <selenium.webdriver.remote.webelement.WebElement (session=\"c82a6898cd542fcebad3dfcec6ff352b\", element=\"4ced3bd1-1d35-489b-898a-2e8ed7848a2e\")>,\n",
       " <selenium.webdriver.remote.webelement.WebElement (session=\"c82a6898cd542fcebad3dfcec6ff352b\", element=\"f3b32e00-0301-4033-885d-567246f8010c\")>,\n",
       " <selenium.webdriver.remote.webelement.WebElement (session=\"c82a6898cd542fcebad3dfcec6ff352b\", element=\"02986726-4db4-4abc-9d3a-2fd193791c03\")>,\n",
       " <selenium.webdriver.remote.webelement.WebElement (session=\"c82a6898cd542fcebad3dfcec6ff352b\", element=\"f3672609-f1a3-4fd2-a893-f00000003062\")>,\n",
       " <selenium.webdriver.remote.webelement.WebElement (session=\"c82a6898cd542fcebad3dfcec6ff352b\", element=\"a06eb027-956d-4eb3-9644-d499e4afcca0\")>,\n",
       " <selenium.webdriver.remote.webelement.WebElement (session=\"c82a6898cd542fcebad3dfcec6ff352b\", element=\"d3ec33ad-af94-4868-9a63-87d6e7aa5228\")>]"
      ]
     },
     "execution_count": 11,
     "metadata": {},
     "output_type": "execute_result"
    }
   ],
   "source": [
    "description_tags=driver.find_elements_by_xpath(\"//a[@class='IRpwTa']\")\n",
    "description_tags"
   ]
  },
  {
   "cell_type": "code",
   "execution_count": 12,
   "id": "b7e65c20",
   "metadata": {},
   "outputs": [
    {
     "data": {
      "text/plain": [
       "['Sneakers For Men',\n",
       " '494 Perfect Sports Shoes for Running Training Hikking &...',\n",
       " 'Lightweight Pack Of 1 Trendy Sneakers Sneakers For Men',\n",
       " 'Stylish Comfortable Lightweight, Breathable Walking Sho...',\n",
       " 'Casual Sneakers Green Shoes For Men And Boys Sneakers F...',\n",
       " 'Modern Trendy Sneakers Shoes Sneakers For Men',\n",
       " 'Sneakers For Men',\n",
       " 'Sneakers For Men',\n",
       " 'Modern Trendy Sneakers Shoes Sneakers For Men',\n",
       " 'Sneakers For Men',\n",
       " 'Sneakers For Men',\n",
       " 'Sneakers For Men',\n",
       " \"Casual , Partywear Sneakers Shoes For Men's And Boys Wh...\",\n",
       " 'Sneakers For Men',\n",
       " 'KING PRO Sneakers For Men',\n",
       " 'Sneakers For Men',\n",
       " 'Sneakers For Men',\n",
       " 'casual for men Sneakers For Men',\n",
       " 'Casual Sneakers Canvas Shoes For Men Sneakers For Men',\n",
       " 'Shark-41 Sneakers For Men',\n",
       " '411 Casual Sneakers For Men',\n",
       " \"Luxury Branded Fashionable Men's Casual Walking Partywe...\",\n",
       " 'x KL Seattle Sneakers For Men',\n",
       " 'Sneakers For Men',\n",
       " 'Modern & Trendy Collection Combo Pack of 02 Shoes for M...',\n",
       " 'Kwik FIT casual sneaker shoes and partywear shoes Casua...',\n",
       " 'Casual Sneakers White Shoes For Men Sneakers For Men',\n",
       " 'Sneakers For Men',\n",
       " 'Casuals, Canvas, Partywear Sneakers For Men',\n",
       " 'Series 7 Sneakers For Men',\n",
       " 'Sneakers For Men',\n",
       " 'Boom Sneakers For Men',\n",
       " 'Stylish Comfortable Lightweight, Breathable Walking Sho...',\n",
       " 'STREET ICON M Sneakers For Men',\n",
       " 'Sneakers For Men',\n",
       " 'Sneakers For Men']"
      ]
     },
     "execution_count": 12,
     "metadata": {},
     "output_type": "execute_result"
    }
   ],
   "source": [
    "for i in description_tags:\n",
    "    description_product=i.text\n",
    "    description_products.append(description_product)\n",
    "description_products"
   ]
  },
  {
   "cell_type": "code",
   "execution_count": 13,
   "id": "1bc9aacb",
   "metadata": {},
   "outputs": [
    {
     "data": {
      "text/plain": [
       "[<selenium.webdriver.remote.webelement.WebElement (session=\"c82a6898cd542fcebad3dfcec6ff352b\", element=\"f2df518d-d5ed-4d72-a679-5c81fa9496ce\")>,\n",
       " <selenium.webdriver.remote.webelement.WebElement (session=\"c82a6898cd542fcebad3dfcec6ff352b\", element=\"cea9feb7-bd92-445f-80e4-971fee30bac3\")>,\n",
       " <selenium.webdriver.remote.webelement.WebElement (session=\"c82a6898cd542fcebad3dfcec6ff352b\", element=\"7f948074-4c03-4650-8d50-22aa0baf237a\")>,\n",
       " <selenium.webdriver.remote.webelement.WebElement (session=\"c82a6898cd542fcebad3dfcec6ff352b\", element=\"043d0631-b88c-4c2e-ba0b-93ce76bd0f6c\")>,\n",
       " <selenium.webdriver.remote.webelement.WebElement (session=\"c82a6898cd542fcebad3dfcec6ff352b\", element=\"4527e1df-a7d4-4832-b080-d1c2a3087380\")>,\n",
       " <selenium.webdriver.remote.webelement.WebElement (session=\"c82a6898cd542fcebad3dfcec6ff352b\", element=\"baa9e7de-de9d-47e2-bb19-0841972af8d9\")>,\n",
       " <selenium.webdriver.remote.webelement.WebElement (session=\"c82a6898cd542fcebad3dfcec6ff352b\", element=\"c4b041bc-f9a7-4273-887c-0124063fe60b\")>,\n",
       " <selenium.webdriver.remote.webelement.WebElement (session=\"c82a6898cd542fcebad3dfcec6ff352b\", element=\"7cead95e-154c-40ea-9800-b47f62e28560\")>,\n",
       " <selenium.webdriver.remote.webelement.WebElement (session=\"c82a6898cd542fcebad3dfcec6ff352b\", element=\"984dd81a-34b0-4e64-a073-3f2e04816a5f\")>,\n",
       " <selenium.webdriver.remote.webelement.WebElement (session=\"c82a6898cd542fcebad3dfcec6ff352b\", element=\"52bc5ba6-7e16-484d-95cd-82b70a28b8bf\")>,\n",
       " <selenium.webdriver.remote.webelement.WebElement (session=\"c82a6898cd542fcebad3dfcec6ff352b\", element=\"a05e1292-249d-4d66-a4bd-4a94a072d093\")>,\n",
       " <selenium.webdriver.remote.webelement.WebElement (session=\"c82a6898cd542fcebad3dfcec6ff352b\", element=\"31b1eaba-3e98-4e33-8d94-7ee702925324\")>,\n",
       " <selenium.webdriver.remote.webelement.WebElement (session=\"c82a6898cd542fcebad3dfcec6ff352b\", element=\"e133243e-5613-4fc1-ab39-3a6c74551c70\")>,\n",
       " <selenium.webdriver.remote.webelement.WebElement (session=\"c82a6898cd542fcebad3dfcec6ff352b\", element=\"1afd13c7-9f0c-4cdc-a7b1-cb4a701a5611\")>,\n",
       " <selenium.webdriver.remote.webelement.WebElement (session=\"c82a6898cd542fcebad3dfcec6ff352b\", element=\"f4a9a14c-8e15-46e0-b9cc-5f99ca8900a5\")>,\n",
       " <selenium.webdriver.remote.webelement.WebElement (session=\"c82a6898cd542fcebad3dfcec6ff352b\", element=\"b39c161a-cbd0-4157-a4e4-88fd7e4144ef\")>,\n",
       " <selenium.webdriver.remote.webelement.WebElement (session=\"c82a6898cd542fcebad3dfcec6ff352b\", element=\"6c07a9ff-2e2b-4fe9-b7ea-8d46aa077302\")>,\n",
       " <selenium.webdriver.remote.webelement.WebElement (session=\"c82a6898cd542fcebad3dfcec6ff352b\", element=\"86e6a210-85af-4324-b1ed-c65307e02774\")>,\n",
       " <selenium.webdriver.remote.webelement.WebElement (session=\"c82a6898cd542fcebad3dfcec6ff352b\", element=\"b96f06c7-0c30-4d98-8ce3-e2923de5341a\")>,\n",
       " <selenium.webdriver.remote.webelement.WebElement (session=\"c82a6898cd542fcebad3dfcec6ff352b\", element=\"3997b2d8-d494-4dff-bac2-aed2810efa48\")>,\n",
       " <selenium.webdriver.remote.webelement.WebElement (session=\"c82a6898cd542fcebad3dfcec6ff352b\", element=\"3ab98c9d-fc3e-4a49-911a-d60cc10c30ff\")>,\n",
       " <selenium.webdriver.remote.webelement.WebElement (session=\"c82a6898cd542fcebad3dfcec6ff352b\", element=\"896ba593-6aac-4237-9cbd-3524713a0c25\")>,\n",
       " <selenium.webdriver.remote.webelement.WebElement (session=\"c82a6898cd542fcebad3dfcec6ff352b\", element=\"7c298631-adf2-4c25-906a-6d229132d0c1\")>,\n",
       " <selenium.webdriver.remote.webelement.WebElement (session=\"c82a6898cd542fcebad3dfcec6ff352b\", element=\"627b022d-9597-4542-a882-3673963fd774\")>,\n",
       " <selenium.webdriver.remote.webelement.WebElement (session=\"c82a6898cd542fcebad3dfcec6ff352b\", element=\"61fe3e0d-fef1-4e39-bf3b-5bcd5d9087a5\")>,\n",
       " <selenium.webdriver.remote.webelement.WebElement (session=\"c82a6898cd542fcebad3dfcec6ff352b\", element=\"06b45952-30a6-4933-a37b-904016aa80af\")>,\n",
       " <selenium.webdriver.remote.webelement.WebElement (session=\"c82a6898cd542fcebad3dfcec6ff352b\", element=\"917a1eb9-72e2-4bc0-b4f9-a54312d4289a\")>,\n",
       " <selenium.webdriver.remote.webelement.WebElement (session=\"c82a6898cd542fcebad3dfcec6ff352b\", element=\"a2676c27-b508-4d79-a66e-15fff96e52f1\")>,\n",
       " <selenium.webdriver.remote.webelement.WebElement (session=\"c82a6898cd542fcebad3dfcec6ff352b\", element=\"9e2696ec-8f31-4cfa-be74-d32de6726ac8\")>,\n",
       " <selenium.webdriver.remote.webelement.WebElement (session=\"c82a6898cd542fcebad3dfcec6ff352b\", element=\"f4a63b0a-e2e5-4120-9734-dcdce577fefe\")>,\n",
       " <selenium.webdriver.remote.webelement.WebElement (session=\"c82a6898cd542fcebad3dfcec6ff352b\", element=\"747991a2-f69e-409e-8943-36502fcab12f\")>,\n",
       " <selenium.webdriver.remote.webelement.WebElement (session=\"c82a6898cd542fcebad3dfcec6ff352b\", element=\"6070fefa-aee1-48af-a4f8-223e4512e5a7\")>,\n",
       " <selenium.webdriver.remote.webelement.WebElement (session=\"c82a6898cd542fcebad3dfcec6ff352b\", element=\"3405e8bb-adf5-4ca4-8453-9b1ef693f70d\")>,\n",
       " <selenium.webdriver.remote.webelement.WebElement (session=\"c82a6898cd542fcebad3dfcec6ff352b\", element=\"ea4d13e7-5bf8-4cc5-b354-c34811af4e5e\")>,\n",
       " <selenium.webdriver.remote.webelement.WebElement (session=\"c82a6898cd542fcebad3dfcec6ff352b\", element=\"bb5a2763-cb85-44f4-be3d-53c92736225a\")>,\n",
       " <selenium.webdriver.remote.webelement.WebElement (session=\"c82a6898cd542fcebad3dfcec6ff352b\", element=\"824c32bb-986e-49c5-9ce6-4bd8b1b40387\")>,\n",
       " <selenium.webdriver.remote.webelement.WebElement (session=\"c82a6898cd542fcebad3dfcec6ff352b\", element=\"890b5f01-46f5-4646-85fd-d19d06a3dba4\")>,\n",
       " <selenium.webdriver.remote.webelement.WebElement (session=\"c82a6898cd542fcebad3dfcec6ff352b\", element=\"a8cdf913-6746-4623-bcf5-de6269c0a7b1\")>,\n",
       " <selenium.webdriver.remote.webelement.WebElement (session=\"c82a6898cd542fcebad3dfcec6ff352b\", element=\"90f51d2c-92d9-45d6-b81e-04dd5fd90769\")>,\n",
       " <selenium.webdriver.remote.webelement.WebElement (session=\"c82a6898cd542fcebad3dfcec6ff352b\", element=\"12e820c8-f03d-454e-80fd-309643e4a79a\")>]"
      ]
     },
     "execution_count": 13,
     "metadata": {},
     "output_type": "execute_result"
    }
   ],
   "source": [
    "price_tags=driver.find_elements_by_xpath(\"//div[@class='_30jeq3']\")\n",
    "price_tags"
   ]
  },
  {
   "cell_type": "code",
   "execution_count": 14,
   "id": "b142849a",
   "metadata": {},
   "outputs": [
    {
     "data": {
      "text/plain": [
       "['₹439',\n",
       " '₹254',\n",
       " '₹149',\n",
       " '₹299',\n",
       " '₹399',\n",
       " '₹283',\n",
       " '₹198',\n",
       " '₹299',\n",
       " '₹474',\n",
       " '₹269',\n",
       " '₹359',\n",
       " '₹1,499',\n",
       " '₹399',\n",
       " '₹319',\n",
       " '₹284',\n",
       " '₹646',\n",
       " '₹399',\n",
       " '₹699',\n",
       " '₹284',\n",
       " '₹474',\n",
       " '₹424',\n",
       " '₹399',\n",
       " '₹419',\n",
       " '₹424',\n",
       " '₹474',\n",
       " '₹2,049',\n",
       " '₹299',\n",
       " '₹471',\n",
       " '₹397',\n",
       " '₹379',\n",
       " '₹245',\n",
       " '₹539',\n",
       " '₹479',\n",
       " '₹449',\n",
       " '₹519',\n",
       " '₹543',\n",
       " '₹299',\n",
       " '₹1,655',\n",
       " '₹379',\n",
       " '₹539']"
      ]
     },
     "execution_count": 14,
     "metadata": {},
     "output_type": "execute_result"
    }
   ],
   "source": [
    "for i in price_tags:\n",
    "    price=i.text\n",
    "    price_list.append(price)\n",
    "price_list"
   ]
  },
  {
   "cell_type": "code",
   "execution_count": 15,
   "id": "ac2a69cc",
   "metadata": {},
   "outputs": [
    {
     "data": {
      "text/plain": [
       "[<selenium.webdriver.remote.webelement.WebElement (session=\"c82a6898cd542fcebad3dfcec6ff352b\", element=\"ab39bf21-59de-46b5-b883-a047237d0ffc\")>,\n",
       " <selenium.webdriver.remote.webelement.WebElement (session=\"c82a6898cd542fcebad3dfcec6ff352b\", element=\"b74a2065-cad1-4d51-862d-7ee7508352a0\")>,\n",
       " <selenium.webdriver.remote.webelement.WebElement (session=\"c82a6898cd542fcebad3dfcec6ff352b\", element=\"ebbdc1ea-453d-4947-9665-79a1e1b8e2db\")>,\n",
       " <selenium.webdriver.remote.webelement.WebElement (session=\"c82a6898cd542fcebad3dfcec6ff352b\", element=\"80c89f40-bcb4-4beb-a2ef-9139acb8d8dc\")>,\n",
       " <selenium.webdriver.remote.webelement.WebElement (session=\"c82a6898cd542fcebad3dfcec6ff352b\", element=\"44a9a4a7-2f03-485d-bab5-09b6506b8ca4\")>,\n",
       " <selenium.webdriver.remote.webelement.WebElement (session=\"c82a6898cd542fcebad3dfcec6ff352b\", element=\"57bdc4bb-3707-4e5a-81da-d45cb00b94d3\")>,\n",
       " <selenium.webdriver.remote.webelement.WebElement (session=\"c82a6898cd542fcebad3dfcec6ff352b\", element=\"f1419345-0203-4e25-a5f9-96f05881dd6f\")>,\n",
       " <selenium.webdriver.remote.webelement.WebElement (session=\"c82a6898cd542fcebad3dfcec6ff352b\", element=\"1256cb7a-e238-4c6e-b26b-7c5abd6a6da4\")>,\n",
       " <selenium.webdriver.remote.webelement.WebElement (session=\"c82a6898cd542fcebad3dfcec6ff352b\", element=\"22c639e4-41ab-404c-9c65-b9a1f81cd573\")>,\n",
       " <selenium.webdriver.remote.webelement.WebElement (session=\"c82a6898cd542fcebad3dfcec6ff352b\", element=\"770b74f1-8183-4a89-89f7-0d418c95b056\")>,\n",
       " <selenium.webdriver.remote.webelement.WebElement (session=\"c82a6898cd542fcebad3dfcec6ff352b\", element=\"ba8b3587-907a-4d33-a8aa-613e7c300074\")>,\n",
       " <selenium.webdriver.remote.webelement.WebElement (session=\"c82a6898cd542fcebad3dfcec6ff352b\", element=\"ffdfaf17-5a8d-4732-aed3-2ee3e93c1b35\")>,\n",
       " <selenium.webdriver.remote.webelement.WebElement (session=\"c82a6898cd542fcebad3dfcec6ff352b\", element=\"35a0575d-b39a-4693-bef1-c8f33e3a6384\")>,\n",
       " <selenium.webdriver.remote.webelement.WebElement (session=\"c82a6898cd542fcebad3dfcec6ff352b\", element=\"3911bb43-1114-475c-ac66-86fd2e7f4468\")>,\n",
       " <selenium.webdriver.remote.webelement.WebElement (session=\"c82a6898cd542fcebad3dfcec6ff352b\", element=\"bd49c2a4-7a74-4bb1-a8b1-7f37a57b6f52\")>,\n",
       " <selenium.webdriver.remote.webelement.WebElement (session=\"c82a6898cd542fcebad3dfcec6ff352b\", element=\"ed79ddb7-a1a0-4c42-b3c5-f027670dbd41\")>,\n",
       " <selenium.webdriver.remote.webelement.WebElement (session=\"c82a6898cd542fcebad3dfcec6ff352b\", element=\"7959d91f-a4a4-409e-be62-2eaa9c8a6258\")>,\n",
       " <selenium.webdriver.remote.webelement.WebElement (session=\"c82a6898cd542fcebad3dfcec6ff352b\", element=\"0be26265-9c2b-476b-ad03-c13ec8b4949d\")>,\n",
       " <selenium.webdriver.remote.webelement.WebElement (session=\"c82a6898cd542fcebad3dfcec6ff352b\", element=\"a8037cf6-ff13-49e9-915f-9c5eb98cf162\")>,\n",
       " <selenium.webdriver.remote.webelement.WebElement (session=\"c82a6898cd542fcebad3dfcec6ff352b\", element=\"6fbb2066-7f77-414a-9c69-eaee89f46608\")>,\n",
       " <selenium.webdriver.remote.webelement.WebElement (session=\"c82a6898cd542fcebad3dfcec6ff352b\", element=\"3bb9d96d-c0bc-4dd4-925b-0515da05327c\")>,\n",
       " <selenium.webdriver.remote.webelement.WebElement (session=\"c82a6898cd542fcebad3dfcec6ff352b\", element=\"83e0a840-2695-400b-b459-3cd438e1bb05\")>,\n",
       " <selenium.webdriver.remote.webelement.WebElement (session=\"c82a6898cd542fcebad3dfcec6ff352b\", element=\"f2f943ea-39b9-4fa2-9ba9-864e9bce4ead\")>,\n",
       " <selenium.webdriver.remote.webelement.WebElement (session=\"c82a6898cd542fcebad3dfcec6ff352b\", element=\"77820585-a3b9-496a-8dcb-d39f3d83ba42\")>,\n",
       " <selenium.webdriver.remote.webelement.WebElement (session=\"c82a6898cd542fcebad3dfcec6ff352b\", element=\"a2b9bdfe-8ab9-4ff8-8529-c7b2f96e7c9b\")>,\n",
       " <selenium.webdriver.remote.webelement.WebElement (session=\"c82a6898cd542fcebad3dfcec6ff352b\", element=\"5da987f7-180d-4929-96fc-953902bb198c\")>,\n",
       " <selenium.webdriver.remote.webelement.WebElement (session=\"c82a6898cd542fcebad3dfcec6ff352b\", element=\"d8b60ce7-6da9-4ae2-8ed4-32b4226f7088\")>,\n",
       " <selenium.webdriver.remote.webelement.WebElement (session=\"c82a6898cd542fcebad3dfcec6ff352b\", element=\"36614a12-a605-4122-be05-e68f5e8472f9\")>,\n",
       " <selenium.webdriver.remote.webelement.WebElement (session=\"c82a6898cd542fcebad3dfcec6ff352b\", element=\"e3bce622-4593-40ca-a101-9ffc0efb12bd\")>,\n",
       " <selenium.webdriver.remote.webelement.WebElement (session=\"c82a6898cd542fcebad3dfcec6ff352b\", element=\"f5f4cf1a-bc00-432f-ac85-6f0d0e07dbb4\")>,\n",
       " <selenium.webdriver.remote.webelement.WebElement (session=\"c82a6898cd542fcebad3dfcec6ff352b\", element=\"8640a51e-0cb9-41f1-bfea-1a15a5d89f81\")>,\n",
       " <selenium.webdriver.remote.webelement.WebElement (session=\"c82a6898cd542fcebad3dfcec6ff352b\", element=\"cf31ec60-9714-4af1-af0c-7cbf97c76b62\")>,\n",
       " <selenium.webdriver.remote.webelement.WebElement (session=\"c82a6898cd542fcebad3dfcec6ff352b\", element=\"580c093f-e44e-4670-9c7e-f67ffd638e2f\")>,\n",
       " <selenium.webdriver.remote.webelement.WebElement (session=\"c82a6898cd542fcebad3dfcec6ff352b\", element=\"1007838e-16be-478b-9147-3de9c64ee617\")>,\n",
       " <selenium.webdriver.remote.webelement.WebElement (session=\"c82a6898cd542fcebad3dfcec6ff352b\", element=\"26144100-9303-470b-bec9-e29c54fcee36\")>,\n",
       " <selenium.webdriver.remote.webelement.WebElement (session=\"c82a6898cd542fcebad3dfcec6ff352b\", element=\"97541d70-92d1-4f2e-9689-00e39a94a057\")>,\n",
       " <selenium.webdriver.remote.webelement.WebElement (session=\"c82a6898cd542fcebad3dfcec6ff352b\", element=\"2097b751-ad18-48d6-8a3b-ce0a9fd94ddc\")>,\n",
       " <selenium.webdriver.remote.webelement.WebElement (session=\"c82a6898cd542fcebad3dfcec6ff352b\", element=\"e30ed902-4529-4007-8668-a35b220e3759\")>,\n",
       " <selenium.webdriver.remote.webelement.WebElement (session=\"c82a6898cd542fcebad3dfcec6ff352b\", element=\"01881a77-322b-43cc-8323-e969cda14132\")>,\n",
       " <selenium.webdriver.remote.webelement.WebElement (session=\"c82a6898cd542fcebad3dfcec6ff352b\", element=\"814e9854-1615-4b54-90be-9c60e8f0184f\")>]"
      ]
     },
     "execution_count": 15,
     "metadata": {},
     "output_type": "execute_result"
    }
   ],
   "source": [
    "discount_tags=driver.find_elements_by_xpath(\"//div[@class='_3Ay6Sb']\")\n",
    "discount_tags"
   ]
  },
  {
   "cell_type": "code",
   "execution_count": 16,
   "id": "57748521",
   "metadata": {},
   "outputs": [
    {
     "data": {
      "text/plain": [
       "['56% off',\n",
       " '74% off',\n",
       " '75% off',\n",
       " '70% off',\n",
       " '60% off',\n",
       " '78% off',\n",
       " '80% off',\n",
       " '57% off',\n",
       " '52% off',\n",
       " '79% off',\n",
       " '64% off',\n",
       " '57% off',\n",
       " '60% off',\n",
       " '68% off',\n",
       " '56% off',\n",
       " '35% off',\n",
       " '60% off',\n",
       " '36% off',\n",
       " '52% off',\n",
       " '52% off',\n",
       " '57% off',\n",
       " '60% off',\n",
       " '58% off',\n",
       " '78% off',\n",
       " '76% off',\n",
       " '54% off',\n",
       " '70% off',\n",
       " '81% off',\n",
       " '80% off',\n",
       " '62% off',\n",
       " '75% off',\n",
       " '73% off',\n",
       " '52% off',\n",
       " '55% off',\n",
       " '65% off',\n",
       " '72% off',\n",
       " '70% off',\n",
       " '54% off',\n",
       " '62% off',\n",
       " '82% off']"
      ]
     },
     "execution_count": 16,
     "metadata": {},
     "output_type": "execute_result"
    }
   ],
   "source": [
    "for i in discount_tags:\n",
    "    discount=i.text\n",
    "    discount_list.append(discount)\n",
    "discount_list"
   ]
  },
  {
   "cell_type": "code",
   "execution_count": 19,
   "id": "83e7c91b",
   "metadata": {},
   "outputs": [],
   "source": [
    "next_button=driver.find_element_by_xpath(\"/html/body/div[1]/div/div[3]/div[1]/div[2]/div[12]/div/div/nav/a[11]/span\")\n",
    "next_button.click()"
   ]
  },
  {
   "cell_type": "code",
   "execution_count": 21,
   "id": "f10c17a4",
   "metadata": {},
   "outputs": [],
   "source": [
    "t_list=[]\n",
    "for i in range(0,3):\n",
    "    titles_tags=driver.find_elements_by_xpath(\"//div[@class='_2WkVRV']\")\n",
    "    for i in titles_tags:\n",
    "        title=i.text\n",
    "        t_list.append(title)\n",
    "next_button=driver.find_element_by_xpath(\"/html/body/div[1]/div/div[3]/div[1]/div[2]/div[12]/div/div/nav/a[11]/span\")\n",
    "next_button.click()\n",
    "time.sleep(5)"
   ]
  },
  {
   "cell_type": "code",
   "execution_count": 22,
   "id": "c5d10b2a",
   "metadata": {},
   "outputs": [
    {
     "data": {
      "text/plain": [
       "120"
      ]
     },
     "execution_count": 22,
     "metadata": {},
     "output_type": "execute_result"
    }
   ],
   "source": [
    "len(t_list)"
   ]
  },
  {
   "cell_type": "code",
   "execution_count": null,
   "id": "1eb51a73",
   "metadata": {},
   "outputs": [],
   "source": []
  },
  {
   "cell_type": "markdown",
   "id": "764c2d6a",
   "metadata": {},
   "source": [
    "# (7) SCRAP DATA(myntra.com):-\n",
    "\n",
    "\n",
    "\n"
   ]
  },
  {
   "cell_type": "code",
   "execution_count": 26,
   "id": "36d99b72",
   "metadata": {},
   "outputs": [
    {
     "name": "stdout",
     "output_type": "stream",
     "text": [
      "Requirement already satisfied: selenium in c:\\programdata\\anaconda3\\lib\\site-packages (4.2.0)\n",
      "Requirement already satisfied: trio~=0.17 in c:\\programdata\\anaconda3\\lib\\site-packages (from selenium) (0.21.0)\n",
      "Requirement already satisfied: trio-websocket~=0.9 in c:\\programdata\\anaconda3\\lib\\site-packages (from selenium) (0.9.2)\n",
      "Requirement already satisfied: urllib3[secure,socks]~=1.26 in c:\\programdata\\anaconda3\\lib\\site-packages (from selenium) (1.26.7)\n",
      "Requirement already satisfied: sniffio in c:\\programdata\\anaconda3\\lib\\site-packages (from trio~=0.17->selenium) (1.2.0)\n",
      "Requirement already satisfied: async-generator>=1.9 in c:\\programdata\\anaconda3\\lib\\site-packages (from trio~=0.17->selenium) (1.10)\n",
      "Requirement already satisfied: sortedcontainers in c:\\programdata\\anaconda3\\lib\\site-packages (from trio~=0.17->selenium) (2.4.0)\n",
      "Requirement already satisfied: idna in c:\\programdata\\anaconda3\\lib\\site-packages (from trio~=0.17->selenium) (3.2)\n",
      "Requirement already satisfied: cffi>=1.14 in c:\\programdata\\anaconda3\\lib\\site-packages (from trio~=0.17->selenium) (1.14.6)\n",
      "Requirement already satisfied: outcome in c:\\programdata\\anaconda3\\lib\\site-packages (from trio~=0.17->selenium) (1.2.0)\n",
      "Requirement already satisfied: attrs>=19.2.0 in c:\\programdata\\anaconda3\\lib\\site-packages (from trio~=0.17->selenium) (21.2.0)\n",
      "Requirement already satisfied: pycparser in c:\\programdata\\anaconda3\\lib\\site-packages (from cffi>=1.14->trio~=0.17->selenium) (2.20)\n",
      "Requirement already satisfied: wsproto>=0.14 in c:\\programdata\\anaconda3\\lib\\site-packages (from trio-websocket~=0.9->selenium) (1.1.0)\n",
      "Requirement already satisfied: PySocks!=1.5.7,<2.0,>=1.5.6 in c:\\programdata\\anaconda3\\lib\\site-packages (from urllib3[secure,socks]~=1.26->selenium) (1.7.1)\n",
      "Requirement already satisfied: pyOpenSSL>=0.14 in c:\\programdata\\anaconda3\\lib\\site-packages (from urllib3[secure,socks]~=1.26->selenium) (21.0.0)\n",
      "Requirement already satisfied: cryptography>=1.3.4 in c:\\programdata\\anaconda3\\lib\\site-packages (from urllib3[secure,socks]~=1.26->selenium) (3.4.8)\n",
      "Requirement already satisfied: certifi in c:\\programdata\\anaconda3\\lib\\site-packages (from urllib3[secure,socks]~=1.26->selenium) (2021.10.8)\n",
      "Requirement already satisfied: six>=1.5.2 in c:\\programdata\\anaconda3\\lib\\site-packages (from pyOpenSSL>=0.14->urllib3[secure,socks]~=1.26->selenium) (1.16.0)\n",
      "Requirement already satisfied: h11<1,>=0.9.0 in c:\\programdata\\anaconda3\\lib\\site-packages (from wsproto>=0.14->trio-websocket~=0.9->selenium) (0.13.0)\n"
     ]
    }
   ],
   "source": [
    "! pip install selenium"
   ]
  },
  {
   "cell_type": "code",
   "execution_count": 27,
   "id": "50fde253",
   "metadata": {},
   "outputs": [],
   "source": [
    "import selenium\n",
    "import pandas as pd\n",
    "from selenium import webdriver\n",
    "import warnings\n",
    "warnings.filterwarnings(\"ignore\")\n",
    "import time"
   ]
  },
  {
   "cell_type": "code",
   "execution_count": 28,
   "id": "520013a2",
   "metadata": {},
   "outputs": [],
   "source": [
    "driver = webdriver.Chrome(r\"C:\\web driver\\chromedriver.exe\")"
   ]
  },
  {
   "cell_type": "code",
   "execution_count": 29,
   "id": "72c6a307",
   "metadata": {},
   "outputs": [],
   "source": [
    "driver=webdriver.Chrome(\"chromedriver.exe\")\n",
    "time.sleep(2)"
   ]
  },
  {
   "cell_type": "code",
   "execution_count": 30,
   "id": "d66d02c9",
   "metadata": {},
   "outputs": [],
   "source": [
    "driver.get('https://www.myntra.com/shoes')"
   ]
  },
  {
   "cell_type": "code",
   "execution_count": 33,
   "id": "14035fe1",
   "metadata": {},
   "outputs": [],
   "source": [
    "filter_button=driver.find_element_by_xpath(\"/html/body/div[2]/div/div[1]/main/div[3]/div[1]/section/div/div[5]/ul/li[2]/label/div\")\n",
    "filter_button.click()"
   ]
  },
  {
   "cell_type": "code",
   "execution_count": 35,
   "id": "eaf9e378",
   "metadata": {},
   "outputs": [],
   "source": [
    "filter_button=driver.find_element_by_xpath(\"/html/body/div[2]/div/div[1]/main/div[3]/div[1]/section/div/div[6]/ul/li[1]/label/div\")\n",
    "filter_button.click()"
   ]
  },
  {
   "cell_type": "code",
   "execution_count": 36,
   "id": "eda51ead",
   "metadata": {},
   "outputs": [],
   "source": [
    "brand_titles = []\n",
    "description_products = []\n",
    "price_list = []"
   ]
  },
  {
   "cell_type": "code",
   "execution_count": 37,
   "id": "43808685",
   "metadata": {},
   "outputs": [
    {
     "data": {
      "text/plain": [
       "[<selenium.webdriver.remote.webelement.WebElement (session=\"87eae38201ed4dd43956c233f1e738d2\", element=\"f257dbfb-0156-468d-a03b-46aef2d36428\")>,\n",
       " <selenium.webdriver.remote.webelement.WebElement (session=\"87eae38201ed4dd43956c233f1e738d2\", element=\"0191cb27-6e13-41e0-869b-808ce8292643\")>,\n",
       " <selenium.webdriver.remote.webelement.WebElement (session=\"87eae38201ed4dd43956c233f1e738d2\", element=\"85017dbf-26a5-4181-a93c-b21d51900c5c\")>,\n",
       " <selenium.webdriver.remote.webelement.WebElement (session=\"87eae38201ed4dd43956c233f1e738d2\", element=\"f6edc9ab-6970-40df-8044-d4723b5d1380\")>,\n",
       " <selenium.webdriver.remote.webelement.WebElement (session=\"87eae38201ed4dd43956c233f1e738d2\", element=\"2acad81b-1dbb-416d-970d-30a169c9d461\")>,\n",
       " <selenium.webdriver.remote.webelement.WebElement (session=\"87eae38201ed4dd43956c233f1e738d2\", element=\"66e3e48d-41b3-44fe-aece-e5f8b1b193b8\")>,\n",
       " <selenium.webdriver.remote.webelement.WebElement (session=\"87eae38201ed4dd43956c233f1e738d2\", element=\"2d2cfc3e-dfbf-41da-90d2-f021ee2ea718\")>,\n",
       " <selenium.webdriver.remote.webelement.WebElement (session=\"87eae38201ed4dd43956c233f1e738d2\", element=\"2af5da9c-83da-4d4d-984a-1f53d3483dc2\")>,\n",
       " <selenium.webdriver.remote.webelement.WebElement (session=\"87eae38201ed4dd43956c233f1e738d2\", element=\"44b24d37-5875-42ed-af53-60d0b33b2461\")>,\n",
       " <selenium.webdriver.remote.webelement.WebElement (session=\"87eae38201ed4dd43956c233f1e738d2\", element=\"652e23eb-6ae6-4e19-840a-2ecd41c97615\")>,\n",
       " <selenium.webdriver.remote.webelement.WebElement (session=\"87eae38201ed4dd43956c233f1e738d2\", element=\"d989f955-490b-45dd-a743-53f8ec4fa656\")>,\n",
       " <selenium.webdriver.remote.webelement.WebElement (session=\"87eae38201ed4dd43956c233f1e738d2\", element=\"38f0e972-9a3d-4e87-94c3-4292cb5e7a77\")>,\n",
       " <selenium.webdriver.remote.webelement.WebElement (session=\"87eae38201ed4dd43956c233f1e738d2\", element=\"783708ff-f3bc-49a2-8ba9-6dc720553f03\")>,\n",
       " <selenium.webdriver.remote.webelement.WebElement (session=\"87eae38201ed4dd43956c233f1e738d2\", element=\"882638b6-1b5a-4dcc-bf7a-69e2ae5b1a8e\")>,\n",
       " <selenium.webdriver.remote.webelement.WebElement (session=\"87eae38201ed4dd43956c233f1e738d2\", element=\"db859c76-48e5-453f-b968-f841f47362f1\")>,\n",
       " <selenium.webdriver.remote.webelement.WebElement (session=\"87eae38201ed4dd43956c233f1e738d2\", element=\"a5c53298-45d3-4abc-903c-ad6d3b8cdda4\")>,\n",
       " <selenium.webdriver.remote.webelement.WebElement (session=\"87eae38201ed4dd43956c233f1e738d2\", element=\"eb890a74-7818-45ff-a101-7bc8514dae23\")>,\n",
       " <selenium.webdriver.remote.webelement.WebElement (session=\"87eae38201ed4dd43956c233f1e738d2\", element=\"15c9a3a0-b500-41ef-9c85-3db30f243b05\")>,\n",
       " <selenium.webdriver.remote.webelement.WebElement (session=\"87eae38201ed4dd43956c233f1e738d2\", element=\"a4bff063-1a53-4f6b-9c6c-c6b1fb40852a\")>,\n",
       " <selenium.webdriver.remote.webelement.WebElement (session=\"87eae38201ed4dd43956c233f1e738d2\", element=\"df60d973-f3b6-4626-8d3c-23227aac4a84\")>,\n",
       " <selenium.webdriver.remote.webelement.WebElement (session=\"87eae38201ed4dd43956c233f1e738d2\", element=\"06e8beec-e264-48d8-b2bb-1b3085116e25\")>,\n",
       " <selenium.webdriver.remote.webelement.WebElement (session=\"87eae38201ed4dd43956c233f1e738d2\", element=\"e8d7787e-9e34-49da-a62f-d74c1e84ad4c\")>,\n",
       " <selenium.webdriver.remote.webelement.WebElement (session=\"87eae38201ed4dd43956c233f1e738d2\", element=\"30d1990c-01c6-42f1-bc13-13abedef9a1e\")>,\n",
       " <selenium.webdriver.remote.webelement.WebElement (session=\"87eae38201ed4dd43956c233f1e738d2\", element=\"81ed6c32-cc3b-4efa-b2c1-818c79281596\")>,\n",
       " <selenium.webdriver.remote.webelement.WebElement (session=\"87eae38201ed4dd43956c233f1e738d2\", element=\"c3281b40-4f85-4594-a443-df0ea191db91\")>,\n",
       " <selenium.webdriver.remote.webelement.WebElement (session=\"87eae38201ed4dd43956c233f1e738d2\", element=\"1cc80a27-c44f-4924-b320-61fb5506d725\")>,\n",
       " <selenium.webdriver.remote.webelement.WebElement (session=\"87eae38201ed4dd43956c233f1e738d2\", element=\"90767ec9-2db7-4ca6-a5d2-ee4d8e6d88f9\")>,\n",
       " <selenium.webdriver.remote.webelement.WebElement (session=\"87eae38201ed4dd43956c233f1e738d2\", element=\"3aed3293-5325-4324-9836-84ee925aa07a\")>,\n",
       " <selenium.webdriver.remote.webelement.WebElement (session=\"87eae38201ed4dd43956c233f1e738d2\", element=\"4c2cc4b9-046e-489c-ab06-27c711149c02\")>,\n",
       " <selenium.webdriver.remote.webelement.WebElement (session=\"87eae38201ed4dd43956c233f1e738d2\", element=\"2ccc6195-7c3e-49c6-b5f2-90c733bc9219\")>,\n",
       " <selenium.webdriver.remote.webelement.WebElement (session=\"87eae38201ed4dd43956c233f1e738d2\", element=\"f2a4d19a-771c-4700-98cb-89dd7ec104be\")>,\n",
       " <selenium.webdriver.remote.webelement.WebElement (session=\"87eae38201ed4dd43956c233f1e738d2\", element=\"9d3f33a4-eb92-45cf-8c79-74597436fb22\")>,\n",
       " <selenium.webdriver.remote.webelement.WebElement (session=\"87eae38201ed4dd43956c233f1e738d2\", element=\"527d65f6-e78a-4f44-ad4a-e5f1a299a8c4\")>,\n",
       " <selenium.webdriver.remote.webelement.WebElement (session=\"87eae38201ed4dd43956c233f1e738d2\", element=\"f8e2c8ac-b602-4dc7-a3f0-e22ec545c1f6\")>,\n",
       " <selenium.webdriver.remote.webelement.WebElement (session=\"87eae38201ed4dd43956c233f1e738d2\", element=\"2973b9b5-ce3a-456f-8be5-6d72d6746c85\")>,\n",
       " <selenium.webdriver.remote.webelement.WebElement (session=\"87eae38201ed4dd43956c233f1e738d2\", element=\"a5af07fc-ae2d-4ac4-b1c7-d372c9eee83a\")>,\n",
       " <selenium.webdriver.remote.webelement.WebElement (session=\"87eae38201ed4dd43956c233f1e738d2\", element=\"81c2ecba-4e00-4bae-b44f-f3ef2703eaf5\")>,\n",
       " <selenium.webdriver.remote.webelement.WebElement (session=\"87eae38201ed4dd43956c233f1e738d2\", element=\"f8faac2e-b8ad-4fc2-bf58-90093b30fe7b\")>,\n",
       " <selenium.webdriver.remote.webelement.WebElement (session=\"87eae38201ed4dd43956c233f1e738d2\", element=\"c8f6d5c7-3b43-4c13-acb6-1af79c03fb39\")>,\n",
       " <selenium.webdriver.remote.webelement.WebElement (session=\"87eae38201ed4dd43956c233f1e738d2\", element=\"72b293ee-d1cc-4822-8af0-ba5aa95f7901\")>,\n",
       " <selenium.webdriver.remote.webelement.WebElement (session=\"87eae38201ed4dd43956c233f1e738d2\", element=\"8c7dcac9-7e78-47d6-9283-b3b58978f06c\")>,\n",
       " <selenium.webdriver.remote.webelement.WebElement (session=\"87eae38201ed4dd43956c233f1e738d2\", element=\"fafa7ea3-85f5-4482-ae0e-c5dc1bae28d8\")>,\n",
       " <selenium.webdriver.remote.webelement.WebElement (session=\"87eae38201ed4dd43956c233f1e738d2\", element=\"a9864abd-f6a8-4515-84a9-0e9b196378d2\")>,\n",
       " <selenium.webdriver.remote.webelement.WebElement (session=\"87eae38201ed4dd43956c233f1e738d2\", element=\"232ac196-a37e-480d-b8b1-b9ee3a59c654\")>,\n",
       " <selenium.webdriver.remote.webelement.WebElement (session=\"87eae38201ed4dd43956c233f1e738d2\", element=\"cb572152-4c7b-48b9-bffc-75651e3e4798\")>,\n",
       " <selenium.webdriver.remote.webelement.WebElement (session=\"87eae38201ed4dd43956c233f1e738d2\", element=\"2cb4dae3-3c54-4c69-828f-180846f180b8\")>,\n",
       " <selenium.webdriver.remote.webelement.WebElement (session=\"87eae38201ed4dd43956c233f1e738d2\", element=\"976fe71b-43b9-449e-88c0-6d9d79242126\")>,\n",
       " <selenium.webdriver.remote.webelement.WebElement (session=\"87eae38201ed4dd43956c233f1e738d2\", element=\"1c9f6ad1-249c-48af-9d22-9cb76e2b8da3\")>,\n",
       " <selenium.webdriver.remote.webelement.WebElement (session=\"87eae38201ed4dd43956c233f1e738d2\", element=\"c8999db9-319d-44f1-8cc2-d41f4762fda1\")>,\n",
       " <selenium.webdriver.remote.webelement.WebElement (session=\"87eae38201ed4dd43956c233f1e738d2\", element=\"160d88bd-4b37-4486-9a12-e05912ce3ddf\")>]"
      ]
     },
     "execution_count": 37,
     "metadata": {},
     "output_type": "execute_result"
    }
   ],
   "source": [
    "titles_tags=driver.find_elements_by_xpath(\"//h3[@class='product-brand']\")\n",
    "titles_tags"
   ]
  },
  {
   "cell_type": "code",
   "execution_count": 38,
   "id": "865d758f",
   "metadata": {},
   "outputs": [
    {
     "data": {
      "text/plain": [
       "['Skechers',\n",
       " 'Nike',\n",
       " 'Nike',\n",
       " 'UNDER ARMOUR',\n",
       " 'Nike',\n",
       " 'Skechers',\n",
       " 'Nike',\n",
       " 'UNDER ARMOUR',\n",
       " 'Skechers',\n",
       " 'Puma',\n",
       " 'Red Tape',\n",
       " 'UNDER ARMOUR',\n",
       " 'PUMA Hoops',\n",
       " 'Skechers',\n",
       " 'UNDER ARMOUR',\n",
       " 'Tommy Hilfiger',\n",
       " 'UNDER ARMOUR',\n",
       " 'Skechers',\n",
       " 'Red Tape',\n",
       " 'Vans',\n",
       " 'PUMA Motorsport',\n",
       " 'PUMA Motorsport',\n",
       " 'Red Tape',\n",
       " 'Tommy Hilfiger',\n",
       " 'Red Tape',\n",
       " 'Puma',\n",
       " 'Skechers',\n",
       " 'Puma',\n",
       " 'Skechers',\n",
       " 'UNDER ARMOUR',\n",
       " 'Puma',\n",
       " 'Tommy Hilfiger',\n",
       " 'Puma',\n",
       " 'PUMA Motorsport',\n",
       " 'LOUIS STITCH',\n",
       " 'Tommy Hilfiger',\n",
       " 'UNDER ARMOUR',\n",
       " 'Alberto Torresi',\n",
       " 'Geox',\n",
       " 'LOUIS STITCH',\n",
       " 'Puma',\n",
       " 'Geox',\n",
       " 'Puma',\n",
       " 'J.FONTINI',\n",
       " 'Geox',\n",
       " 'ADIDAS',\n",
       " 'ADIDAS',\n",
       " 'ADIDAS',\n",
       " 'Columbia',\n",
       " 'Red Tape']"
      ]
     },
     "execution_count": 38,
     "metadata": {},
     "output_type": "execute_result"
    }
   ],
   "source": [
    "for i in titles_tags:\n",
    "    title=i.text\n",
    "    brand_titles.append(title)\n",
    "brand_titles"
   ]
  },
  {
   "cell_type": "code",
   "execution_count": 39,
   "id": "e1e27605",
   "metadata": {},
   "outputs": [
    {
     "data": {
      "text/plain": [
       "[<selenium.webdriver.remote.webelement.WebElement (session=\"87eae38201ed4dd43956c233f1e738d2\", element=\"84c29693-e2ed-454e-b6f5-b6447ab72b63\")>,\n",
       " <selenium.webdriver.remote.webelement.WebElement (session=\"87eae38201ed4dd43956c233f1e738d2\", element=\"a2d2716b-8933-4211-b45b-4968e3615391\")>,\n",
       " <selenium.webdriver.remote.webelement.WebElement (session=\"87eae38201ed4dd43956c233f1e738d2\", element=\"6e5294eb-88d4-47c4-87f5-63d604c1dfba\")>,\n",
       " <selenium.webdriver.remote.webelement.WebElement (session=\"87eae38201ed4dd43956c233f1e738d2\", element=\"b6bc7290-6e8e-4a9e-8d26-63df10a6fcc6\")>,\n",
       " <selenium.webdriver.remote.webelement.WebElement (session=\"87eae38201ed4dd43956c233f1e738d2\", element=\"8366a654-01e5-4f88-b52f-d9e4f97d7f18\")>,\n",
       " <selenium.webdriver.remote.webelement.WebElement (session=\"87eae38201ed4dd43956c233f1e738d2\", element=\"b44015b6-b94b-467c-aef8-dc2ff8b0f0ba\")>,\n",
       " <selenium.webdriver.remote.webelement.WebElement (session=\"87eae38201ed4dd43956c233f1e738d2\", element=\"283a75ec-93be-41c5-b3bb-9da9c79f0014\")>,\n",
       " <selenium.webdriver.remote.webelement.WebElement (session=\"87eae38201ed4dd43956c233f1e738d2\", element=\"cf2c2a0d-5817-488a-b564-907a634c854e\")>,\n",
       " <selenium.webdriver.remote.webelement.WebElement (session=\"87eae38201ed4dd43956c233f1e738d2\", element=\"d13322cc-4ccb-4816-83c7-980f2193189a\")>,\n",
       " <selenium.webdriver.remote.webelement.WebElement (session=\"87eae38201ed4dd43956c233f1e738d2\", element=\"60de7ef9-f76b-4e7c-89b3-23156e15ade1\")>,\n",
       " <selenium.webdriver.remote.webelement.WebElement (session=\"87eae38201ed4dd43956c233f1e738d2\", element=\"95549d63-3e49-4a11-aa22-823135f25728\")>,\n",
       " <selenium.webdriver.remote.webelement.WebElement (session=\"87eae38201ed4dd43956c233f1e738d2\", element=\"a00c619f-45c1-4708-b5a9-c365fc40ac06\")>,\n",
       " <selenium.webdriver.remote.webelement.WebElement (session=\"87eae38201ed4dd43956c233f1e738d2\", element=\"06264f1a-3a1a-46e3-bf6d-fa213ca02044\")>,\n",
       " <selenium.webdriver.remote.webelement.WebElement (session=\"87eae38201ed4dd43956c233f1e738d2\", element=\"be8c2bcc-f01c-4842-bf08-e9b68ff301c8\")>,\n",
       " <selenium.webdriver.remote.webelement.WebElement (session=\"87eae38201ed4dd43956c233f1e738d2\", element=\"505a1313-0e51-4791-b46b-50323521d570\")>,\n",
       " <selenium.webdriver.remote.webelement.WebElement (session=\"87eae38201ed4dd43956c233f1e738d2\", element=\"a347100f-cb26-495d-99b0-f91ac2cd4e2e\")>,\n",
       " <selenium.webdriver.remote.webelement.WebElement (session=\"87eae38201ed4dd43956c233f1e738d2\", element=\"662f8afc-9c64-4bd7-bb44-215e8708d071\")>,\n",
       " <selenium.webdriver.remote.webelement.WebElement (session=\"87eae38201ed4dd43956c233f1e738d2\", element=\"942cc501-8fb4-4e90-b0ff-cd1a7dde14d9\")>,\n",
       " <selenium.webdriver.remote.webelement.WebElement (session=\"87eae38201ed4dd43956c233f1e738d2\", element=\"55c4e2e3-eb85-4958-bc03-2dfa1081b6c3\")>,\n",
       " <selenium.webdriver.remote.webelement.WebElement (session=\"87eae38201ed4dd43956c233f1e738d2\", element=\"31272ece-09d0-457e-8f53-c1f36d1281e9\")>,\n",
       " <selenium.webdriver.remote.webelement.WebElement (session=\"87eae38201ed4dd43956c233f1e738d2\", element=\"efacd08a-d1f2-425b-bc72-250c5674590e\")>,\n",
       " <selenium.webdriver.remote.webelement.WebElement (session=\"87eae38201ed4dd43956c233f1e738d2\", element=\"5c80ae0a-8b5d-44c4-b597-e5ae544e1197\")>,\n",
       " <selenium.webdriver.remote.webelement.WebElement (session=\"87eae38201ed4dd43956c233f1e738d2\", element=\"e570e553-e187-4b75-8442-d679dc9ce09e\")>,\n",
       " <selenium.webdriver.remote.webelement.WebElement (session=\"87eae38201ed4dd43956c233f1e738d2\", element=\"5dade47e-9479-4ef0-9876-3ea05b961128\")>,\n",
       " <selenium.webdriver.remote.webelement.WebElement (session=\"87eae38201ed4dd43956c233f1e738d2\", element=\"bd5df7a8-f691-4bfa-a640-c5fe8e64a8be\")>,\n",
       " <selenium.webdriver.remote.webelement.WebElement (session=\"87eae38201ed4dd43956c233f1e738d2\", element=\"eb041011-cd86-4df4-a4a8-884edd4b6bed\")>,\n",
       " <selenium.webdriver.remote.webelement.WebElement (session=\"87eae38201ed4dd43956c233f1e738d2\", element=\"0f34ae9f-aeb6-408b-810b-0f9fcb07669c\")>,\n",
       " <selenium.webdriver.remote.webelement.WebElement (session=\"87eae38201ed4dd43956c233f1e738d2\", element=\"6bcb1117-cbab-4e7a-a650-6100355ba2b5\")>,\n",
       " <selenium.webdriver.remote.webelement.WebElement (session=\"87eae38201ed4dd43956c233f1e738d2\", element=\"76b707d8-7e5b-4340-93e9-a0a299f1a1bc\")>,\n",
       " <selenium.webdriver.remote.webelement.WebElement (session=\"87eae38201ed4dd43956c233f1e738d2\", element=\"e5c1795d-05c9-4025-8b1f-682170cea3eb\")>,\n",
       " <selenium.webdriver.remote.webelement.WebElement (session=\"87eae38201ed4dd43956c233f1e738d2\", element=\"49c388ac-5ae3-4cd8-b7a8-9315a60273b2\")>,\n",
       " <selenium.webdriver.remote.webelement.WebElement (session=\"87eae38201ed4dd43956c233f1e738d2\", element=\"781b67cb-4c79-4148-b1d9-6f006e6162e7\")>,\n",
       " <selenium.webdriver.remote.webelement.WebElement (session=\"87eae38201ed4dd43956c233f1e738d2\", element=\"4e30708c-9de3-46a9-a9ce-cf260ea899f5\")>,\n",
       " <selenium.webdriver.remote.webelement.WebElement (session=\"87eae38201ed4dd43956c233f1e738d2\", element=\"53c0c9ea-617d-49a7-8437-e801180a9d77\")>,\n",
       " <selenium.webdriver.remote.webelement.WebElement (session=\"87eae38201ed4dd43956c233f1e738d2\", element=\"64f1619e-f281-45c3-be86-ef59140468a6\")>,\n",
       " <selenium.webdriver.remote.webelement.WebElement (session=\"87eae38201ed4dd43956c233f1e738d2\", element=\"c8293e6c-290b-48a8-af66-4c1b7eba9ce2\")>,\n",
       " <selenium.webdriver.remote.webelement.WebElement (session=\"87eae38201ed4dd43956c233f1e738d2\", element=\"5cb0a09c-513a-4e42-8468-2e73ccc2ec98\")>,\n",
       " <selenium.webdriver.remote.webelement.WebElement (session=\"87eae38201ed4dd43956c233f1e738d2\", element=\"8733e5e8-2ce3-4287-b857-9b3e6f6bdd5d\")>,\n",
       " <selenium.webdriver.remote.webelement.WebElement (session=\"87eae38201ed4dd43956c233f1e738d2\", element=\"f7c964c9-f6e9-49b4-9820-df9bec53e9ba\")>,\n",
       " <selenium.webdriver.remote.webelement.WebElement (session=\"87eae38201ed4dd43956c233f1e738d2\", element=\"7d043236-ef19-4eec-bbf9-361272bc758f\")>,\n",
       " <selenium.webdriver.remote.webelement.WebElement (session=\"87eae38201ed4dd43956c233f1e738d2\", element=\"edb31c3a-b97b-4ccd-bef2-1702d9af55c4\")>,\n",
       " <selenium.webdriver.remote.webelement.WebElement (session=\"87eae38201ed4dd43956c233f1e738d2\", element=\"dcfda77e-2405-4214-a417-c2522f33e9f0\")>,\n",
       " <selenium.webdriver.remote.webelement.WebElement (session=\"87eae38201ed4dd43956c233f1e738d2\", element=\"d6bb419c-bd5a-48bb-91c9-dd5a6c23e021\")>,\n",
       " <selenium.webdriver.remote.webelement.WebElement (session=\"87eae38201ed4dd43956c233f1e738d2\", element=\"71697545-2f25-4ac9-a4d1-902a722893fa\")>,\n",
       " <selenium.webdriver.remote.webelement.WebElement (session=\"87eae38201ed4dd43956c233f1e738d2\", element=\"8b6d7bb9-601c-4483-be14-fda0b1a6b6d2\")>,\n",
       " <selenium.webdriver.remote.webelement.WebElement (session=\"87eae38201ed4dd43956c233f1e738d2\", element=\"766ca871-473e-4560-9b5f-92b9c0cfcc6d\")>,\n",
       " <selenium.webdriver.remote.webelement.WebElement (session=\"87eae38201ed4dd43956c233f1e738d2\", element=\"8a72ea4c-5939-4d14-8d8b-ddbed9335fbd\")>,\n",
       " <selenium.webdriver.remote.webelement.WebElement (session=\"87eae38201ed4dd43956c233f1e738d2\", element=\"e630be18-81f0-497b-ac54-ff1f70361d05\")>,\n",
       " <selenium.webdriver.remote.webelement.WebElement (session=\"87eae38201ed4dd43956c233f1e738d2\", element=\"023e2e30-be60-4069-88c0-9856fa13cf2f\")>,\n",
       " <selenium.webdriver.remote.webelement.WebElement (session=\"87eae38201ed4dd43956c233f1e738d2\", element=\"1defb233-2067-4bdc-a73f-6e29c51c510a\")>]"
      ]
     },
     "execution_count": 39,
     "metadata": {},
     "output_type": "execute_result"
    }
   ],
   "source": [
    "description_tags=driver.find_elements_by_xpath(\"//h4[@class='product-product']\")\n",
    "description_tags"
   ]
  },
  {
   "cell_type": "code",
   "execution_count": 40,
   "id": "9f4104c6",
   "metadata": {},
   "outputs": [
    {
     "data": {
      "text/plain": [
       "['Men ENIGMA Running Shoes',\n",
       " 'Men Zoom C Pro HC Tennis Shoes',\n",
       " 'Women Pegasus 39 Running Shoes',\n",
       " 'Men UA Charged Vantage 2 Run',\n",
       " 'Women React Escape Running',\n",
       " 'Women Go Walk EU Walking Shoes',\n",
       " 'Women React MR 3 Running Shoes',\n",
       " 'Men Charged Rouge 3 Run Shoes',\n",
       " 'Men GRF-Hurtling Running Shoes',\n",
       " 'Men Velocity Nitro 2 Running',\n",
       " 'Men Solid Leather Formal Brogues',\n",
       " 'Men Charged Breeze Running',\n",
       " 'Men Basketball Shoes',\n",
       " 'BIONICTRAILROAD TrekkingShoes',\n",
       " 'Women Aurora 2 Training Shoes',\n",
       " 'Women Leather Loafers',\n",
       " 'Women Charged Pursuit 3 Run',\n",
       " 'Men Woven Design Sneakers',\n",
       " 'Men Solid Leather Formal Derby',\n",
       " 'Men Colourblocked Sneakers',\n",
       " 'Women RDG Cat Balle',\n",
       " 'Men ZenonSpeed Sneakers',\n",
       " 'Men Formal Solid Leather Formal Monks',\n",
       " 'Men Leather Sneakers',\n",
       " 'Men Solid Slip-on Formal Shoes',\n",
       " 'Men KING Top Football Shoes',\n",
       " 'Men Textured Sneakers',\n",
       " 'Men Velocity Nitro Running',\n",
       " 'Men PREMIER-VANTAG Running',\n",
       " 'Women Charged Breeze Running',\n",
       " 'Men Deviate Nitro Shoes',\n",
       " 'Men Sneakers',\n",
       " 'Unisex TRC Blaze Sneakers',\n",
       " 'Unisex Solid Leather Sneakers',\n",
       " 'Men Solid Italian Genuine Leather Handcrafted Formal Loafers',\n",
       " 'Men JEANS RETRO BASKET Sneaker',\n",
       " 'W omen TriBase Reign 4 Running',\n",
       " 'Men Solid Formal Brogues',\n",
       " 'Women Solid Leather Heels',\n",
       " 'Men Formal Oxford Shoes',\n",
       " 'Unisex KING Pro 21 Football',\n",
       " 'Men Leather Driving Shoes',\n",
       " 'Women Running Sports Shoes',\n",
       " 'Men Leather Fashion',\n",
       " 'Men Textured Leather Driving Shoes',\n",
       " 'Women Supernova Running Shoes',\n",
       " 'Women Sports Shoes',\n",
       " 'Men Questar Flow Nxt Running',\n",
       " 'Men FACET OUTDRY Trekking Shoe',\n",
       " 'Women Walking Shoes']"
      ]
     },
     "execution_count": 40,
     "metadata": {},
     "output_type": "execute_result"
    }
   ],
   "source": [
    "for i in description_tags:\n",
    "    description_product=i.text\n",
    "    description_products.append(description_product)\n",
    "description_products"
   ]
  },
  {
   "cell_type": "code",
   "execution_count": 41,
   "id": "134c189c",
   "metadata": {},
   "outputs": [
    {
     "data": {
      "text/plain": [
       "[<selenium.webdriver.remote.webelement.WebElement (session=\"87eae38201ed4dd43956c233f1e738d2\", element=\"3708ba68-49c9-45bb-9a7d-312b8ab5cc70\")>,\n",
       " <selenium.webdriver.remote.webelement.WebElement (session=\"87eae38201ed4dd43956c233f1e738d2\", element=\"1ef1f264-bf41-47b6-a13e-f6d210fbfbec\")>,\n",
       " <selenium.webdriver.remote.webelement.WebElement (session=\"87eae38201ed4dd43956c233f1e738d2\", element=\"8d5ea031-0b1d-4a2c-905f-ac582b68c377\")>,\n",
       " <selenium.webdriver.remote.webelement.WebElement (session=\"87eae38201ed4dd43956c233f1e738d2\", element=\"e1a0d552-ecae-433f-9f0d-6b1486ba3571\")>,\n",
       " <selenium.webdriver.remote.webelement.WebElement (session=\"87eae38201ed4dd43956c233f1e738d2\", element=\"8e139473-86d9-4ff8-b37e-584fa2381a65\")>,\n",
       " <selenium.webdriver.remote.webelement.WebElement (session=\"87eae38201ed4dd43956c233f1e738d2\", element=\"66ac500a-d905-4573-8ea6-4ecacecf7d09\")>,\n",
       " <selenium.webdriver.remote.webelement.WebElement (session=\"87eae38201ed4dd43956c233f1e738d2\", element=\"f101d216-1ae5-4070-99b9-21c389348fdc\")>,\n",
       " <selenium.webdriver.remote.webelement.WebElement (session=\"87eae38201ed4dd43956c233f1e738d2\", element=\"31326866-7532-4529-afe8-937a5b2db285\")>,\n",
       " <selenium.webdriver.remote.webelement.WebElement (session=\"87eae38201ed4dd43956c233f1e738d2\", element=\"3c965718-14dd-4ad5-b886-015c94360704\")>,\n",
       " <selenium.webdriver.remote.webelement.WebElement (session=\"87eae38201ed4dd43956c233f1e738d2\", element=\"bec4dfad-993f-43e9-a01a-21e8eaa022fb\")>,\n",
       " <selenium.webdriver.remote.webelement.WebElement (session=\"87eae38201ed4dd43956c233f1e738d2\", element=\"aa74fe12-39b4-4a9e-957a-0d0996e795a5\")>,\n",
       " <selenium.webdriver.remote.webelement.WebElement (session=\"87eae38201ed4dd43956c233f1e738d2\", element=\"744620ca-0f39-4e77-a6e6-9217f7266ead\")>,\n",
       " <selenium.webdriver.remote.webelement.WebElement (session=\"87eae38201ed4dd43956c233f1e738d2\", element=\"f8a0d4da-1529-41be-b2b0-aceab1ffcb91\")>,\n",
       " <selenium.webdriver.remote.webelement.WebElement (session=\"87eae38201ed4dd43956c233f1e738d2\", element=\"2aded7f7-d88d-4e51-a056-2c2711e8a6d7\")>,\n",
       " <selenium.webdriver.remote.webelement.WebElement (session=\"87eae38201ed4dd43956c233f1e738d2\", element=\"2aea41d0-a4e3-491f-b07d-d76bf7278936\")>,\n",
       " <selenium.webdriver.remote.webelement.WebElement (session=\"87eae38201ed4dd43956c233f1e738d2\", element=\"f63d3d57-48e5-4be9-98e2-c294584e9a0f\")>,\n",
       " <selenium.webdriver.remote.webelement.WebElement (session=\"87eae38201ed4dd43956c233f1e738d2\", element=\"e88e4bfa-ee92-4e0c-8d8f-3c9ed5f68f9a\")>,\n",
       " <selenium.webdriver.remote.webelement.WebElement (session=\"87eae38201ed4dd43956c233f1e738d2\", element=\"a3006cf2-2b2a-4625-b1a0-bfa0187130a3\")>,\n",
       " <selenium.webdriver.remote.webelement.WebElement (session=\"87eae38201ed4dd43956c233f1e738d2\", element=\"0623b9f5-2b95-4299-8436-fa0e77f176bf\")>,\n",
       " <selenium.webdriver.remote.webelement.WebElement (session=\"87eae38201ed4dd43956c233f1e738d2\", element=\"1bf7116b-fce2-442f-8215-fc01883437f6\")>,\n",
       " <selenium.webdriver.remote.webelement.WebElement (session=\"87eae38201ed4dd43956c233f1e738d2\", element=\"72c193ea-d862-4ede-946f-c91b3c816de5\")>,\n",
       " <selenium.webdriver.remote.webelement.WebElement (session=\"87eae38201ed4dd43956c233f1e738d2\", element=\"0a14dade-35e9-4775-9259-ce0a866ed838\")>,\n",
       " <selenium.webdriver.remote.webelement.WebElement (session=\"87eae38201ed4dd43956c233f1e738d2\", element=\"4fcda4bd-17e5-4dfb-abc1-f8b11255bfe4\")>,\n",
       " <selenium.webdriver.remote.webelement.WebElement (session=\"87eae38201ed4dd43956c233f1e738d2\", element=\"de790ebc-b814-4c0c-a3b2-606ceae0a204\")>,\n",
       " <selenium.webdriver.remote.webelement.WebElement (session=\"87eae38201ed4dd43956c233f1e738d2\", element=\"42beb408-c6d4-4d0f-8219-86932da48b8f\")>,\n",
       " <selenium.webdriver.remote.webelement.WebElement (session=\"87eae38201ed4dd43956c233f1e738d2\", element=\"112895f5-fdcf-4301-8537-755bcce7d990\")>,\n",
       " <selenium.webdriver.remote.webelement.WebElement (session=\"87eae38201ed4dd43956c233f1e738d2\", element=\"99e719d5-f999-4bf6-b5ec-4812ecdf91be\")>,\n",
       " <selenium.webdriver.remote.webelement.WebElement (session=\"87eae38201ed4dd43956c233f1e738d2\", element=\"a820a9be-c3ff-47a2-afeb-93935996b459\")>,\n",
       " <selenium.webdriver.remote.webelement.WebElement (session=\"87eae38201ed4dd43956c233f1e738d2\", element=\"95b6da44-9678-43cd-bf90-03c351fb0edd\")>]"
      ]
     },
     "execution_count": 41,
     "metadata": {},
     "output_type": "execute_result"
    }
   ],
   "source": [
    "price_tags=driver.find_elements_by_xpath(\"//span[@class='product-discountedPrice']\")\n",
    "price_tags"
   ]
  },
  {
   "cell_type": "code",
   "execution_count": 42,
   "id": "25780a0d",
   "metadata": {},
   "outputs": [
    {
     "data": {
      "text/plain": [
       "['Rs. 8074',\n",
       " 'Rs. 7149',\n",
       " 'Rs. 2069',\n",
       " 'Rs. 6399',\n",
       " 'Rs. 6839',\n",
       " 'Rs. 6374',\n",
       " 'Rs. 2099',\n",
       " 'Rs. 8249',\n",
       " 'Rs. 5599',\n",
       " 'Rs. 7199',\n",
       " 'Rs. 2189',\n",
       " 'Rs. 6799',\n",
       " 'Rs. 2099',\n",
       " 'Rs. 8399',\n",
       " 'Rs. 10199',\n",
       " 'Rs. 8249',\n",
       " 'Rs. 6799',\n",
       " 'Rs. 8499',\n",
       " 'Rs. 3599',\n",
       " 'Rs. 1749',\n",
       " 'Rs. 7309',\n",
       " 'Rs. 1999',\n",
       " 'Rs. 6742',\n",
       " 'Rs. 1749',\n",
       " 'Rs. 8393',\n",
       " 'Rs. 8249',\n",
       " 'Rs. 7343',\n",
       " 'Rs. 9899',\n",
       " 'Rs. 2099']"
      ]
     },
     "execution_count": 42,
     "metadata": {},
     "output_type": "execute_result"
    }
   ],
   "source": [
    "for i in price_tags:\n",
    "    price=i.text\n",
    "    price_list.append(price)\n",
    "price_list"
   ]
  },
  {
   "cell_type": "code",
   "execution_count": 43,
   "id": "10c09516",
   "metadata": {},
   "outputs": [],
   "source": [
    "next_button=driver.find_element_by_xpath(\"/html/body/div[2]/div/div[1]/main/div[3]/div[2]/div/div[2]/section/div[2]/ul/li[12]/a\")\n",
    "next_button.click()"
   ]
  },
  {
   "cell_type": "code",
   "execution_count": 44,
   "id": "0d53f450",
   "metadata": {},
   "outputs": [],
   "source": [
    "t_list=[]\n",
    "for i in range(0,3):\n",
    "    titles_tags=driver.find_elements_by_xpath(\"//h3[@class='product-brand']\")\n",
    "    for i in titles_tags:\n",
    "        title=i.text\n",
    "        t_list.append(title)\n",
    "next_button=driver.find_element_by_xpath(\"/html/body/div[2]/div/div[1]/main/div[3]/div[2]/div/div[2]/section/div[2]/ul/li[13]/a\")\n",
    "next_button.click()\n",
    "time.sleep(5)"
   ]
  },
  {
   "cell_type": "code",
   "execution_count": 45,
   "id": "0ac3e524",
   "metadata": {},
   "outputs": [
    {
     "data": {
      "text/plain": [
       "150"
      ]
     },
     "execution_count": 45,
     "metadata": {},
     "output_type": "execute_result"
    }
   ],
   "source": [
    "len(t_list)"
   ]
  },
  {
   "cell_type": "code",
   "execution_count": null,
   "id": "923d8ec5",
   "metadata": {},
   "outputs": [],
   "source": []
  },
  {
   "cell_type": "markdown",
   "id": "d5ec65d2",
   "metadata": {},
   "source": [
    "# (9) Scrap Data(ambition.com)\n"
   ]
  },
  {
   "cell_type": "code",
   "execution_count": 85,
   "id": "74178d1c",
   "metadata": {},
   "outputs": [
    {
     "name": "stdout",
     "output_type": "stream",
     "text": [
      "Requirement already satisfied: selenium in c:\\programdata\\anaconda3\\lib\\site-packages (4.2.0)\n",
      "Requirement already satisfied: trio-websocket~=0.9 in c:\\programdata\\anaconda3\\lib\\site-packages (from selenium) (0.9.2)\n",
      "Requirement already satisfied: trio~=0.17 in c:\\programdata\\anaconda3\\lib\\site-packages (from selenium) (0.21.0)\n",
      "Requirement already satisfied: urllib3[secure,socks]~=1.26 in c:\\programdata\\anaconda3\\lib\\site-packages (from selenium) (1.26.7)\n",
      "Requirement already satisfied: outcome in c:\\programdata\\anaconda3\\lib\\site-packages (from trio~=0.17->selenium) (1.2.0)\n",
      "Requirement already satisfied: attrs>=19.2.0 in c:\\programdata\\anaconda3\\lib\\site-packages (from trio~=0.17->selenium) (21.2.0)\n",
      "Requirement already satisfied: sortedcontainers in c:\\programdata\\anaconda3\\lib\\site-packages (from trio~=0.17->selenium) (2.4.0)\n",
      "Requirement already satisfied: async-generator>=1.9 in c:\\programdata\\anaconda3\\lib\\site-packages (from trio~=0.17->selenium) (1.10)\n",
      "Requirement already satisfied: cffi>=1.14 in c:\\programdata\\anaconda3\\lib\\site-packages (from trio~=0.17->selenium) (1.14.6)\n",
      "Requirement already satisfied: sniffio in c:\\programdata\\anaconda3\\lib\\site-packages (from trio~=0.17->selenium) (1.2.0)\n",
      "Requirement already satisfied: idna in c:\\programdata\\anaconda3\\lib\\site-packages (from trio~=0.17->selenium) (3.2)\n",
      "Requirement already satisfied: pycparser in c:\\programdata\\anaconda3\\lib\\site-packages (from cffi>=1.14->trio~=0.17->selenium) (2.20)\n",
      "Requirement already satisfied: wsproto>=0.14 in c:\\programdata\\anaconda3\\lib\\site-packages (from trio-websocket~=0.9->selenium) (1.1.0)\n",
      "Requirement already satisfied: pyOpenSSL>=0.14 in c:\\programdata\\anaconda3\\lib\\site-packages (from urllib3[secure,socks]~=1.26->selenium) (21.0.0)\n",
      "Requirement already satisfied: cryptography>=1.3.4 in c:\\programdata\\anaconda3\\lib\\site-packages (from urllib3[secure,socks]~=1.26->selenium) (3.4.8)\n",
      "Requirement already satisfied: certifi in c:\\programdata\\anaconda3\\lib\\site-packages (from urllib3[secure,socks]~=1.26->selenium) (2021.10.8)\n",
      "Requirement already satisfied: PySocks!=1.5.7,<2.0,>=1.5.6 in c:\\programdata\\anaconda3\\lib\\site-packages (from urllib3[secure,socks]~=1.26->selenium) (1.7.1)\n",
      "Requirement already satisfied: six>=1.5.2 in c:\\programdata\\anaconda3\\lib\\site-packages (from pyOpenSSL>=0.14->urllib3[secure,socks]~=1.26->selenium) (1.16.0)\n",
      "Requirement already satisfied: h11<1,>=0.9.0 in c:\\programdata\\anaconda3\\lib\\site-packages (from wsproto>=0.14->trio-websocket~=0.9->selenium) (0.13.0)\n"
     ]
    }
   ],
   "source": [
    "! pip install selenium"
   ]
  },
  {
   "cell_type": "code",
   "execution_count": 86,
   "id": "a77e029a",
   "metadata": {},
   "outputs": [],
   "source": [
    "import selenium\n",
    "import pandas as pd\n",
    "from selenium import webdriver\n",
    "import warnings\n",
    "warnings.filterwarnings(\"ignore\")\n",
    "import time"
   ]
  },
  {
   "cell_type": "code",
   "execution_count": 87,
   "id": "b69ce1a9",
   "metadata": {},
   "outputs": [],
   "source": [
    "driver = webdriver.Chrome(r\"C:\\web driver\\chromedriver.exe\")"
   ]
  },
  {
   "cell_type": "code",
   "execution_count": 88,
   "id": "31f66b5d",
   "metadata": {},
   "outputs": [],
   "source": [
    "driver=webdriver.Chrome(\"chromedriver.exe\")\n",
    "time.sleep(2)"
   ]
  },
  {
   "cell_type": "code",
   "execution_count": 89,
   "id": "e669b198",
   "metadata": {},
   "outputs": [],
   "source": [
    "driver.get('https:www.ambitionbox.com/')"
   ]
  },
  {
   "cell_type": "code",
   "execution_count": 90,
   "id": "3205cecf",
   "metadata": {},
   "outputs": [],
   "source": [
    "jobs_button=driver.find_element_by_xpath(\"/html/body/div[1]/nav/nav/a[4]\")\n",
    "jobs_button.click()"
   ]
  },
  {
   "cell_type": "code",
   "execution_count": 91,
   "id": "b93d9594",
   "metadata": {},
   "outputs": [],
   "source": [
    "company_names = []\n",
    "averagesalary_list = []\n",
    "minimumsalary_list = []\n",
    "maximumsalary_list = []\n",
    "experience_list = []\n"
   ]
  },
  {
   "cell_type": "code",
   "execution_count": 92,
   "id": "72844d78",
   "metadata": {},
   "outputs": [
    {
     "data": {
      "text/plain": [
       "[<selenium.webdriver.remote.webelement.WebElement (session=\"59980fa3b0914a5247bb6f390468062c\", element=\"fd10224e-19dc-429e-b537-37c088c20f7d\")>,\n",
       " <selenium.webdriver.remote.webelement.WebElement (session=\"59980fa3b0914a5247bb6f390468062c\", element=\"4a5ecede-76fd-404d-93f1-c0e52cf52da0\")>,\n",
       " <selenium.webdriver.remote.webelement.WebElement (session=\"59980fa3b0914a5247bb6f390468062c\", element=\"8d4ce6b4-5661-4e95-8028-718ba9682aff\")>,\n",
       " <selenium.webdriver.remote.webelement.WebElement (session=\"59980fa3b0914a5247bb6f390468062c\", element=\"88199201-0a04-465c-afd8-887588349524\")>,\n",
       " <selenium.webdriver.remote.webelement.WebElement (session=\"59980fa3b0914a5247bb6f390468062c\", element=\"949293d9-85bd-44de-9d34-86c132ae936d\")>,\n",
       " <selenium.webdriver.remote.webelement.WebElement (session=\"59980fa3b0914a5247bb6f390468062c\", element=\"9e5eeb1a-9016-46af-b268-e6f606aa233c\")>,\n",
       " <selenium.webdriver.remote.webelement.WebElement (session=\"59980fa3b0914a5247bb6f390468062c\", element=\"c1c695ad-9a95-43ca-bfbc-5a3c2ef6b205\")>,\n",
       " <selenium.webdriver.remote.webelement.WebElement (session=\"59980fa3b0914a5247bb6f390468062c\", element=\"278231f7-bdbf-4d35-af6d-1c72b1681657\")>,\n",
       " <selenium.webdriver.remote.webelement.WebElement (session=\"59980fa3b0914a5247bb6f390468062c\", element=\"379a1c69-786f-42b9-949a-bd0a46ae9e2f\")>,\n",
       " <selenium.webdriver.remote.webelement.WebElement (session=\"59980fa3b0914a5247bb6f390468062c\", element=\"b500931e-1ff5-475b-8032-e4f5fdf45594\")>]"
      ]
     },
     "execution_count": 92,
     "metadata": {},
     "output_type": "execute_result"
    }
   ],
   "source": [
    "companies_tags=driver.find_elements_by_xpath(\"//div[@class='name']\")\n",
    "companies_tags[0:10]"
   ]
  },
  {
   "cell_type": "code",
   "execution_count": 93,
   "id": "c5e9ef84",
   "metadata": {},
   "outputs": [
    {
     "data": {
      "text/plain": [
       "['Walmart\\nbased on 12 salaries',\n",
       " 'Ab Inbev\\nbased on 33 salaries',\n",
       " 'American Express\\nbased on 10 salaries',\n",
       " 'ZS\\nbased on 15 salaries',\n",
       " 'Optum\\nbased on 33 salaries',\n",
       " 'Reliance Jio\\nbased on 21 salaries',\n",
       " 'Fractal Analytics\\nbased on 83 salaries',\n",
       " 'Tiger Analytics\\nbased on 50 salaries',\n",
       " 'UnitedHealth\\nbased on 57 salaries',\n",
       " 'EXL Service\\nbased on 10 salaries']"
      ]
     },
     "execution_count": 93,
     "metadata": {},
     "output_type": "execute_result"
    }
   ],
   "source": [
    "for i in companies_tags:\n",
    "    company_name=i.text\n",
    "    company_names.append(company_name)\n",
    "company_names[0:10]"
   ]
  },
  {
   "cell_type": "code",
   "execution_count": 94,
   "id": "25cb0f43",
   "metadata": {},
   "outputs": [
    {
     "data": {
      "text/plain": [
       "[<selenium.webdriver.remote.webelement.WebElement (session=\"59980fa3b0914a5247bb6f390468062c\", element=\"7f098c27-be6e-4a8e-a155-b71f27613c31\")>,\n",
       " <selenium.webdriver.remote.webelement.WebElement (session=\"59980fa3b0914a5247bb6f390468062c\", element=\"c0c4c413-38ff-43be-b123-09b23f1277b0\")>,\n",
       " <selenium.webdriver.remote.webelement.WebElement (session=\"59980fa3b0914a5247bb6f390468062c\", element=\"f25f7511-db30-4c04-93c8-cde489a22d99\")>,\n",
       " <selenium.webdriver.remote.webelement.WebElement (session=\"59980fa3b0914a5247bb6f390468062c\", element=\"95e45a26-9827-412f-9f50-7cbf4e57853a\")>,\n",
       " <selenium.webdriver.remote.webelement.WebElement (session=\"59980fa3b0914a5247bb6f390468062c\", element=\"16fd49d0-90fb-49a0-b312-0b848b9936ba\")>,\n",
       " <selenium.webdriver.remote.webelement.WebElement (session=\"59980fa3b0914a5247bb6f390468062c\", element=\"ae87f890-6c79-4be4-af82-22710c6026d0\")>,\n",
       " <selenium.webdriver.remote.webelement.WebElement (session=\"59980fa3b0914a5247bb6f390468062c\", element=\"63021289-fa33-4ee0-9c5d-a8c06122a694\")>,\n",
       " <selenium.webdriver.remote.webelement.WebElement (session=\"59980fa3b0914a5247bb6f390468062c\", element=\"e08c4052-7930-4b7e-959a-008919dde29a\")>,\n",
       " <selenium.webdriver.remote.webelement.WebElement (session=\"59980fa3b0914a5247bb6f390468062c\", element=\"8df7ac14-ec31-432e-85d8-e03eb8a20b6e\")>,\n",
       " <selenium.webdriver.remote.webelement.WebElement (session=\"59980fa3b0914a5247bb6f390468062c\", element=\"5126a350-6d0a-4f4b-98ae-f52407ca1777\")>]"
      ]
     },
     "execution_count": 94,
     "metadata": {},
     "output_type": "execute_result"
    }
   ],
   "source": [
    "averagesalary_tags=driver.find_elements_by_xpath(\"//p[@class='averageCtc']\")\n",
    "averagesalary_tags[0:10]"
   ]
  },
  {
   "cell_type": "code",
   "execution_count": 95,
   "id": "bca16ebf",
   "metadata": {},
   "outputs": [
    {
     "data": {
      "text/plain": [
       "['₹ 30.2L',\n",
       " '₹ 20.6L',\n",
       " '₹ 19.9L',\n",
       " '₹ 16.7L',\n",
       " '₹ 16.1L',\n",
       " '₹ 15.7L',\n",
       " '₹ 15.4L',\n",
       " '₹ 14.8L',\n",
       " '₹ 14.0L',\n",
       " '₹ 13.3L']"
      ]
     },
     "execution_count": 95,
     "metadata": {},
     "output_type": "execute_result"
    }
   ],
   "source": [
    "for i in averagesalary_tags:\n",
    "    averagesalary=i.text\n",
    "    averagesalary_list.append(averagesalary)\n",
    "averagesalary_list[0:10]"
   ]
  },
  {
   "cell_type": "code",
   "execution_count": 96,
   "id": "d990c11a",
   "metadata": {},
   "outputs": [
    {
     "data": {
      "text/plain": [
       "[<selenium.webdriver.remote.webelement.WebElement (session=\"59980fa3b0914a5247bb6f390468062c\", element=\"805d5191-872d-4ddc-b811-66a9f2680912\")>,\n",
       " <selenium.webdriver.remote.webelement.WebElement (session=\"59980fa3b0914a5247bb6f390468062c\", element=\"e9466c34-5e08-451b-b0de-b743c954d9da\")>,\n",
       " <selenium.webdriver.remote.webelement.WebElement (session=\"59980fa3b0914a5247bb6f390468062c\", element=\"dc60ff5a-9448-4e03-afc0-c6b14a346722\")>,\n",
       " <selenium.webdriver.remote.webelement.WebElement (session=\"59980fa3b0914a5247bb6f390468062c\", element=\"912dab18-6638-40cb-87bd-f5d8b679fdfd\")>,\n",
       " <selenium.webdriver.remote.webelement.WebElement (session=\"59980fa3b0914a5247bb6f390468062c\", element=\"985e1edc-a935-4784-8467-cc6176c9455d\")>,\n",
       " <selenium.webdriver.remote.webelement.WebElement (session=\"59980fa3b0914a5247bb6f390468062c\", element=\"00c74802-8832-403d-98c6-725e34afee71\")>,\n",
       " <selenium.webdriver.remote.webelement.WebElement (session=\"59980fa3b0914a5247bb6f390468062c\", element=\"5cce6ad2-d51d-4eb3-9c8d-76cc43156211\")>,\n",
       " <selenium.webdriver.remote.webelement.WebElement (session=\"59980fa3b0914a5247bb6f390468062c\", element=\"e06ff548-922f-4b58-9325-2c10d0f6b415\")>,\n",
       " <selenium.webdriver.remote.webelement.WebElement (session=\"59980fa3b0914a5247bb6f390468062c\", element=\"251cd457-002d-43ef-8779-42e2058d839c\")>,\n",
       " <selenium.webdriver.remote.webelement.WebElement (session=\"59980fa3b0914a5247bb6f390468062c\", element=\"e31d9033-8aaa-4a71-8704-03143c66732e\")>]"
      ]
     },
     "execution_count": 96,
     "metadata": {},
     "output_type": "execute_result"
    }
   ],
   "source": [
    "minimumsalary_tags=driver.find_elements_by_xpath(\"//div[@class='salary-values']\")\n",
    "minimumsalary_tags[0:10]"
   ]
  },
  {
   "cell_type": "code",
   "execution_count": 97,
   "id": "4d65ec74",
   "metadata": {},
   "outputs": [
    {
     "data": {
      "text/plain": [
       "['₹ 25.0L\\n₹ 36.0L',\n",
       " '₹ 15.0L\\n₹ 25.5L',\n",
       " '₹ 14.1L\\n₹ 25.0L',\n",
       " '₹ 11.0L\\n₹ 22.0L',\n",
       " '₹ 11.0L\\n₹ 22.6L',\n",
       " '₹ 5.6L\\n₹ 26.2L',\n",
       " '₹ 10.0L\\n₹ 22.0L',\n",
       " '₹ 9.0L\\n₹ 20.0L',\n",
       " '₹ 8.3L\\n₹ 21.1L',\n",
       " '₹ 8.9L\\n₹ 21.0L']"
      ]
     },
     "execution_count": 97,
     "metadata": {},
     "output_type": "execute_result"
    }
   ],
   "source": [
    "for i in minimumsalary_tags:\n",
    "    minimumsalary=i.text\n",
    "    minimumsalary_list.append(minimumsalary)\n",
    "minimumsalary_list[0:10]"
   ]
  },
  {
   "cell_type": "code",
   "execution_count": 98,
   "id": "a0e0e510",
   "metadata": {},
   "outputs": [
    {
     "data": {
      "text/plain": [
       "[<selenium.webdriver.remote.webelement.WebElement (session=\"59980fa3b0914a5247bb6f390468062c\", element=\"805d5191-872d-4ddc-b811-66a9f2680912\")>,\n",
       " <selenium.webdriver.remote.webelement.WebElement (session=\"59980fa3b0914a5247bb6f390468062c\", element=\"e9466c34-5e08-451b-b0de-b743c954d9da\")>,\n",
       " <selenium.webdriver.remote.webelement.WebElement (session=\"59980fa3b0914a5247bb6f390468062c\", element=\"dc60ff5a-9448-4e03-afc0-c6b14a346722\")>,\n",
       " <selenium.webdriver.remote.webelement.WebElement (session=\"59980fa3b0914a5247bb6f390468062c\", element=\"912dab18-6638-40cb-87bd-f5d8b679fdfd\")>,\n",
       " <selenium.webdriver.remote.webelement.WebElement (session=\"59980fa3b0914a5247bb6f390468062c\", element=\"985e1edc-a935-4784-8467-cc6176c9455d\")>,\n",
       " <selenium.webdriver.remote.webelement.WebElement (session=\"59980fa3b0914a5247bb6f390468062c\", element=\"00c74802-8832-403d-98c6-725e34afee71\")>,\n",
       " <selenium.webdriver.remote.webelement.WebElement (session=\"59980fa3b0914a5247bb6f390468062c\", element=\"5cce6ad2-d51d-4eb3-9c8d-76cc43156211\")>,\n",
       " <selenium.webdriver.remote.webelement.WebElement (session=\"59980fa3b0914a5247bb6f390468062c\", element=\"e06ff548-922f-4b58-9325-2c10d0f6b415\")>,\n",
       " <selenium.webdriver.remote.webelement.WebElement (session=\"59980fa3b0914a5247bb6f390468062c\", element=\"251cd457-002d-43ef-8779-42e2058d839c\")>,\n",
       " <selenium.webdriver.remote.webelement.WebElement (session=\"59980fa3b0914a5247bb6f390468062c\", element=\"e31d9033-8aaa-4a71-8704-03143c66732e\")>]"
      ]
     },
     "execution_count": 98,
     "metadata": {},
     "output_type": "execute_result"
    }
   ],
   "source": [
    "maximumsalary_tags=driver.find_elements_by_xpath(\"//div[@class='salary-values']\")\n",
    "maximumsalary_tags[0:10]"
   ]
  },
  {
   "cell_type": "code",
   "execution_count": 99,
   "id": "bd5cfc02",
   "metadata": {},
   "outputs": [
    {
     "data": {
      "text/plain": [
       "['₹ 25.0L\\n₹ 36.0L',\n",
       " '₹ 15.0L\\n₹ 25.5L',\n",
       " '₹ 14.1L\\n₹ 25.0L',\n",
       " '₹ 11.0L\\n₹ 22.0L',\n",
       " '₹ 11.0L\\n₹ 22.6L',\n",
       " '₹ 5.6L\\n₹ 26.2L',\n",
       " '₹ 10.0L\\n₹ 22.0L',\n",
       " '₹ 9.0L\\n₹ 20.0L',\n",
       " '₹ 8.3L\\n₹ 21.1L',\n",
       " '₹ 8.9L\\n₹ 21.0L']"
      ]
     },
     "execution_count": 99,
     "metadata": {},
     "output_type": "execute_result"
    }
   ],
   "source": [
    "for i in maximumsalary_tags:\n",
    "    maximumsalary=i.text\n",
    "    maximumsalary_list.append(maximumsalary)\n",
    "maximumsalary_list[0:10]"
   ]
  },
  {
   "cell_type": "code",
   "execution_count": 100,
   "id": "6216157d",
   "metadata": {},
   "outputs": [
    {
     "data": {
      "text/plain": [
       "[<selenium.webdriver.remote.webelement.WebElement (session=\"59980fa3b0914a5247bb6f390468062c\", element=\"4f033aab-5c14-41ad-92e5-da7ff2c29d19\")>,\n",
       " <selenium.webdriver.remote.webelement.WebElement (session=\"59980fa3b0914a5247bb6f390468062c\", element=\"f643461c-8986-455a-8734-1ca48ef829eb\")>,\n",
       " <selenium.webdriver.remote.webelement.WebElement (session=\"59980fa3b0914a5247bb6f390468062c\", element=\"39c7e139-1f4b-4c35-9483-709b6bd8bd3c\")>,\n",
       " <selenium.webdriver.remote.webelement.WebElement (session=\"59980fa3b0914a5247bb6f390468062c\", element=\"5a078c71-622e-4a51-9b19-fe746a4d29ae\")>,\n",
       " <selenium.webdriver.remote.webelement.WebElement (session=\"59980fa3b0914a5247bb6f390468062c\", element=\"2ac3a622-4e16-4314-afcc-392fad9d9e91\")>,\n",
       " <selenium.webdriver.remote.webelement.WebElement (session=\"59980fa3b0914a5247bb6f390468062c\", element=\"b1e6f986-6a33-43bb-bdc6-7da299a7a7a5\")>,\n",
       " <selenium.webdriver.remote.webelement.WebElement (session=\"59980fa3b0914a5247bb6f390468062c\", element=\"b6763616-d08d-4df8-97b8-aef918179cfd\")>,\n",
       " <selenium.webdriver.remote.webelement.WebElement (session=\"59980fa3b0914a5247bb6f390468062c\", element=\"363421d6-e7f6-4913-ae4f-4581192cffe3\")>,\n",
       " <selenium.webdriver.remote.webelement.WebElement (session=\"59980fa3b0914a5247bb6f390468062c\", element=\"46f3a2c8-2dff-47c1-8da9-37d950f43bd0\")>,\n",
       " <selenium.webdriver.remote.webelement.WebElement (session=\"59980fa3b0914a5247bb6f390468062c\", element=\"25005217-ce57-4e59-bf74-0fa08b4c10bb\")>]"
      ]
     },
     "execution_count": 100,
     "metadata": {},
     "output_type": "execute_result"
    }
   ],
   "source": [
    "experience_tags=driver.find_elements_by_xpath(\"//div[@class='salaries sbold-list-header']\")\n",
    "experience_tags[0:10]"
   ]
  },
  {
   "cell_type": "code",
   "execution_count": 101,
   "id": "7a1c5fdd",
   "metadata": {},
   "outputs": [
    {
     "data": {
      "text/plain": [
       "['Data Scientist\\n . \\n3 yrs exp',\n",
       " 'Data Scientist\\n . \\n3-4 yrs exp',\n",
       " 'Data Scientist\\n . \\n4 yrs exp',\n",
       " 'Data Scientist\\n . \\n2 yrs exp',\n",
       " 'Data Scientist\\n . \\n3-4 yrs exp',\n",
       " 'Data Scientist\\n . \\n3-4 yrs exp',\n",
       " 'Data Scientist\\n . \\n2-4 yrs exp',\n",
       " 'Data Scientist\\n . \\n2-4 yrs exp',\n",
       " 'Data Scientist\\n . \\n2-4 yrs exp',\n",
       " 'Data Scientist\\n . \\n4 yrs exp']"
      ]
     },
     "execution_count": 101,
     "metadata": {},
     "output_type": "execute_result"
    }
   ],
   "source": [
    "for i in experience_tags:\n",
    "    experience=i.text\n",
    "    experience_list.append(experience)\n",
    "experience_list[0:10]"
   ]
  },
  {
   "cell_type": "code",
   "execution_count": 104,
   "id": "2d86270e",
   "metadata": {},
   "outputs": [],
   "source": [
    "jobs=pd.DataFrame({})\n",
    "jobs['company']=company_names\n",
    "jobs['averagesalary']=averagesalary_list\n",
    "jobs['minimumsalary']=minimumsalary_list\n",
    "jobs['experience']=experience_list"
   ]
  },
  {
   "cell_type": "code",
   "execution_count": 105,
   "id": "3b134a2a",
   "metadata": {},
   "outputs": [
    {
     "data": {
      "text/html": [
       "<div>\n",
       "<style scoped>\n",
       "    .dataframe tbody tr th:only-of-type {\n",
       "        vertical-align: middle;\n",
       "    }\n",
       "\n",
       "    .dataframe tbody tr th {\n",
       "        vertical-align: top;\n",
       "    }\n",
       "\n",
       "    .dataframe thead th {\n",
       "        text-align: right;\n",
       "    }\n",
       "</style>\n",
       "<table border=\"1\" class=\"dataframe\">\n",
       "  <thead>\n",
       "    <tr style=\"text-align: right;\">\n",
       "      <th></th>\n",
       "      <th>company</th>\n",
       "      <th>averagesalary</th>\n",
       "      <th>minimumsalary</th>\n",
       "      <th>experience</th>\n",
       "    </tr>\n",
       "  </thead>\n",
       "  <tbody>\n",
       "    <tr>\n",
       "      <th>0</th>\n",
       "      <td>Walmart\\nbased on 12 salaries</td>\n",
       "      <td>₹ 30.2L</td>\n",
       "      <td>₹ 25.0L\\n₹ 36.0L</td>\n",
       "      <td>Data Scientist\\n . \\n3 yrs exp</td>\n",
       "    </tr>\n",
       "    <tr>\n",
       "      <th>1</th>\n",
       "      <td>Ab Inbev\\nbased on 33 salaries</td>\n",
       "      <td>₹ 20.6L</td>\n",
       "      <td>₹ 15.0L\\n₹ 25.5L</td>\n",
       "      <td>Data Scientist\\n . \\n3-4 yrs exp</td>\n",
       "    </tr>\n",
       "    <tr>\n",
       "      <th>2</th>\n",
       "      <td>American Express\\nbased on 10 salaries</td>\n",
       "      <td>₹ 19.9L</td>\n",
       "      <td>₹ 14.1L\\n₹ 25.0L</td>\n",
       "      <td>Data Scientist\\n . \\n4 yrs exp</td>\n",
       "    </tr>\n",
       "    <tr>\n",
       "      <th>3</th>\n",
       "      <td>ZS\\nbased on 15 salaries</td>\n",
       "      <td>₹ 16.7L</td>\n",
       "      <td>₹ 11.0L\\n₹ 22.0L</td>\n",
       "      <td>Data Scientist\\n . \\n2 yrs exp</td>\n",
       "    </tr>\n",
       "    <tr>\n",
       "      <th>4</th>\n",
       "      <td>Optum\\nbased on 33 salaries</td>\n",
       "      <td>₹ 16.1L</td>\n",
       "      <td>₹ 11.0L\\n₹ 22.6L</td>\n",
       "      <td>Data Scientist\\n . \\n3-4 yrs exp</td>\n",
       "    </tr>\n",
       "    <tr>\n",
       "      <th>5</th>\n",
       "      <td>Reliance Jio\\nbased on 21 salaries</td>\n",
       "      <td>₹ 15.7L</td>\n",
       "      <td>₹ 5.6L\\n₹ 26.2L</td>\n",
       "      <td>Data Scientist\\n . \\n3-4 yrs exp</td>\n",
       "    </tr>\n",
       "    <tr>\n",
       "      <th>6</th>\n",
       "      <td>Fractal Analytics\\nbased on 83 salaries</td>\n",
       "      <td>₹ 15.4L</td>\n",
       "      <td>₹ 10.0L\\n₹ 22.0L</td>\n",
       "      <td>Data Scientist\\n . \\n2-4 yrs exp</td>\n",
       "    </tr>\n",
       "    <tr>\n",
       "      <th>7</th>\n",
       "      <td>Tiger Analytics\\nbased on 50 salaries</td>\n",
       "      <td>₹ 14.8L</td>\n",
       "      <td>₹ 9.0L\\n₹ 20.0L</td>\n",
       "      <td>Data Scientist\\n . \\n2-4 yrs exp</td>\n",
       "    </tr>\n",
       "    <tr>\n",
       "      <th>8</th>\n",
       "      <td>UnitedHealth\\nbased on 57 salaries</td>\n",
       "      <td>₹ 14.0L</td>\n",
       "      <td>₹ 8.3L\\n₹ 21.1L</td>\n",
       "      <td>Data Scientist\\n . \\n2-4 yrs exp</td>\n",
       "    </tr>\n",
       "    <tr>\n",
       "      <th>9</th>\n",
       "      <td>EXL Service\\nbased on 10 salaries</td>\n",
       "      <td>₹ 13.3L</td>\n",
       "      <td>₹ 8.9L\\n₹ 21.0L</td>\n",
       "      <td>Data Scientist\\n . \\n4 yrs exp</td>\n",
       "    </tr>\n",
       "  </tbody>\n",
       "</table>\n",
       "</div>"
      ],
      "text/plain": [
       "                                   company averagesalary     minimumsalary  \\\n",
       "0            Walmart\\nbased on 12 salaries       ₹ 30.2L  ₹ 25.0L\\n₹ 36.0L   \n",
       "1           Ab Inbev\\nbased on 33 salaries       ₹ 20.6L  ₹ 15.0L\\n₹ 25.5L   \n",
       "2   American Express\\nbased on 10 salaries       ₹ 19.9L  ₹ 14.1L\\n₹ 25.0L   \n",
       "3                 ZS\\nbased on 15 salaries       ₹ 16.7L  ₹ 11.0L\\n₹ 22.0L   \n",
       "4              Optum\\nbased on 33 salaries       ₹ 16.1L  ₹ 11.0L\\n₹ 22.6L   \n",
       "5       Reliance Jio\\nbased on 21 salaries       ₹ 15.7L   ₹ 5.6L\\n₹ 26.2L   \n",
       "6  Fractal Analytics\\nbased on 83 salaries       ₹ 15.4L  ₹ 10.0L\\n₹ 22.0L   \n",
       "7    Tiger Analytics\\nbased on 50 salaries       ₹ 14.8L   ₹ 9.0L\\n₹ 20.0L   \n",
       "8       UnitedHealth\\nbased on 57 salaries       ₹ 14.0L   ₹ 8.3L\\n₹ 21.1L   \n",
       "9        EXL Service\\nbased on 10 salaries       ₹ 13.3L   ₹ 8.9L\\n₹ 21.0L   \n",
       "\n",
       "                         experience  \n",
       "0    Data Scientist\\n . \\n3 yrs exp  \n",
       "1  Data Scientist\\n . \\n3-4 yrs exp  \n",
       "2    Data Scientist\\n . \\n4 yrs exp  \n",
       "3    Data Scientist\\n . \\n2 yrs exp  \n",
       "4  Data Scientist\\n . \\n3-4 yrs exp  \n",
       "5  Data Scientist\\n . \\n3-4 yrs exp  \n",
       "6  Data Scientist\\n . \\n2-4 yrs exp  \n",
       "7  Data Scientist\\n . \\n2-4 yrs exp  \n",
       "8  Data Scientist\\n . \\n2-4 yrs exp  \n",
       "9    Data Scientist\\n . \\n4 yrs exp  "
      ]
     },
     "execution_count": 105,
     "metadata": {},
     "output_type": "execute_result"
    }
   ],
   "source": [
    "jobs[0:10]"
   ]
  },
  {
   "cell_type": "code",
   "execution_count": null,
   "id": "5ea1e427",
   "metadata": {},
   "outputs": [],
   "source": []
  }
 ],
 "metadata": {
  "kernelspec": {
   "display_name": "Python 3 (ipykernel)",
   "language": "python",
   "name": "python3"
  },
  "language_info": {
   "codemirror_mode": {
    "name": "ipython",
    "version": 3
   },
   "file_extension": ".py",
   "mimetype": "text/x-python",
   "name": "python",
   "nbconvert_exporter": "python",
   "pygments_lexer": "ipython3",
   "version": "3.9.7"
  }
 },
 "nbformat": 4,
 "nbformat_minor": 5
}

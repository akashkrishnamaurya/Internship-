{
 "cells": [
  {
   "cell_type": "code",
   "execution_count": 1,
   "id": "a6cc22fc",
   "metadata": {},
   "outputs": [
    {
     "name": "stdout",
     "output_type": "stream",
     "text": [
      "Requirement already satisfied: bs4 in c:\\programdata\\anaconda3\\lib\\site-packages (0.0.1)\n",
      "Requirement already satisfied: beautifulsoup4 in c:\\programdata\\anaconda3\\lib\\site-packages (from bs4) (4.10.0)\n",
      "Requirement already satisfied: soupsieve>1.2 in c:\\programdata\\anaconda3\\lib\\site-packages (from beautifulsoup4->bs4) (2.2.1)\n",
      "Requirement already satisfied: requests in c:\\programdata\\anaconda3\\lib\\site-packages (2.26.0)\n",
      "Requirement already satisfied: charset-normalizer~=2.0.0 in c:\\programdata\\anaconda3\\lib\\site-packages (from requests) (2.0.4)\n",
      "Requirement already satisfied: urllib3<1.27,>=1.21.1 in c:\\programdata\\anaconda3\\lib\\site-packages (from requests) (1.26.7)\n",
      "Requirement already satisfied: idna<4,>=2.5 in c:\\programdata\\anaconda3\\lib\\site-packages (from requests) (3.2)\n",
      "Requirement already satisfied: certifi>=2017.4.17 in c:\\programdata\\anaconda3\\lib\\site-packages (from requests) (2021.10.8)\n"
     ]
    }
   ],
   "source": [
    "!pip install bs4\n",
    "!pip install requests"
   ]
  },
  {
   "cell_type": "code",
   "execution_count": 29,
   "id": "7ae7f70f",
   "metadata": {},
   "outputs": [],
   "source": [
    "import pandas as pd\n",
    "import requests\n",
    "from bs4 import BeautifulSoup"
   ]
  },
  {
   "cell_type": "code",
   "execution_count": 30,
   "id": "ac297445",
   "metadata": {},
   "outputs": [
    {
     "data": {
      "text/plain": [
       "<Response [200]>"
      ]
     },
     "execution_count": 30,
     "metadata": {},
     "output_type": "execute_result"
    }
   ],
   "source": [
    "page = requests.get('https://www.cnbc.com/world/?region=world')\n",
    "page"
   ]
  },
  {
   "cell_type": "code",
   "execution_count": 31,
   "id": "73b89307",
   "metadata": {},
   "outputs": [],
   "source": [
    "soup = BeautifulSoup(page.content, \"html.parser\")"
   ]
  },
  {
   "cell_type": "code",
   "execution_count": 44,
   "id": "3284b1ac",
   "metadata": {},
   "outputs": [],
   "source": [
    "headline_detail = []\n",
    "timing = []\n",
    "newslink = []"
   ]
  },
  {
   "cell_type": "code",
   "execution_count": 45,
   "id": "bc06cff2",
   "metadata": {},
   "outputs": [],
   "source": [
    "headline_data = soup.findAll('div', attrs = {'undefined LatestNews-isHomePage LatestNews-isIntlHomepage'})"
   ]
  },
  {
   "cell_type": "code",
   "execution_count": 46,
   "id": "0347bcf6",
   "metadata": {},
   "outputs": [],
   "source": [
    "for store in headline_data:\n",
    "    detail = store.text\n",
    "    headline_detail.append(detail)\n",
    "    \n",
    "    time = store.find('span', class_ = 'LatestNews-wrapper')\n",
    "    timing.append(time)\n",
    "    "
   ]
  },
  {
   "cell_type": "code",
   "execution_count": 48,
   "id": "1a7f5fcf",
   "metadata": {},
   "outputs": [
    {
     "data": {
      "text/plain": [
       "\"Latest News15 Min AgoHow this 34-year-old balanced a now six-figure Etsy hustle with a full-time job28 Min AgoFed Vice Chair Brainard says it's hard to see the case for Fed pausing hikes 29 Min AgoStarbucks union creates $1 million fund to cover lost pay for striking baristas39 Min AgoDo Kwon unlikely to face prison for $60 billion UST wipeout, but could pay dearly54 Min Ago'I work just 2 hours a day': 24-year-old who makes $8,000/month in passive income shares her best advice1 Hour AgoConstance Wu: New grads should see ‘failure as opportunity rather than defeat’1 Hour AgoWhat Cramer is watching Thursday — Chewy soars, Sandberg exits, Solana tumbles1 Hour AgoTiger Global drops 14% in May during the brutal tech sell-off1 Hour AgoMicrosoft cuts fourth-quarter guidance, cites unfavorable foreign exchange rates1 Hour AgoAngela Merkel breaks silence on Ukraine, calls Russia's war 'barbaric'2 Hours AgoFord's U.S. sales fell just 4.5% in May amid hot demand for EVs and pickups2 Hours AgoThe market wants a soft landing for the economy. Why it may not get it2 Hours AgoFord to add over 6,000 U.S. jobs to build more EVs and vans, new Mustang 2 Hours AgoAmazon is 'obstructing' probe into deadly warehouse collapse, House committee says2 Hours AgoWhy hydropower is the forgotten giant of clean energy2 Hours AgoThursday's top analyst calls: Netflix, Snap, Tesla, Home Depot, GameStop, Twilio3 Hours AgoPrivate payrolls up 128,000 in May, the slowest growth of the recovery, ADP says3 Hours AgoBarclays downgrades Twilio, says company may slow growth and focus on profits3 Hours AgoPeople spend $133 more each month on subscriptions than they realize3 Hours AgoStocks making the biggest moves premarket: Hormel, Ciena, GameStop and more4 Hours AgoUBS says Generac is a top pick with more than 80% upside4 Hours AgoWalmart is using its thousands of stores to battle Amazon for e-commerce market share4 Hours Ago5 things to know before the stock market opens Thursday4 Hours AgoD.A. Davidson sees more downside for Rivian shares as ramps up production5 Hours AgoPiper Sandler downgrades Pinterest and Snap, says stocks won't bounce back soon5 Hours AgoRussia takes majority control of key Ukrainian city; Moscow calls U.S. weapons package 'direct confrontation' 7 Hours AgoTreasury yields dip as data show slowest job growth in pandemic recovery8 Hours AgoTerraUSD collapse will 'probably be the end' of most algorithmic stablecoins, crypto exec says8 Hours AgoIdeas about recycling and nature are changing how firms do business8 Hours AgoEuropean stocks rise as traders assess data, OPEC meetingView More\""
      ]
     },
     "execution_count": 48,
     "metadata": {},
     "output_type": "execute_result"
    }
   ],
   "source": [
    "detail"
   ]
  },
  {
   "cell_type": "code",
   "execution_count": 97,
   "id": "1cd58291",
   "metadata": {},
   "outputs": [],
   "source": [
    "import pandas as pd\n",
    "import requests\n",
    "from bs4 import BeautifulSoup"
   ]
  },
  {
   "cell_type": "code",
   "execution_count": 98,
   "id": "3403cc17",
   "metadata": {},
   "outputs": [
    {
     "data": {
      "text/plain": [
       "<Response [200]>"
      ]
     },
     "execution_count": 98,
     "metadata": {},
     "output_type": "execute_result"
    }
   ],
   "source": [
    "page = requests.get('https://www.dineout.co.in/delhi-restaurants/buffet-special')\n",
    "page"
   ]
  },
  {
   "cell_type": "code",
   "execution_count": 99,
   "id": "e2e40e11",
   "metadata": {},
   "outputs": [],
   "source": [
    "soup = BeautifulSoup(page.content, \"html.parser\")"
   ]
  },
  {
   "cell_type": "code",
   "execution_count": 110,
   "id": "34ff26f1",
   "metadata": {},
   "outputs": [],
   "source": [
    "restaurant_name = []\n",
    "cuisine = []\n",
    "location = []\n",
    "ratings = []\n",
    "imageurl = []"
   ]
  },
  {
   "cell_type": "code",
   "execution_count": 114,
   "id": "644feb54",
   "metadata": {},
   "outputs": [],
   "source": [
    "restaurant_data = soup.findAll('div', attrs= {'class': 'restnt-detail-wrap'})"
   ]
  },
  {
   "cell_type": "code",
   "execution_count": 115,
   "id": "3ab92335",
   "metadata": {},
   "outputs": [],
   "source": [
    "for store in restaurant_data:\n",
    "    name = store.text\n",
    "    restaurant_name.append(name)"
   ]
  },
  {
   "cell_type": "code",
   "execution_count": 116,
   "id": "d1e23c01",
   "metadata": {},
   "outputs": [
    {
     "data": {
      "text/plain": [
       "'4.3232 votesGlasshouseDoubleTree By Hilton Gurugram Baani Square,Sector 50, Gurgaon₹ 3,400 for 2 (approx) | European, Italian, Asian, ContinentalDineout Pay'"
      ]
     },
     "execution_count": 116,
     "metadata": {},
     "output_type": "execute_result"
    }
   ],
   "source": [
    "name"
   ]
  },
  {
   "cell_type": "code",
   "execution_count": null,
   "id": "4ce659c7",
   "metadata": {},
   "outputs": [],
   "source": []
  },
  {
   "cell_type": "code",
   "execution_count": null,
   "id": "da83721d",
   "metadata": {},
   "outputs": [],
   "source": []
  }
 ],
 "metadata": {
  "kernelspec": {
   "display_name": "Python 3 (ipykernel)",
   "language": "python",
   "name": "python3"
  },
  "language_info": {
   "codemirror_mode": {
    "name": "ipython",
    "version": 3
   },
   "file_extension": ".py",
   "mimetype": "text/x-python",
   "name": "python",
   "nbconvert_exporter": "python",
   "pygments_lexer": "ipython3",
   "version": "3.9.7"
  }
 },
 "nbformat": 4,
 "nbformat_minor": 5
}
